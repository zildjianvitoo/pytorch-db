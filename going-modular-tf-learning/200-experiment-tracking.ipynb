{
 "cells": [
  {
   "cell_type": "code",
   "execution_count": 1,
   "metadata": {},
   "outputs": [],
   "source": [
    "import torch\n",
    "import torchvision"
   ]
  },
  {
   "cell_type": "code",
   "execution_count": 2,
   "metadata": {},
   "outputs": [],
   "source": [
    "device = \"cuda\" if torch.cuda.is_available() else \"cpu\""
   ]
  },
  {
   "cell_type": "code",
   "execution_count": 3,
   "metadata": {},
   "outputs": [],
   "source": [
    "def set_seeds(seed: int=42):\n",
    "    torch.manual_seed(seed)\n",
    "    torch.random.manual_seed(seed)"
   ]
  },
  {
   "cell_type": "code",
   "execution_count": 4,
   "metadata": {},
   "outputs": [],
   "source": [
    "import os\n",
    "import zipfile\n",
    "from pathlib import Path\n",
    "import requests\n",
    "\n",
    "def get_data(source:str, destination: str, remove_source: bool = True) -> Path:\n",
    "    data_path = Path(\"data\")\n",
    "    image_path = data_path / destination\n",
    "\n",
    "    if image_path.is_dir():\n",
    "        print(\"Dataset sudah ada\")\n",
    "    else:\n",
    "        print(\"Dataset belum ada,mendownload dataset...\")\n",
    "\n",
    "        image_path.mkdir(parents=True,exist_ok=True)\n",
    "\n",
    "        target_file = Path(source).name\n",
    "\n",
    "        with open(data_path / target_file, \"wb\") as f:\n",
    "            res = requests.get(source)\n",
    "            f.write(res.content)\n",
    "\n",
    "        with zipfile.ZipFile(data_path / target_file, \"r\") as zf:\n",
    "            print(\"Mengektrak data...\")\n",
    "            zf.extractall(image_path)\n",
    "        \n",
    "        if remove_source:\n",
    "                os.remove(data_path / target_file)\n",
    "\n",
    "    return image_path"
   ]
  },
  {
   "cell_type": "code",
   "execution_count": 5,
   "metadata": {},
   "outputs": [
    {
     "name": "stdout",
     "output_type": "stream",
     "text": [
      "Dataset sudah ada\n"
     ]
    },
    {
     "data": {
      "text/plain": [
       "WindowsPath('data/pizza_steak_sushi')"
      ]
     },
     "execution_count": 5,
     "metadata": {},
     "output_type": "execute_result"
    }
   ],
   "source": [
    "image_path  = get_data(\n",
    "    source=\"https://github.com/mrdbourke/pytorch-deep-learning/raw/main/data/pizza_steak_sushi_20_percent.zip\",\n",
    "    destination=\"pizza_steak_sushi\"\n",
    ")\n",
    "\n",
    "image_path"
   ]
  },
  {
   "cell_type": "code",
   "execution_count": 6,
   "metadata": {},
   "outputs": [],
   "source": [
    "from torchvision.transforms import v2\n",
    "from torchvision.transforms.functional import InterpolationMode\n",
    "\n",
    "manual_transforms = v2.Compose(\n",
    "    [\n",
    "        v2.ToImage(),\n",
    "        v2.Resize(size=(256, 256), interpolation=InterpolationMode.BICUBIC),\n",
    "        v2.CenterCrop(size=(224, 224)),\n",
    "        v2.ToDtype(torch.float32, scale=True),\n",
    "        v2.Normalize(mean=[0.485, 0.456, 0.406], std=[0.229, 0.224, 0.225]),\n",
    "    ]\n",
    ")"
   ]
  },
  {
   "cell_type": "code",
   "execution_count": 7,
   "metadata": {},
   "outputs": [
    {
     "data": {
      "text/plain": [
       "(<torch.utils.data.dataloader.DataLoader at 0x2287106cc40>,\n",
       " <torch.utils.data.dataloader.DataLoader at 0x2287106ce20>,\n",
       " ['pizza', 'steak', 'sushi'])"
      ]
     },
     "execution_count": 7,
     "metadata": {},
     "output_type": "execute_result"
    }
   ],
   "source": [
    "from going_modular.data_setup import create_dataloaders\n",
    "\n",
    "train_dir = image_path / \"train\"\n",
    "test_dir = image_path / \"test\"\n",
    "BATCH_SIZE = 32\n",
    "\n",
    "train_dataloader, test_dataloader, class_names  = create_dataloaders(train_dir,test_dir,manual_transforms,manual_transforms,BATCH_SIZE)\n",
    "\n",
    "train_dataloader, test_dataloader, class_names"
   ]
  },
  {
   "cell_type": "code",
   "execution_count": 8,
   "metadata": {},
   "outputs": [],
   "source": [
    "from torchvision.models.efficientnet import EfficientNet_B0_Weights\n",
    "\n",
    "weights = EfficientNet_B0_Weights.DEFAULT\n",
    "\n",
    "auto_transforms = weights.transforms()"
   ]
  },
  {
   "cell_type": "code",
   "execution_count": 9,
   "metadata": {},
   "outputs": [
    {
     "name": "stdout",
     "output_type": "stream",
     "text": [
      "Automatically Created Transform ImageClassification(\n",
      "    crop_size=[224]\n",
      "    resize_size=[256]\n",
      "    mean=[0.485, 0.456, 0.406]\n",
      "    std=[0.229, 0.224, 0.225]\n",
      "    interpolation=InterpolationMode.BICUBIC\n",
      ")\n"
     ]
    },
    {
     "data": {
      "text/plain": [
       "(<torch.utils.data.dataloader.DataLoader at 0x2287106fdc0>,\n",
       " <torch.utils.data.dataloader.DataLoader at 0x2287106fdf0>,\n",
       " ['pizza', 'steak', 'sushi'])"
      ]
     },
     "execution_count": 9,
     "metadata": {},
     "output_type": "execute_result"
    }
   ],
   "source": [
    "train_dataloader, test_dataloader, class_names = create_dataloaders(\n",
    "    train_dir, test_dir, auto_transforms, auto_transforms, BATCH_SIZE\n",
    ")\n",
    "\n",
    "print(f\"Automatically Created Transform {auto_transforms}\")\n",
    "train_dataloader, test_dataloader, class_names"
   ]
  },
  {
   "cell_type": "code",
   "execution_count": 10,
   "metadata": {},
   "outputs": [
    {
     "name": "stderr",
     "output_type": "stream",
     "text": [
      "c:\\Coding\\python-projects\\pytorch-db\\.venv\\lib\\site-packages\\torchvision\\models\\_utils.py:223: UserWarning: Arguments other than a weight enum or `None` for 'weights' are deprecated since 0.13 and may be removed in the future. The current behavior is equivalent to passing `weights=EfficientNet_B0_Weights.IMAGENET1K_V1`. You can also use `weights=EfficientNet_B0_Weights.DEFAULT` to get the most up-to-date weights.\n",
      "  warnings.warn(msg)\n"
     ]
    }
   ],
   "source": [
    "from torchvision.models.efficientnet import efficientnet_b0, EfficientNet_B0_Weights\n",
    "\n",
    "model = efficientnet_b0(weights=EfficientNet_B0_Weights).to(device)"
   ]
  },
  {
   "cell_type": "code",
   "execution_count": 11,
   "metadata": {},
   "outputs": [
    {
     "data": {
      "text/plain": [
       "==================================================================================================================================\n",
       "Layer (type:depth-idx)                                  Input Shape               Param #                   Trainable\n",
       "==================================================================================================================================\n",
       "EfficientNet                                            [32, 3, 224, 224]         --                        True\n",
       "├─Sequential: 1-1                                       [32, 3, 224, 224]         --                        True\n",
       "│    └─Conv2dNormActivation: 2-1                        [32, 3, 224, 224]         --                        True\n",
       "│    │    └─Conv2d: 3-1                                 [32, 3, 224, 224]         864                       True\n",
       "│    │    └─BatchNorm2d: 3-2                            [32, 32, 112, 112]        64                        True\n",
       "│    │    └─SiLU: 3-3                                   [32, 32, 112, 112]        --                        --\n",
       "│    └─Sequential: 2-2                                  [32, 32, 112, 112]        --                        True\n",
       "│    │    └─MBConv: 3-4                                 [32, 32, 112, 112]        1,448                     True\n",
       "│    └─Sequential: 2-3                                  [32, 16, 112, 112]        --                        True\n",
       "│    │    └─MBConv: 3-5                                 [32, 16, 112, 112]        6,004                     True\n",
       "│    │    └─MBConv: 3-6                                 [32, 24, 56, 56]          10,710                    True\n",
       "│    └─Sequential: 2-4                                  [32, 24, 56, 56]          --                        True\n",
       "│    │    └─MBConv: 3-7                                 [32, 24, 56, 56]          15,350                    True\n",
       "│    │    └─MBConv: 3-8                                 [32, 40, 28, 28]          31,290                    True\n",
       "│    └─Sequential: 2-5                                  [32, 40, 28, 28]          --                        True\n",
       "│    │    └─MBConv: 3-9                                 [32, 40, 28, 28]          37,130                    True\n",
       "│    │    └─MBConv: 3-10                                [32, 80, 14, 14]          102,900                   True\n",
       "│    │    └─MBConv: 3-11                                [32, 80, 14, 14]          102,900                   True\n",
       "│    └─Sequential: 2-6                                  [32, 80, 14, 14]          --                        True\n",
       "│    │    └─MBConv: 3-12                                [32, 80, 14, 14]          126,004                   True\n",
       "│    │    └─MBConv: 3-13                                [32, 112, 14, 14]         208,572                   True\n",
       "│    │    └─MBConv: 3-14                                [32, 112, 14, 14]         208,572                   True\n",
       "│    └─Sequential: 2-7                                  [32, 112, 14, 14]         --                        True\n",
       "│    │    └─MBConv: 3-15                                [32, 112, 14, 14]         262,492                   True\n",
       "│    │    └─MBConv: 3-16                                [32, 192, 7, 7]           587,952                   True\n",
       "│    │    └─MBConv: 3-17                                [32, 192, 7, 7]           587,952                   True\n",
       "│    │    └─MBConv: 3-18                                [32, 192, 7, 7]           587,952                   True\n",
       "│    └─Sequential: 2-8                                  [32, 192, 7, 7]           --                        True\n",
       "│    │    └─MBConv: 3-19                                [32, 192, 7, 7]           717,232                   True\n",
       "│    └─Conv2dNormActivation: 2-9                        [32, 320, 7, 7]           --                        True\n",
       "│    │    └─Conv2d: 3-20                                [32, 320, 7, 7]           409,600                   True\n",
       "│    │    └─BatchNorm2d: 3-21                           [32, 1280, 7, 7]          2,560                     True\n",
       "│    │    └─SiLU: 3-22                                  [32, 1280, 7, 7]          --                        --\n",
       "├─AdaptiveAvgPool2d: 1-2                                [32, 1280, 7, 7]          --                        --\n",
       "├─Sequential: 1-3                                       [32, 1280]                --                        True\n",
       "│    └─Dropout: 2-10                                    [32, 1280]                --                        --\n",
       "│    └─Linear: 2-11                                     [32, 1280]                1,281,000                 True\n",
       "==================================================================================================================================\n",
       "Total params: 5,288,548\n",
       "Trainable params: 5,288,548\n",
       "Non-trainable params: 0\n",
       "Total mult-adds (G): 12.35\n",
       "==================================================================================================================================\n",
       "Input size (MB): 19.27\n",
       "Forward/backward pass size (MB): 3452.35\n",
       "Params size (MB): 21.15\n",
       "Estimated Total Size (MB): 3492.77\n",
       "=================================================================================================================================="
      ]
     },
     "execution_count": 11,
     "metadata": {},
     "output_type": "execute_result"
    }
   ],
   "source": [
    "from torchinfo import summary\n",
    "\n",
    "summary(\n",
    "    model,\n",
    "    input_size=(BATCH_SIZE, 3, 224, 224),\n",
    "    col_names=[\"input_size\", \"num_params\", \"trainable\"],\n",
    ")"
   ]
  },
  {
   "cell_type": "code",
   "execution_count": 28,
   "metadata": {},
   "outputs": [],
   "source": [
    "# for param in model.features.parameters():\n",
    "#     param.requires_grad = False"
   ]
  },
  {
   "cell_type": "code",
   "execution_count": 29,
   "metadata": {},
   "outputs": [
    {
     "data": {
      "text/plain": [
       "==================================================================================================================================\n",
       "Layer (type:depth-idx)                                  Input Shape               Param #                   Trainable\n",
       "==================================================================================================================================\n",
       "EfficientNet                                            [32, 3, 224, 224]         --                        Partial\n",
       "├─Sequential: 1-1                                       [32, 3, 224, 224]         --                        False\n",
       "│    └─Conv2dNormActivation: 2-1                        [32, 3, 224, 224]         --                        False\n",
       "│    │    └─Conv2d: 3-1                                 [32, 3, 224, 224]         (864)                     False\n",
       "│    │    └─BatchNorm2d: 3-2                            [32, 32, 112, 112]        (64)                      False\n",
       "│    │    └─SiLU: 3-3                                   [32, 32, 112, 112]        --                        --\n",
       "│    └─Sequential: 2-2                                  [32, 32, 112, 112]        --                        False\n",
       "│    │    └─MBConv: 3-4                                 [32, 32, 112, 112]        (1,448)                   False\n",
       "│    └─Sequential: 2-3                                  [32, 16, 112, 112]        --                        False\n",
       "│    │    └─MBConv: 3-5                                 [32, 16, 112, 112]        (6,004)                   False\n",
       "│    │    └─MBConv: 3-6                                 [32, 24, 56, 56]          (10,710)                  False\n",
       "│    └─Sequential: 2-4                                  [32, 24, 56, 56]          --                        False\n",
       "│    │    └─MBConv: 3-7                                 [32, 24, 56, 56]          (15,350)                  False\n",
       "│    │    └─MBConv: 3-8                                 [32, 40, 28, 28]          (31,290)                  False\n",
       "│    └─Sequential: 2-5                                  [32, 40, 28, 28]          --                        False\n",
       "│    │    └─MBConv: 3-9                                 [32, 40, 28, 28]          (37,130)                  False\n",
       "│    │    └─MBConv: 3-10                                [32, 80, 14, 14]          (102,900)                 False\n",
       "│    │    └─MBConv: 3-11                                [32, 80, 14, 14]          (102,900)                 False\n",
       "│    └─Sequential: 2-6                                  [32, 80, 14, 14]          --                        False\n",
       "│    │    └─MBConv: 3-12                                [32, 80, 14, 14]          (126,004)                 False\n",
       "│    │    └─MBConv: 3-13                                [32, 112, 14, 14]         (208,572)                 False\n",
       "│    │    └─MBConv: 3-14                                [32, 112, 14, 14]         (208,572)                 False\n",
       "│    └─Sequential: 2-7                                  [32, 112, 14, 14]         --                        False\n",
       "│    │    └─MBConv: 3-15                                [32, 112, 14, 14]         (262,492)                 False\n",
       "│    │    └─MBConv: 3-16                                [32, 192, 7, 7]           (587,952)                 False\n",
       "│    │    └─MBConv: 3-17                                [32, 192, 7, 7]           (587,952)                 False\n",
       "│    │    └─MBConv: 3-18                                [32, 192, 7, 7]           (587,952)                 False\n",
       "│    └─Sequential: 2-8                                  [32, 192, 7, 7]           --                        False\n",
       "│    │    └─MBConv: 3-19                                [32, 192, 7, 7]           (717,232)                 False\n",
       "│    └─Conv2dNormActivation: 2-9                        [32, 320, 7, 7]           --                        False\n",
       "│    │    └─Conv2d: 3-20                                [32, 320, 7, 7]           (409,600)                 False\n",
       "│    │    └─BatchNorm2d: 3-21                           [32, 1280, 7, 7]          (2,560)                   False\n",
       "│    │    └─SiLU: 3-22                                  [32, 1280, 7, 7]          --                        --\n",
       "├─AdaptiveAvgPool2d: 1-2                                [32, 1280, 7, 7]          --                        --\n",
       "├─Sequential: 1-3                                       [32, 1280]                --                        True\n",
       "│    └─Dropout: 2-10                                    [32, 1280]                --                        --\n",
       "│    └─Linear: 2-11                                     [32, 1280]                3,843                     True\n",
       "==================================================================================================================================\n",
       "Total params: 4,011,391\n",
       "Trainable params: 3,843\n",
       "Non-trainable params: 4,007,548\n",
       "Total mult-adds (G): 12.31\n",
       "==================================================================================================================================\n",
       "Input size (MB): 19.27\n",
       "Forward/backward pass size (MB): 3452.09\n",
       "Params size (MB): 16.05\n",
       "Estimated Total Size (MB): 3487.41\n",
       "=================================================================================================================================="
      ]
     },
     "execution_count": 29,
     "metadata": {},
     "output_type": "execute_result"
    }
   ],
   "source": [
    "summary(\n",
    "    model,\n",
    "    input_size=(BATCH_SIZE, 3, 224, 224),\n",
    "    col_names=[\"input_size\", \"num_params\", \"trainable\"],\n",
    ")"
   ]
  },
  {
   "cell_type": "code",
   "execution_count": 30,
   "metadata": {},
   "outputs": [
    {
     "data": {
      "text/plain": [
       "Sequential(\n",
       "  (0): Dropout(p=0.2, inplace=True)\n",
       "  (1): Linear(in_features=1280, out_features=3, bias=True)\n",
       ")"
      ]
     },
     "execution_count": 30,
     "metadata": {},
     "output_type": "execute_result"
    }
   ],
   "source": [
    "model.classifier"
   ]
  },
  {
   "cell_type": "code",
   "execution_count": 31,
   "metadata": {},
   "outputs": [
    {
     "data": {
      "text/plain": [
       "Sequential(\n",
       "  (0): Dropout(p=0.2, inplace=True)\n",
       "  (1): Linear(in_features=1280, out_features=3, bias=True)\n",
       ")"
      ]
     },
     "execution_count": 31,
     "metadata": {},
     "output_type": "execute_result"
    }
   ],
   "source": [
    "from torch import nn\n",
    "\n",
    "set_seeds(42)\n",
    "\n",
    "model.classifier = nn.Sequential(\n",
    "    nn.Dropout(p=0.2, inplace=True),\n",
    "    nn.Linear(in_features=1280, out_features=len(class_names), bias=True)\n",
    ").to(device)\n",
    "model.classifier"
   ]
  },
  {
   "cell_type": "code",
   "execution_count": 32,
   "metadata": {},
   "outputs": [
    {
     "data": {
      "text/plain": [
       "=======================================================================================================================================\n",
       "Layer (type (var_name))                                      Output Shape              Param #                   Trainable\n",
       "=======================================================================================================================================\n",
       "EfficientNet (EfficientNet)                                  [32, 3]                   --                        Partial\n",
       "├─Sequential (features)                                      [32, 1280, 7, 7]          --                        False\n",
       "│    └─Conv2dNormActivation (0)                              [32, 32, 112, 112]        --                        False\n",
       "│    │    └─Conv2d (0)                                       [32, 32, 112, 112]        (864)                     False\n",
       "│    │    └─BatchNorm2d (1)                                  [32, 32, 112, 112]        (64)                      False\n",
       "│    │    └─SiLU (2)                                         [32, 32, 112, 112]        --                        --\n",
       "│    └─Sequential (1)                                        [32, 16, 112, 112]        --                        False\n",
       "│    │    └─MBConv (0)                                       [32, 16, 112, 112]        (1,448)                   False\n",
       "│    └─Sequential (2)                                        [32, 24, 56, 56]          --                        False\n",
       "│    │    └─MBConv (0)                                       [32, 24, 56, 56]          (6,004)                   False\n",
       "│    │    └─MBConv (1)                                       [32, 24, 56, 56]          (10,710)                  False\n",
       "│    └─Sequential (3)                                        [32, 40, 28, 28]          --                        False\n",
       "│    │    └─MBConv (0)                                       [32, 40, 28, 28]          (15,350)                  False\n",
       "│    │    └─MBConv (1)                                       [32, 40, 28, 28]          (31,290)                  False\n",
       "│    └─Sequential (4)                                        [32, 80, 14, 14]          --                        False\n",
       "│    │    └─MBConv (0)                                       [32, 80, 14, 14]          (37,130)                  False\n",
       "│    │    └─MBConv (1)                                       [32, 80, 14, 14]          (102,900)                 False\n",
       "│    │    └─MBConv (2)                                       [32, 80, 14, 14]          (102,900)                 False\n",
       "│    └─Sequential (5)                                        [32, 112, 14, 14]         --                        False\n",
       "│    │    └─MBConv (0)                                       [32, 112, 14, 14]         (126,004)                 False\n",
       "│    │    └─MBConv (1)                                       [32, 112, 14, 14]         (208,572)                 False\n",
       "│    │    └─MBConv (2)                                       [32, 112, 14, 14]         (208,572)                 False\n",
       "│    └─Sequential (6)                                        [32, 192, 7, 7]           --                        False\n",
       "│    │    └─MBConv (0)                                       [32, 192, 7, 7]           (262,492)                 False\n",
       "│    │    └─MBConv (1)                                       [32, 192, 7, 7]           (587,952)                 False\n",
       "│    │    └─MBConv (2)                                       [32, 192, 7, 7]           (587,952)                 False\n",
       "│    │    └─MBConv (3)                                       [32, 192, 7, 7]           (587,952)                 False\n",
       "│    └─Sequential (7)                                        [32, 320, 7, 7]           --                        False\n",
       "│    │    └─MBConv (0)                                       [32, 320, 7, 7]           (717,232)                 False\n",
       "│    └─Conv2dNormActivation (8)                              [32, 1280, 7, 7]          --                        False\n",
       "│    │    └─Conv2d (0)                                       [32, 1280, 7, 7]          (409,600)                 False\n",
       "│    │    └─BatchNorm2d (1)                                  [32, 1280, 7, 7]          (2,560)                   False\n",
       "│    │    └─SiLU (2)                                         [32, 1280, 7, 7]          --                        --\n",
       "├─AdaptiveAvgPool2d (avgpool)                                [32, 1280, 1, 1]          --                        --\n",
       "├─Sequential (classifier)                                    [32, 3]                   --                        True\n",
       "│    └─Dropout (0)                                           [32, 1280]                --                        --\n",
       "│    └─Linear (1)                                            [32, 3]                   3,843                     True\n",
       "=======================================================================================================================================\n",
       "Total params: 4,011,391\n",
       "Trainable params: 3,843\n",
       "Non-trainable params: 4,007,548\n",
       "Total mult-adds (G): 12.31\n",
       "=======================================================================================================================================\n",
       "Input size (MB): 19.27\n",
       "Forward/backward pass size (MB): 3452.09\n",
       "Params size (MB): 16.05\n",
       "Estimated Total Size (MB): 3487.41\n",
       "======================================================================================================================================="
      ]
     },
     "execution_count": 32,
     "metadata": {},
     "output_type": "execute_result"
    }
   ],
   "source": [
    "summary(model, input_size=(BATCH_SIZE, 3, 224, 224),col_names=[\"output_size\",\"num_params\",\"trainable\"], row_settings=[\"var_names\"])"
   ]
  },
  {
   "cell_type": "code",
   "execution_count": 33,
   "metadata": {},
   "outputs": [],
   "source": [
    "from torchmetrics import Accuracy\n",
    "\n",
    "loss_fn = nn.CrossEntropyLoss()\n",
    "acc_fn = Accuracy(task=\"multiclass\",num_classes=len(class_names)).to(device)\n",
    "optimizer = torch.optim.Adam(params=model.parameters(),lr=0.001)"
   ]
  },
  {
   "cell_type": "code",
   "execution_count": 34,
   "metadata": {},
   "outputs": [],
   "source": [
    "from torch.utils.tensorboard import SummaryWriter\n",
    "\n",
    "writer = SummaryWriter()"
   ]
  },
  {
   "cell_type": "code",
   "execution_count": 35,
   "metadata": {},
   "outputs": [
    {
     "name": "stdout",
     "output_type": "stream",
     "text": [
      "\n",
      "Epoch: 0\n"
     ]
    },
    {
     "name": "stderr",
     "output_type": "stream",
     "text": [
      "                                                                            \r"
     ]
    },
    {
     "name": "stdout",
     "output_type": "stream",
     "text": [
      "Train Loss: 0.0780 | Train Acc: 0.9844\n",
      "Test Loss: 0.1364 | Test Acc: 0.9400\n",
      "\n",
      "Epoch: 1\n"
     ]
    },
    {
     "name": "stderr",
     "output_type": "stream",
     "text": [
      "                                                                             \r"
     ]
    },
    {
     "name": "stdout",
     "output_type": "stream",
     "text": [
      "Train Loss: 0.0470 | Train Acc: 0.9822\n",
      "Test Loss: 0.1348 | Test Acc: 0.9400\n",
      "\n",
      "Epoch: 2\n"
     ]
    },
    {
     "name": "stderr",
     "output_type": "stream",
     "text": [
      "                                                                             \r"
     ]
    },
    {
     "name": "stdout",
     "output_type": "stream",
     "text": [
      "Train Loss: 0.0354 | Train Acc: 0.9911\n",
      "Test Loss: 0.1374 | Test Acc: 0.9400\n",
      "\n",
      "Epoch: 3\n"
     ]
    },
    {
     "name": "stderr",
     "output_type": "stream",
     "text": [
      "                                                                            \r"
     ]
    },
    {
     "name": "stdout",
     "output_type": "stream",
     "text": [
      "Train Loss: 0.2919 | Train Acc: 0.9822\n",
      "Test Loss: 0.1464 | Test Acc: 0.9467\n",
      "\n",
      "Epoch: 4\n"
     ]
    },
    {
     "name": "stderr",
     "output_type": "stream",
     "text": [
      "                                                                             \r"
     ]
    },
    {
     "name": "stdout",
     "output_type": "stream",
     "text": [
      "Train Loss: 0.0508 | Train Acc: 0.9822\n",
      "Test Loss: 0.1343 | Test Acc: 0.9400\n",
      "\n",
      "Epoch: 5\n"
     ]
    },
    {
     "name": "stderr",
     "output_type": "stream",
     "text": [
      "                                                                            \r"
     ]
    },
    {
     "name": "stdout",
     "output_type": "stream",
     "text": [
      "Train Loss: 0.0385 | Train Acc: 0.9889\n",
      "Test Loss: 0.1124 | Test Acc: 0.9600\n",
      "\n",
      "Epoch: 6\n"
     ]
    },
    {
     "name": "stderr",
     "output_type": "stream",
     "text": [
      "                                                                            \r"
     ]
    },
    {
     "name": "stdout",
     "output_type": "stream",
     "text": [
      "Train Loss: 0.0966 | Train Acc: 0.9889\n",
      "Test Loss: 0.1151 | Test Acc: 0.9600\n",
      "\n",
      "Epoch: 7\n"
     ]
    },
    {
     "name": "stderr",
     "output_type": "stream",
     "text": [
      "                                                                            \r"
     ]
    },
    {
     "name": "stdout",
     "output_type": "stream",
     "text": [
      "Train Loss: 0.2665 | Train Acc: 0.9711\n",
      "Test Loss: 0.1166 | Test Acc: 0.9600\n",
      "\n",
      "Epoch: 8\n"
     ]
    },
    {
     "name": "stderr",
     "output_type": "stream",
     "text": [
      "                                                                            \r"
     ]
    },
    {
     "name": "stdout",
     "output_type": "stream",
     "text": [
      "Train Loss: 0.0401 | Train Acc: 0.9933\n",
      "Test Loss: 0.1287 | Test Acc: 0.9400\n",
      "\n",
      "Epoch: 9\n"
     ]
    },
    {
     "name": "stderr",
     "output_type": "stream",
     "text": [
      "                                                                             "
     ]
    },
    {
     "name": "stdout",
     "output_type": "stream",
     "text": [
      "Train Loss: 0.0113 | Train Acc: 0.9978\n",
      "Test Loss: 0.1214 | Test Acc: 0.9600\n"
     ]
    },
    {
     "name": "stderr",
     "output_type": "stream",
     "text": [
      "\r"
     ]
    }
   ],
   "source": [
    "from going_modular.engine import train_model \n",
    "\n",
    "\n",
    "## TODO: buat func trainmodel sendiri,panggil func step saja (cache problem, atau pass writer saja ke func train_model)\n",
    "results = train_model(model,train_dataloader,test_dataloader,loss_fn,acc_fn,optimizer,writer,device,10)"
   ]
  },
  {
   "cell_type": "code",
   "execution_count": null,
   "metadata": {},
   "outputs": [],
   "source": []
  }
 ],
 "metadata": {
  "kernelspec": {
   "display_name": ".venv",
   "language": "python",
   "name": "python3"
  },
  "language_info": {
   "codemirror_mode": {
    "name": "ipython",
    "version": 3
   },
   "file_extension": ".py",
   "mimetype": "text/x-python",
   "name": "python",
   "nbconvert_exporter": "python",
   "pygments_lexer": "ipython3",
   "version": "3.10.11"
  }
 },
 "nbformat": 4,
 "nbformat_minor": 2
}
