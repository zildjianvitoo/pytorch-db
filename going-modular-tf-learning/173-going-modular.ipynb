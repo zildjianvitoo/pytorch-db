{
 "cells": [
  {
   "cell_type": "code",
   "execution_count": 1,
   "metadata": {},
   "outputs": [],
   "source": [
    "import torch"
   ]
  },
  {
   "cell_type": "code",
   "execution_count": 2,
   "metadata": {},
   "outputs": [
    {
     "name": "stdout",
     "output_type": "stream",
     "text": [
      "Folder sudah ada\n"
     ]
    }
   ],
   "source": [
    "import requests\n",
    "from pathlib import Path\n",
    "from zipfile import ZipFile\n",
    "\n",
    "data_path = Path(\"data/pizza_steak_sushi\")\n",
    "\n",
    "train_dir = data_path / \"train\"\n",
    "test_dir = data_path / \"test\"\n",
    "\n",
    "if data_path.is_dir():\n",
    "    print(\"Folder sudah ada\")\n",
    "else: \n",
    "    with open(\"data/pizza_steak_sushi.zip\", \"wb\") as f:\n",
    "        res = requests.get(\n",
    "            \"https://github.com/mrdbourke/pytorch-deep-learning/raw/main/data/pizza_steak_sushi_20_percent.zip\"\n",
    "        )\n",
    "        f.write(res.content)\n",
    "\n",
    "    with ZipFile(\"data/pizza_steak_sushi.zip\",\"r\") as zf:\n",
    "        zf.extractall(data_path)"
   ]
  },
  {
   "cell_type": "code",
   "execution_count": 3,
   "metadata": {},
   "outputs": [],
   "source": [
    "from torchvision.transforms import v2\n",
    "\n",
    "train_transforms = v2.Compose([\n",
    "        v2.ToImage(),\n",
    "        v2.Resize(size=(64,64)),\n",
    "        v2.TrivialAugmentWide(num_magnitude_bins=31),\n",
    "        v2.ToDtype(torch.float32,scale=True)\n",
    "    ])\n",
    "\n",
    "test_transforms = v2.Compose([\n",
    "        v2.ToImage(),\n",
    "        v2.Resize(size=(64,64)),\n",
    "        v2.ToDtype(torch.float32,scale=True)\n",
    "    ])"
   ]
  },
  {
   "cell_type": "code",
   "execution_count": 6,
   "metadata": {},
   "outputs": [],
   "source": [
    "# %%writefile going_modular/data_setup.py\n",
    "\n",
    "from torchvision.datasets import ImageFolder\n",
    "from torchvision.transforms import v2\n",
    "from torch.utils.data import DataLoader\n",
    "import os\n",
    "\n",
    "NUM_WORKERS = os.cpu_count()\n",
    "BATCH_SIZE = 32\n",
    "\n",
    "def create_dataloaders(\n",
    "    train_dir: str,\n",
    "    test_dir: str,\n",
    "    train_transforms: v2.Compose,\n",
    "    test_transforms: v2.Compose,\n",
    "    batch_size: int = BATCH_SIZE,\n",
    "    num_workers: int = NUM_WORKERS,\n",
    "):\n",
    "    train_data = ImageFolder(root=train_dir,transform=train_transforms)\n",
    "    test_data = ImageFolder(root=test_dir, transform=test_transforms)\n",
    "    class_names = train_data.classes\n",
    "\n",
    "    train_dataloader = DataLoader(\n",
    "        dataset=train_data, batch_size=batch_size, num_workers=num_workers,shuffle=True,pin_memory=True\n",
    "    )\n",
    "    test_dataloader = DataLoader(\n",
    "        dataset=test_data, batch_size=batch_size, num_workers=num_workers,pin_memory=True\n",
    "    )\n",
    "    \n",
    "\n",
    "\n",
    "    return train_dataloader,test_dataloader,class_names"
   ]
  },
  {
   "cell_type": "code",
   "execution_count": 7,
   "metadata": {},
   "outputs": [
    {
     "data": {
      "text/plain": [
       "(<torch.utils.data.dataloader.DataLoader at 0x17d990729b0>,\n",
       " <torch.utils.data.dataloader.DataLoader at 0x17d99072980>,\n",
       " ['pizza', 'steak', 'sushi'])"
      ]
     },
     "execution_count": 7,
     "metadata": {},
     "output_type": "execute_result"
    }
   ],
   "source": [
    "import os\n",
    "from going_modular import data_setup\n",
    "\n",
    "NUM_WORKERS = os.cpu_count()\n",
    "BATCH_SIZE = 32\n",
    "\n",
    "train_dir = data_path / \"train\"\n",
    "test_dir = data_path / \"test\"\n",
    "\n",
    "train_dataloader,test_dataloader,class_names = data_setup.create_dataloaders(train_dir=train_dir,test_dir=test_dir,train_transforms=train_transforms,test_transforms=test_transforms,batch_size=BATCH_SIZE,num_workers=NUM_WORKERS)\n",
    "\n",
    "train_dataloader,test_dataloader,class_names"
   ]
  },
  {
   "cell_type": "code",
   "execution_count": 9,
   "metadata": {},
   "outputs": [
    {
     "data": {
      "text/plain": [
       "32"
      ]
     },
     "execution_count": 9,
     "metadata": {},
     "output_type": "execute_result"
    }
   ],
   "source": [
    "train_dataloader.batch_size"
   ]
  },
  {
   "cell_type": "code",
   "execution_count": 7,
   "metadata": {},
   "outputs": [
    {
     "name": "stdout",
     "output_type": "stream",
     "text": [
      "Overwriting going_modular/model_builder.py\n"
     ]
    }
   ],
   "source": [
    "%%writefile going_modular/model_builder.py\n",
    "\n",
    "from torch import nn\n",
    "class TinyVGG(nn.Module):\n",
    "    def __init__(self,input_shape:int,hidden_units:int,output_shape:int):\n",
    "        super().__init__()\n",
    "        self.conv_block_1 = nn.Sequential(\n",
    "            nn.Conv2d(input_shape, hidden_units, 3, 1, 1),\n",
    "            nn.Conv2d(hidden_units, hidden_units, 3, 1, 1),\n",
    "            nn.MaxPool2d(2),\n",
    "        )\n",
    "\n",
    "        self.conv_block_2 = nn.Sequential(\n",
    "            nn.Conv2d(hidden_units, hidden_units * 2, 3, 1, 1),\n",
    "            nn.Conv2d(hidden_units * 2, hidden_units * 2, 3, 1, 1),\n",
    "            nn.MaxPool2d(2),\n",
    "        )\n",
    "\n",
    "        self.conv_block_3 = nn.Sequential(\n",
    "            nn.Conv2d(hidden_units * 2, hidden_units, 3, 1, 1),\n",
    "            nn.Conv2d(hidden_units, hidden_units, 3, 1, 1),\n",
    "            nn.MaxPool2d(2),\n",
    "        )\n",
    "\n",
    "        self.classifer = nn.Sequential(\n",
    "            nn.Flatten(),\n",
    "            nn.Linear(hidden_units * 8 * 8, 64),\n",
    "            nn.ReLU(),\n",
    "            nn.Linear(64, 16),\n",
    "            nn.ReLU(),\n",
    "            nn.Linear(16,output_shape)\n",
    "        )\n",
    "\n",
    "    def forward(self,x):\n",
    "        return self.classifer(self.conv_block_3(self.conv_block_2(self.conv_block_1(x))))"
   ]
  },
  {
   "cell_type": "code",
   "execution_count": 8,
   "metadata": {},
   "outputs": [
    {
     "data": {
      "text/plain": [
       "'cuda'"
      ]
     },
     "execution_count": 8,
     "metadata": {},
     "output_type": "execute_result"
    }
   ],
   "source": [
    "device = \"cuda\" if torch.cuda.is_available() else \"cpu\"\n",
    "device"
   ]
  },
  {
   "cell_type": "code",
   "execution_count": 9,
   "metadata": {},
   "outputs": [
    {
     "data": {
      "text/plain": [
       "TinyVGG(\n",
       "  (conv_block_1): Sequential(\n",
       "    (0): Conv2d(3, 32, kernel_size=(3, 3), stride=(1, 1), padding=(1, 1))\n",
       "    (1): Conv2d(32, 32, kernel_size=(3, 3), stride=(1, 1), padding=(1, 1))\n",
       "    (2): MaxPool2d(kernel_size=2, stride=2, padding=0, dilation=1, ceil_mode=False)\n",
       "  )\n",
       "  (conv_block_2): Sequential(\n",
       "    (0): Conv2d(32, 64, kernel_size=(3, 3), stride=(1, 1), padding=(1, 1))\n",
       "    (1): Conv2d(64, 64, kernel_size=(3, 3), stride=(1, 1), padding=(1, 1))\n",
       "    (2): MaxPool2d(kernel_size=2, stride=2, padding=0, dilation=1, ceil_mode=False)\n",
       "  )\n",
       "  (conv_block_3): Sequential(\n",
       "    (0): Conv2d(64, 32, kernel_size=(3, 3), stride=(1, 1), padding=(1, 1))\n",
       "    (1): Conv2d(32, 32, kernel_size=(3, 3), stride=(1, 1), padding=(1, 1))\n",
       "    (2): MaxPool2d(kernel_size=2, stride=2, padding=0, dilation=1, ceil_mode=False)\n",
       "  )\n",
       "  (classifer): Sequential(\n",
       "    (0): Flatten(start_dim=1, end_dim=-1)\n",
       "    (1): Linear(in_features=2048, out_features=64, bias=True)\n",
       "    (2): ReLU()\n",
       "    (3): Linear(in_features=64, out_features=16, bias=True)\n",
       "    (4): ReLU()\n",
       "    (5): Linear(in_features=16, out_features=3, bias=True)\n",
       "  )\n",
       ")"
      ]
     },
     "execution_count": 9,
     "metadata": {},
     "output_type": "execute_result"
    }
   ],
   "source": [
    "from going_modular.model_builder import TinyVGG\n",
    "\n",
    "model = TinyVGG(input_shape=3,hidden_units=32,output_shape=len(class_names)).to(device)\n",
    "model"
   ]
  },
  {
   "cell_type": "code",
   "execution_count": 10,
   "metadata": {},
   "outputs": [
    {
     "data": {
      "text/plain": [
       "==========================================================================================\n",
       "Layer (type:depth-idx)                   Output Shape              Param #\n",
       "==========================================================================================\n",
       "TinyVGG                                  [32, 3]                   --\n",
       "├─Sequential: 1-1                        [32, 32, 32, 32]          --\n",
       "│    └─Conv2d: 2-1                       [32, 32, 64, 64]          896\n",
       "│    └─Conv2d: 2-2                       [32, 32, 64, 64]          9,248\n",
       "│    └─MaxPool2d: 2-3                    [32, 32, 32, 32]          --\n",
       "├─Sequential: 1-2                        [32, 64, 16, 16]          --\n",
       "│    └─Conv2d: 2-4                       [32, 64, 32, 32]          18,496\n",
       "│    └─Conv2d: 2-5                       [32, 64, 32, 32]          36,928\n",
       "│    └─MaxPool2d: 2-6                    [32, 64, 16, 16]          --\n",
       "├─Sequential: 1-3                        [32, 32, 8, 8]            --\n",
       "│    └─Conv2d: 2-7                       [32, 32, 16, 16]          18,464\n",
       "│    └─Conv2d: 2-8                       [32, 32, 16, 16]          9,248\n",
       "│    └─MaxPool2d: 2-9                    [32, 32, 8, 8]            --\n",
       "├─Sequential: 1-4                        [32, 3]                   --\n",
       "│    └─Flatten: 2-10                     [32, 2048]                --\n",
       "│    └─Linear: 2-11                      [32, 64]                  131,136\n",
       "│    └─ReLU: 2-12                        [32, 64]                  --\n",
       "│    └─Linear: 2-13                      [32, 16]                  1,040\n",
       "│    └─ReLU: 2-14                        [32, 16]                  --\n",
       "│    └─Linear: 2-15                      [32, 3]                   51\n",
       "==========================================================================================\n",
       "Total params: 225,507\n",
       "Trainable params: 225,507\n",
       "Non-trainable params: 0\n",
       "Total mult-adds (G): 3.38\n",
       "==========================================================================================\n",
       "Input size (MB): 1.57\n",
       "Forward/backward pass size (MB): 104.88\n",
       "Params size (MB): 0.90\n",
       "Estimated Total Size (MB): 107.35\n",
       "=========================================================================================="
      ]
     },
     "execution_count": 10,
     "metadata": {},
     "output_type": "execute_result"
    }
   ],
   "source": [
    "from torchinfo import summary\n",
    "\n",
    "summary(model,input_size=(32,3,64,64))"
   ]
  },
  {
   "cell_type": "code",
   "execution_count": null,
   "metadata": {},
   "outputs": [],
   "source": [
    "img,label = next(iter(train_dataloader))\n",
    "\n",
    "img[0],label[0]"
   ]
  },
  {
   "cell_type": "code",
   "execution_count": 1,
   "metadata": {},
   "outputs": [
    {
     "ename": "NameError",
     "evalue": "name 'model' is not defined",
     "output_type": "error",
     "traceback": [
      "\u001b[1;31m---------------------------------------------------------------------------\u001b[0m",
      "\u001b[1;31mNameError\u001b[0m                                 Traceback (most recent call last)",
      "Cell \u001b[1;32mIn[1], line 1\u001b[0m\n\u001b[1;32m----> 1\u001b[0m \u001b[43mmodel\u001b[49m\u001b[38;5;241m.\u001b[39meval(),\n\u001b[0;32m      3\u001b[0m \u001b[38;5;28;01mwith\u001b[39;00m torch\u001b[38;5;241m.\u001b[39minference_mode():\n\u001b[0;32m      4\u001b[0m     y_logits \u001b[38;5;241m=\u001b[39m model(img[\u001b[38;5;241m0\u001b[39m]\u001b[38;5;241m.\u001b[39munsqueeze(\u001b[38;5;241m0\u001b[39m)\u001b[38;5;241m.\u001b[39mto(device))\n",
      "\u001b[1;31mNameError\u001b[0m: name 'model' is not defined"
     ]
    }
   ],
   "source": [
    "model.eval(),\n",
    "\n",
    "with torch.inference_mode():\n",
    "    y_logits = model(img[0].unsqueeze(0).to(device))\n",
    "    print(y_logits)"
   ]
  },
  {
   "cell_type": "code",
   "execution_count": 2,
   "metadata": {},
   "outputs": [],
   "source": [
    "from torchmetrics import Accuracy\n",
    "\n",
    "acc_metric = Accuracy(task=\"multiclass\", num_classes=3)"
   ]
  },
  {
   "cell_type": "code",
   "execution_count": 7,
   "metadata": {},
   "outputs": [
    {
     "name": "stdout",
     "output_type": "stream",
     "text": [
      "Overwriting going_modular/engine.py\n"
     ]
    }
   ],
   "source": [
    "%%writefile going_modular/engine.py\n",
    "import torch\n",
    "from torch import nn\n",
    "from torchmetrics import Metric\n",
    "\n",
    "\n",
    "def train_step(\n",
    "    model: nn.Module,\n",
    "    data_loader: torch.utils.data.Dataset,\n",
    "    loss_fn: nn.Module,\n",
    "    acc_metric: Metric,\n",
    "    optimizer: torch.optim.Optimizer,\n",
    "    device,\n",
    "):\n",
    "\n",
    "    model.train()\n",
    "    train_loss = 0\n",
    "    acc_metric.reset(),\n",
    "\n",
    "    for X, y in data_loader:\n",
    "        X, y = X.to(device), y.to(device)\n",
    "        y_logits = model(X)\n",
    "        y_preds = torch.softmax(y_logits, dim=1)\n",
    "\n",
    "        loss = loss_fn(y_logits, y)\n",
    "        train_loss += loss\n",
    "        acc_metric.update(y_preds, y)\n",
    "\n",
    "        optimizer.zero_grad()\n",
    "        loss.backward()\n",
    "        optimizer.step()\n",
    "\n",
    "    train_loss /= len(data_loader)\n",
    "    train_acc = acc_metric.compute()\n",
    "\n",
    "    return train_loss, train_acc\n",
    "\n",
    "\n",
    "def test_step(\n",
    "    model: nn.Module,\n",
    "    data_loader: torch.utils.data.Dataset,\n",
    "    loss_fn: nn.Module,\n",
    "    acc_metric: Metric,\n",
    "    device,\n",
    "):\n",
    "\n",
    "    model.eval()\n",
    "    test_loss = 0\n",
    "    acc_metric.reset(),\n",
    "\n",
    "    with torch.inference_mode():\n",
    "        for X, y in data_loader:\n",
    "            X, y = X.to(device), y.to(device)\n",
    "            y_logits = model(X)\n",
    "            y_preds = torch.softmax(y_logits, dim=1)\n",
    "\n",
    "            loss = loss_fn(y_logits, y)\n",
    "            test_loss += loss\n",
    "            acc_metric.update(y_preds, y)\n",
    "\n",
    "        total_loss = test_loss / len(data_loader)\n",
    "        test_acc = acc_metric.compute()\n",
    "\n",
    "    return total_loss, test_acc\n",
    "\n",
    "\n",
    "def train_model(\n",
    "    model: nn.Module,\n",
    "    train_dataloader: torch.utils.data.Dataset,\n",
    "    test_dataloader: torch.utils.data.Dataset,\n",
    "    loss_fn: nn.Module,\n",
    "    acc_metric: Metric,\n",
    "    optimizer: torch.optim.Optimizer,\n",
    "    device,\n",
    "    epochs=5,\n",
    "):\n",
    "    model.to(device)\n",
    "    results = {\"train_loss\": [], \"train_acc\": [], \"test_loss\": [], \"test_acc\": []}\n",
    "\n",
    "    for epoch in range(epochs):\n",
    "        print(f\"\\nEpoch: {epoch}\")\n",
    "        train_loss, train_acc = train_step(\n",
    "            model, train_dataloader, loss_fn, acc_metric, optimizer, device\n",
    "        )\n",
    "        test_loss, test_acc = test_step(\n",
    "            model, test_dataloader, loss_fn, acc_metric, device\n",
    "        )\n",
    "\n",
    "        results[\"train_loss\"].append(train_loss)\n",
    "        results[\"train_acc\"].append(train_acc)\n",
    "        results[\"test_loss\"].append(test_loss)\n",
    "        results[\"test_acc\"].append(test_acc)\n",
    "\n",
    "        print(f\"Train Loss: {train_loss:.4f} | Train Acc: {train_acc:.4f}\")\n",
    "        print(f\"Test Loss: {test_loss:.4f} | Test Acc: {test_acc:.4f}\")\n",
    "    return results"
   ]
  },
  {
   "cell_type": "code",
   "execution_count": 8,
   "metadata": {},
   "outputs": [
    {
     "ename": "TypeError",
     "evalue": "train_model() missing 7 required positional arguments: 'model', 'train_dataloader', 'test_dataloader', 'loss_fn', 'acc_metric', 'optimizer', and 'device'",
     "output_type": "error",
     "traceback": [
      "\u001b[1;31m---------------------------------------------------------------------------\u001b[0m",
      "\u001b[1;31mTypeError\u001b[0m                                 Traceback (most recent call last)",
      "Cell \u001b[1;32mIn[8], line 3\u001b[0m\n\u001b[0;32m      1\u001b[0m \u001b[38;5;28;01mfrom\u001b[39;00m \u001b[38;5;21;01mgoing_modular\u001b[39;00m\u001b[38;5;21;01m.\u001b[39;00m\u001b[38;5;21;01mengine\u001b[39;00m \u001b[38;5;28;01mimport\u001b[39;00m train_model\n\u001b[1;32m----> 3\u001b[0m \u001b[43mtrain_model\u001b[49m\u001b[43m(\u001b[49m\u001b[43m)\u001b[49m\n",
      "\u001b[1;31mTypeError\u001b[0m: train_model() missing 7 required positional arguments: 'model', 'train_dataloader', 'test_dataloader', 'loss_fn', 'acc_metric', 'optimizer', and 'device'"
     ]
    }
   ],
   "source": [
    "from going_modular.engine import train_model\n",
    "\n",
    "train_model()"
   ]
  },
  {
   "cell_type": "code",
   "execution_count": 2,
   "metadata": {},
   "outputs": [
    {
     "name": "stdout",
     "output_type": "stream",
     "text": [
      "Overwriting going_modular/utils.py\n"
     ]
    }
   ],
   "source": [
    "%%writefile going_modular/utils.py\n",
    "import torch\n",
    "from torch import nn\n",
    "from pathlib import Path\n",
    "\n",
    "def save_model(model:nn.Module,target_dir:str,model_name:str):\n",
    "    target_dir_path = Path(target_dir)\n",
    "    target_dir_path.mkdir(parents=True,exist_ok=True)\n",
    "\n",
    "    assert model_name.endswith(\"pth\") or model_name.endswith(\"pt\"), \"Ekstensi model harus .pt atau .pth\"\n",
    "    model_save_path = target_dir / model_name\n",
    "\n",
    "    torch.save(model_save_path,model.state_dict())\n"
   ]
  },
  {
   "cell_type": "code",
   "execution_count": null,
   "metadata": {},
   "outputs": [
    {
     "name": "stdout",
     "output_type": "stream",
     "text": [
      "\n",
      "Epoch: 0\n",
      "Train Loss: 1.1040 | Train Acc: 0.3267\n",
      "Test Loss: 1.1176 | Test Acc: 0.3133\n",
      "\n",
      "Epoch: 1\n",
      "Train Loss: 1.0883 | Train Acc: 0.3800\n",
      "Test Loss: 0.9995 | Test Acc: 0.5733\n",
      "\n",
      "Epoch: 2\n",
      "Train Loss: 1.0374 | Train Acc: 0.4511\n",
      "Test Loss: 0.9505 | Test Acc: 0.5200\n",
      "\n",
      "Epoch: 3\n",
      "Train Loss: 0.9964 | Train Acc: 0.4889\n",
      "Test Loss: 0.9367 | Test Acc: 0.6067\n",
      "\n",
      "Epoch: 4\n",
      "Train Loss: 0.9373 | Train Acc: 0.5200\n",
      "Test Loss: 1.0258 | Test Acc: 0.5133\n",
      "\n",
      "Epoch: 5\n",
      "Train Loss: 0.9900 | Train Acc: 0.4889\n",
      "Test Loss: 0.9896 | Test Acc: 0.4667\n",
      "\n",
      "Epoch: 6\n",
      "Train Loss: 0.9931 | Train Acc: 0.4911\n",
      "Test Loss: 1.0099 | Test Acc: 0.5667\n",
      "\n",
      "Epoch: 7\n",
      "Train Loss: 0.9390 | Train Acc: 0.5467\n",
      "Test Loss: 1.0195 | Test Acc: 0.4400\n",
      "\n",
      "Epoch: 8\n",
      "Train Loss: 1.0206 | Train Acc: 0.4867\n",
      "Test Loss: 0.9708 | Test Acc: 0.5600\n",
      "\n",
      "Epoch: 9\n",
      "Train Loss: 0.9473 | Train Acc: 0.5111\n",
      "Test Loss: 0.9598 | Test Acc: 0.5067\n",
      "\n",
      "Epoch: 10\n",
      "Train Loss: 0.9300 | Train Acc: 0.5422\n",
      "Test Loss: 0.9954 | Test Acc: 0.5000\n",
      "\n",
      "Epoch: 11\n"
     ]
    }
   ],
   "source": [
    "# %%writefile going_modular/train.py\n",
    "\n",
    "from pathlib import Path\n",
    "from going_modular.data_setup import create_dataloaders\n",
    "from going_modular.model_builder import TinyVGG\n",
    "from going_modular.engine import train_model\n",
    "from going_modular.utils import save_model\n",
    "from torchvision.transforms import v2\n",
    "import torch\n",
    "import os\n",
    "from torchmetrics import Accuracy\n",
    "\n",
    "device = \"cuda\" if torch.cuda.is_available() else \"cpu\"\n",
    "\n",
    "data_path = Path(\"data/pizza_steak_sushi\")\n",
    "\n",
    "train_dir = data_path / \"train\"\n",
    "test_dir = data_path / \"test\"\n",
    "\n",
    "train_transforms = v2.Compose([\n",
    "    v2.ToImage(),\n",
    "    v2.Resize(size=(64,64)),\n",
    "    v2.TrivialAugmentWide(num_magnitude_bins=31),\n",
    "    v2.ToDtype(dtype=torch.float32,scale=True)\n",
    "])\n",
    "\n",
    "test_transforms = v2.Compose(\n",
    "    [\n",
    "        v2.ToImage(),\n",
    "        v2.Resize(size=(64, 64)),\n",
    "        v2.ToDtype(dtype=torch.float32, scale=True),\n",
    "    ]\n",
    ")\n",
    "\n",
    "BATCH_SIZE = 32\n",
    "NUM_WORKERS = os.cpu_count()\n",
    "EPOCHS = 20\n",
    "\n",
    "train_dataloader,test_dataloader, class_names = create_dataloaders(\n",
    "                                                train_dir=train_dir,\n",
    "                                                test_dir=test_dir,\n",
    "                                                train_transforms=train_transforms,\n",
    "                                                test_transforms=test_transforms,\n",
    "                                                batch_size=BATCH_SIZE,\n",
    "                                                num_workers=NUM_WORKERS)\n",
    "\n",
    "model = TinyVGG(input_shape=3,hidden_units=32,output_shape=len(class_names)).to(device)\n",
    "\n",
    "\n",
    "acc_metric = Accuracy(task=\"multiclass\",num_classes=len(class_names)).to(device)\n",
    "loss_fn = torch.nn.CrossEntropyLoss()\n",
    "optimizer = torch.optim.Adam(params=model.parameters(),lr=0.001)\n",
    "\n",
    "\n",
    "model_results = train_model(\n",
    "    model=model,\n",
    "    train_dataloader=train_dataloader,\n",
    "    test_dataloader=test_dataloader,\n",
    "    acc_metric=acc_metric,\n",
    "    loss_fn=loss_fn,\n",
    "    optimizer=optimizer,\n",
    "    device=device,\n",
    "    epochs=EPOCHS,\n",
    ")\n",
    "\n",
    "save_model(model, \"model\", \"model_1.pt\")\n",
    "print(model_results)"
   ]
  },
  {
   "cell_type": "code",
   "execution_count": null,
   "metadata": {},
   "outputs": [],
   "source": []
  }
 ],
 "metadata": {
  "kernelspec": {
   "display_name": ".venv",
   "language": "python",
   "name": "python3"
  },
  "language_info": {
   "codemirror_mode": {
    "name": "ipython",
    "version": 3
   },
   "file_extension": ".py",
   "mimetype": "text/x-python",
   "name": "python",
   "nbconvert_exporter": "python",
   "pygments_lexer": "ipython3",
   "version": "3.10.11"
  }
 },
 "nbformat": 4,
 "nbformat_minor": 2
}
