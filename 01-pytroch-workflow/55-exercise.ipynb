{
 "cells": [
  {
   "cell_type": "code",
   "execution_count": 561,
   "metadata": {},
   "outputs": [],
   "source": [
    "import torch\n",
    "import matplotlib.pyplot as plt"
   ]
  },
  {
   "cell_type": "code",
   "execution_count": 562,
   "metadata": {},
   "outputs": [],
   "source": [
    "device = \"cuda\" if torch.cuda.is_available() else \"cpu\""
   ]
  },
  {
   "cell_type": "code",
   "execution_count": 563,
   "metadata": {},
   "outputs": [
    {
     "data": {
      "text/plain": [
       "(tensor([[0.0000],\n",
       "         [0.0100],\n",
       "         [0.0200],\n",
       "         [0.0300],\n",
       "         [0.0400]]),\n",
       " tensor([[0.9000],\n",
       "         [0.9030],\n",
       "         [0.9060],\n",
       "         [0.9090],\n",
       "         [0.9120]]))"
      ]
     },
     "execution_count": 563,
     "metadata": {},
     "output_type": "execute_result"
    }
   ],
   "source": [
    "weight = 0.3\n",
    "bias = 0.9\n",
    "X = torch.arange(0,1,0.01).unsqueeze(dim=1)\n",
    "y = weight * X + bias\n",
    "X[:5], y[:5]"
   ]
  },
  {
   "cell_type": "code",
   "execution_count": 564,
   "metadata": {},
   "outputs": [],
   "source": [
    "train_split = int(0.8 * len(X))\n",
    "\n",
    "X_train,y_train = X[:train_split],y[:train_split]\n",
    "X_test, y_test = X[train_split:], y[train_split:]\n"
   ]
  },
  {
   "cell_type": "code",
   "execution_count": 565,
   "metadata": {},
   "outputs": [],
   "source": [
    "def plot_predictions(\n",
    "    X_train=X_train, y_train=y_train, X_test=X_test, y_test=y_test, y_pred=None\n",
    "):\n",
    "    plt.scatter(X_train, y_train, label=\"Train\", s=10)\n",
    "    plt.scatter(X_test, y_test, label=\"Test\", s=10)\n",
    "    if y_pred is not None:\n",
    "        plt.scatter(X_test, y_pred, label=\"Predictions\", s=10)\n",
    "\n",
    "    plt.legend()"
   ]
  },
  {
   "cell_type": "code",
   "execution_count": 566,
   "metadata": {},
   "outputs": [
    {
     "data": {
      "image/png": "[encoded data removed]",
      "text/plain": [
       "<Figure size 640x480 with 1 Axes>"
      ]
     },
     "metadata": {},
     "output_type": "display_data"
    }
   ],
   "source": [
    "plot_predictions()"
   ]
  },
  {
   "cell_type": "code",
   "execution_count": 567,
   "metadata": {},
   "outputs": [],
   "source": [
    "from torch import nn\n",
    "class LinearRegressionModel2(nn.Module):\n",
    "    \n",
    "    def __init__(self):\n",
    "        super().__init__()\n",
    "        self.linear = nn.Linear(in_features=1,out_features=1)\n",
    "        \n",
    "    def forward(self,X:torch.Tensor)-> torch.Tensor:\n",
    "        return self.linear(X)"
   ]
  },
  {
   "cell_type": "code",
   "execution_count": 568,
   "metadata": {},
   "outputs": [
    {
     "data": {
      "text/plain": [
       "OrderedDict([('linear.weight', tensor([[0.7645]])),\n",
       "             ('linear.bias', tensor([0.8300]))])"
      ]
     },
     "execution_count": 568,
     "metadata": {},
     "output_type": "execute_result"
    }
   ],
   "source": [
    "torch.manual_seed(42)\n",
    "\n",
    "model = LinearRegressionModel2()\n",
    "model.state_dict()"
   ]
  },
  {
   "cell_type": "code",
   "execution_count": 569,
   "metadata": {},
   "outputs": [],
   "source": [
    "loss_fn = nn.L1Loss()\n",
    "optimizer = torch.optim.Adam(params=model.parameters(),lr=0.01)"
   ]
  },
  {
   "cell_type": "code",
   "execution_count": 570,
   "metadata": {},
   "outputs": [],
   "source": [
    "X_train = X_train.to(device)\n",
    "y_train = y_train.to(device)\n",
    "X_test = X_test.to(device)\n",
    "y_test = y_test.to(device)"
   ]
  },
  {
   "cell_type": "code",
   "execution_count": 571,
   "metadata": {},
   "outputs": [
    {
     "data": {
      "text/plain": [
       "LinearRegressionModel2(\n",
       "  (linear): Linear(in_features=1, out_features=1, bias=True)\n",
       ")"
      ]
     },
     "execution_count": 571,
     "metadata": {},
     "output_type": "execute_result"
    }
   ],
   "source": [
    "model.to(device)"
   ]
  },
  {
   "cell_type": "code",
   "execution_count": 572,
   "metadata": {},
   "outputs": [
    {
     "name": "stdout",
     "output_type": "stream",
     "text": [
      "Epoch: 0 | Train Loss: 0.1275613158941269 | Test Loss: 0.32681992650032043\n",
      "Epoch: 20 | Train Loss: 0.06593604385852814 | Test Loss: 0.10931289196014404\n",
      "Epoch: 40 | Train Loss: 0.032058585435152054 | Test Loss: 0.06875057518482208\n",
      "Epoch: 60 | Train Loss: 0.0019438877934589982 | Test Loss: 0.009274578653275967\n",
      "Epoch: 80 | Train Loss: 0.0023476802743971348 | Test Loss: 0.005570900626480579\n",
      "Epoch: 100 | Train Loss: 0.001530835754238069 | Test Loss: 0.0004207015153951943\n",
      "Epoch: 120 | Train Loss: 0.004162553232163191 | Test Loss: 0.007628608029335737\n",
      "Epoch: 140 | Train Loss: 0.0036659815814346075 | Test Loss: 0.00671879667788744\n",
      "Epoch: 160 | Train Loss: 0.0026628770865499973 | Test Loss: 0.0042772176675498486\n",
      "Epoch: 180 | Train Loss: 0.00026639923453330994 | Test Loss: 0.002645003842189908\n",
      "Epoch: 200 | Train Loss: 0.0012218088377267122 | Test Loss: 0.002988141728565097\n",
      "Epoch: 220 | Train Loss: 0.0006344571593217552 | Test Loss: 0.0023452520836144686\n",
      "Epoch: 240 | Train Loss: 0.0022122233640402555 | Test Loss: 0.001145017216913402\n",
      "Epoch: 260 | Train Loss: 0.0019213929772377014 | Test Loss: 0.004304558038711548\n",
      "Epoch: 280 | Train Loss: 0.0015294566983357072 | Test Loss: 0.00045032502384856343\n",
      "Epoch: 300 | Train Loss: 0.0005108192563056946 | Test Loss: 0.0007308304193429649\n"
     ]
    }
   ],
   "source": [
    "epochs = 300\n",
    "\n",
    "for epoch in range(epochs + 1):\n",
    "    model.train()\n",
    "    \n",
    "    y_pred = model(X_train)\n",
    "    \n",
    "    loss = loss_fn(y_pred,y_train)\n",
    "    \n",
    "    optimizer.zero_grad()\n",
    "    loss.backward()\n",
    "    optimizer.step()\n",
    "\n",
    "    if epoch % 20 == 0:\n",
    "        model.eval()\n",
    "        \n",
    "        with torch.inference_mode():\n",
    "            y_pred_test = model(X_test)\n",
    "            loss_test = loss_fn(y_pred_test,y_test)\n",
    "        print(f\"Epoch: {epoch} | Train Loss: {loss} | Test Loss: {loss_test}\")"
   ]
  },
  {
   "cell_type": "code",
   "execution_count": 576,
   "metadata": {},
   "outputs": [
    {
     "data": {
      "text/plain": [
       "OrderedDict([('linear.weight', tensor([[0.3003]], device='cuda:0')),\n",
       "             ('linear.bias', tensor([0.8990], device='cuda:0'))])"
      ]
     },
     "execution_count": 576,
     "metadata": {},
     "output_type": "execute_result"
    }
   ],
   "source": [
    "model.state_dict()"
   ]
  },
  {
   "cell_type": "code",
   "execution_count": 573,
   "metadata": {},
   "outputs": [
    {
     "data": {
      "image/png": "[encoded data removed]",
      "text/plain": [
       "<Figure size 640x480 with 1 Axes>"
      ]
     },
     "metadata": {},
     "output_type": "display_data"
    }
   ],
   "source": [
    "plot_predictions(y_pred=y_pred_test.cpu())"
   ]
  },
  {
   "cell_type": "code",
   "execution_count": 574,
   "metadata": {},
   "outputs": [],
   "source": [
    "torch.save(obj=model.state_dict(),f=\"models/exercie-model.pth\")"
   ]
  },
  {
   "cell_type": "code",
   "execution_count": 575,
   "metadata": {},
   "outputs": [
    {
     "data": {
      "text/plain": [
       "OrderedDict([('linear.weight', tensor([[0.3003]])),\n",
       "             ('linear.bias', tensor([0.8990]))])"
      ]
     },
     "execution_count": 575,
     "metadata": {},
     "output_type": "execute_result"
    }
   ],
   "source": [
    "loaded_model = LinearRegressionModel2()\n",
    "\n",
    "loaded_model.load_state_dict(torch.load(\"models/exercie-model.pth\",weights_only=True))\n",
    "\n",
    "loaded_model.state_dict()"
   ]
  }
 ],
 "metadata": {
  "kernelspec": {
   "display_name": ".venv",
   "language": "python",
   "name": "python3"
  },
  "language_info": {
   "codemirror_mode": {
    "name": "ipython",
    "version": 3
   },
   "file_extension": ".py",
   "mimetype": "text/x-python",
   "name": "python",
   "nbconvert_exporter": "python",
   "pygments_lexer": "ipython3",
   "version": "3.10.11"
  }
 },
 "nbformat": 4,
 "nbformat_minor": 2
}
