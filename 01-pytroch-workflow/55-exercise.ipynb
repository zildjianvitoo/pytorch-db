{
 "cells": [
  {
   "cell_type": "code",
   "execution_count": 151,
   "metadata": {},
   "outputs": [],
   "source": [
    "import torch\n",
    "import matplotlib.pyplot as plt"
   ]
  },
  {
   "cell_type": "code",
   "execution_count": 152,
   "metadata": {},
   "outputs": [],
   "source": [
    "device = \"cuda\" if torch.cuda.is_available() else \"cpu\""
   ]
  },
  {
   "cell_type": "code",
   "execution_count": 153,
   "metadata": {},
   "outputs": [
    {
     "data": {
      "text/plain": [
       "(tensor([[0.0000],\n",
       "         [0.0100],\n",
       "         [0.0200],\n",
       "         [0.0300],\n",
       "         [0.0400]]),\n",
       " tensor([[0.9000],\n",
       "         [0.9030],\n",
       "         [0.9060],\n",
       "         [0.9090],\n",
       "         [0.9120]]))"
      ]
     },
     "execution_count": 153,
     "metadata": {},
     "output_type": "execute_result"
    }
   ],
   "source": [
    "weight = 0.3\n",
    "bias = 0.9\n",
    "X = torch.arange(0,1,0.01).unsqueeze(dim=1)\n",
    "y = weight * X + bias\n",
    "X[:5], y[:5]"
   ]
  },
  {
   "cell_type": "code",
   "execution_count": 154,
   "metadata": {},
   "outputs": [],
   "source": [
    "train_split = int(0.8 * len(X))\n",
    "\n",
    "X_train,y_train = X[:train_split],y[:train_split]\n",
    "X_test, y_test = X[train_split:], y[train_split:]\n"
   ]
  },
  {
   "cell_type": "code",
   "execution_count": 155,
   "metadata": {},
   "outputs": [],
   "source": [
    "def plot_predictions(\n",
    "    X_train=X_train, y_train=y_train, X_test=X_test, y_test=y_test, y_pred=None\n",
    "):\n",
    "    plt.scatter(X_train, y_train, label=\"Train\", s=10)\n",
    "    plt.scatter(X_test, y_test, label=\"Test\", s=10)\n",
    "    if y_pred is not None:\n",
    "        plt.scatter(X_test, y_pred, label=\"Predictions\", s=10)\n",
    "\n",
    "    plt.legend()"
   ]
  },
  {
   "cell_type": "code",
   "execution_count": 156,
   "metadata": {},
   "outputs": [
    {
     "data": {
      "image/png": "[encoded data removed]",
      "text/plain": [
       "<Figure size 640x480 with 1 Axes>"
      ]
     },
     "metadata": {},
     "output_type": "display_data"
    }
   ],
   "source": [
    "plot_predictions()"
   ]
  },
  {
   "cell_type": "code",
   "execution_count": 157,
   "metadata": {},
   "outputs": [],
   "source": [
    "from torch import nn\n",
    "class LinearRegressionModel2(nn.Module):\n",
    "    \n",
    "    def __init__(self):\n",
    "        super().__init__()\n",
    "        self.linear = nn.Linear(in_features=1,out_features=1)\n",
    "        \n",
    "    def forward(self,X:torch.Tensor)-> torch.Tensor:\n",
    "        return self.linear(X)"
   ]
  },
  {
   "cell_type": "code",
   "execution_count": 158,
   "metadata": {},
   "outputs": [
    {
     "data": {
      "text/plain": [
       "OrderedDict([('linear.weight', tensor([[0.7645]])),\n",
       "             ('linear.bias', tensor([0.8300]))])"
      ]
     },
     "execution_count": 158,
     "metadata": {},
     "output_type": "execute_result"
    }
   ],
   "source": [
    "torch.manual_seed(42)\n",
    "\n",
    "model = LinearRegressionModel2()\n",
    "model.state_dict()"
   ]
  },
  {
   "cell_type": "code",
   "execution_count": 159,
   "metadata": {},
   "outputs": [],
   "source": [
    "loss_fn = nn.MSELoss()\n",
    "optimizer = torch.optim.Adam(params=model.parameters(),lr=0.01)"
   ]
  },
  {
   "cell_type": "code",
   "execution_count": 160,
   "metadata": {},
   "outputs": [],
   "source": [
    "X_train = X_train.to(device)\n",
    "y_train = y_train.to(device)\n",
    "X_test = X_test.to(device)\n",
    "y_test = y_test.to(device)"
   ]
  },
  {
   "cell_type": "code",
   "execution_count": 161,
   "metadata": {},
   "outputs": [
    {
     "data": {
      "text/plain": [
       "LinearRegressionModel2(\n",
       "  (linear): Linear(in_features=1, out_features=1, bias=True)\n",
       ")"
      ]
     },
     "execution_count": 161,
     "metadata": {},
     "output_type": "execute_result"
    }
   ],
   "source": [
    "model.to(device)"
   ]
  },
  {
   "cell_type": "code",
   "execution_count": 162,
   "metadata": {},
   "outputs": [
    {
     "name": "stdout",
     "output_type": "stream",
     "text": [
      "Epoch: 0 | Train Loss: 0.02438972145318985 | Test Loss: 0.10749822854995728\n",
      "Epoch: 20 | Train Loss: 0.007026466075330973 | Test Loss: 0.013562570326030254\n",
      "Epoch: 40 | Train Loss: 0.0031197417993098497 | Test Loss: 0.014896889217197895\n",
      "Epoch: 60 | Train Loss: 0.001200558035634458 | Test Loss: 0.004409614019095898\n",
      "Epoch: 80 | Train Loss: 0.00037468477967195213 | Test Loss: 0.001406281371600926\n",
      "Epoch: 100 | Train Loss: 9.075408888747916e-05 | Test Loss: 0.0003739132662303746\n",
      "Epoch: 120 | Train Loss: 1.598336166352965e-05 | Test Loss: 6.0827715060440823e-05\n",
      "Epoch: 140 | Train Loss: 1.8593615322970436e-06 | Test Loss: 6.4399691837024875e-06\n",
      "Epoch: 160 | Train Loss: 1.039527646184979e-07 | Test Loss: 3.4646839708329935e-07\n",
      "Epoch: 180 | Train Loss: 2.227416445732544e-10 | Test Loss: 4.2577427694645564e-10\n",
      "Epoch: 200 | Train Loss: 1.135804450491662e-09 | Test Loss: 4.185233049014414e-09\n",
      "Epoch: 220 | Train Loss: 3.721845887039166e-10 | Test Loss: 1.3381438179749239e-09\n",
      "Epoch: 240 | Train Loss: 2.8381698033430602e-11 | Test Loss: 9.610090501155355e-11\n",
      "Epoch: 260 | Train Loss: 8.082423958084319e-15 | Test Loss: 5.684341970784096e-15\n",
      "Epoch: 280 | Train Loss: 4.046984915153512e-13 | Test Loss: 1.5781154594912694e-12\n",
      "Epoch: 300 | Train Loss: 6.945555648630794e-14 | Test Loss: 1.8900437042269208e-13\n"
     ]
    }
   ],
   "source": [
    "torch.manual_seed(42)\n",
    "epochs = 300\n",
    "\n",
    "for epoch in range(epochs + 1):\n",
    "    model.train()\n",
    "\n",
    "    y_pred = model(X_train)\n",
    "\n",
    "    loss = loss_fn(y_pred, y_train)\n",
    "\n",
    "    optimizer.zero_grad()\n",
    "    loss.backward()\n",
    "    optimizer.step()\n",
    "\n",
    "    if epoch % 20 == 0:\n",
    "        model.eval()\n",
    "\n",
    "        with torch.inference_mode():\n",
    "            y_pred_test = model(X_test)\n",
    "            loss_test = loss_fn(y_pred_test, y_test)\n",
    "        print(f\"Epoch: {epoch} | Train Loss: {loss} | Test Loss: {loss_test}\")"
   ]
  },
  {
   "cell_type": "code",
   "execution_count": 163,
   "metadata": {},
   "outputs": [
    {
     "data": {
      "text/plain": [
       "OrderedDict([('linear.weight', tensor([[0.3000]], device='cuda:0')),\n",
       "             ('linear.bias', tensor([0.9000], device='cuda:0'))])"
      ]
     },
     "execution_count": 163,
     "metadata": {},
     "output_type": "execute_result"
    }
   ],
   "source": [
    "model.state_dict()"
   ]
  },
  {
   "cell_type": "code",
   "execution_count": 164,
   "metadata": {},
   "outputs": [
    {
     "data": {
      "image/png": "[encoded data removed]",
      "text/plain": [
       "<Figure size 640x480 with 1 Axes>"
      ]
     },
     "metadata": {},
     "output_type": "display_data"
    }
   ],
   "source": [
    "plot_predictions(y_pred=y_pred_test.cpu())"
   ]
  },
  {
   "cell_type": "code",
   "execution_count": 165,
   "metadata": {},
   "outputs": [],
   "source": [
    "torch.save(obj=model.state_dict(),f=\"models/exercie-model.pth\")"
   ]
  },
  {
   "cell_type": "code",
   "execution_count": 166,
   "metadata": {},
   "outputs": [
    {
     "data": {
      "text/plain": [
       "OrderedDict([('linear.weight', tensor([[0.3000]])),\n",
       "             ('linear.bias', tensor([0.9000]))])"
      ]
     },
     "execution_count": 166,
     "metadata": {},
     "output_type": "execute_result"
    }
   ],
   "source": [
    "loaded_model = LinearRegressionModel2()\n",
    "\n",
    "loaded_model.load_state_dict(torch.load(\"models/exercie-model.pth\",weights_only=True))\n",
    "\n",
    "loaded_model.state_dict()"
   ]
  },
  {
   "cell_type": "code",
   "execution_count": null,
   "metadata": {},
   "outputs": [],
   "source": []
  }
 ],
 "metadata": {
  "kernelspec": {
   "display_name": ".venv",
   "language": "python",
   "name": "python3"
  },
  "language_info": {
   "codemirror_mode": {
    "name": "ipython",
    "version": 3
   },
   "file_extension": ".py",
   "mimetype": "text/x-python",
   "name": "python",
   "nbconvert_exporter": "python",
   "pygments_lexer": "ipython3",
   "version": "3.10.11"
  }
 },
 "nbformat": 4,
 "nbformat_minor": 2
}
