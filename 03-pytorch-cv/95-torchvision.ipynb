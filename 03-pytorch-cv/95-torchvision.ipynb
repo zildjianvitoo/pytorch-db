{
 "cells": [
  {
   "cell_type": "code",
   "execution_count": 298,
   "metadata": {},
   "outputs": [],
   "source": [
    "import torch\n",
    "import matplotlib.pyplot as plt\n",
    "\n",
    "import torchvision\n",
    "from torchvision import datasets,transforms"
   ]
  },
  {
   "cell_type": "code",
   "execution_count": 299,
   "metadata": {},
   "outputs": [],
   "source": [
    "device = \"cuda\" if torch.cuda.is_available() else \"cpu\""
   ]
  },
  {
   "cell_type": "code",
   "execution_count": 300,
   "metadata": {},
   "outputs": [],
   "source": [
    "train_data = datasets.FashionMNIST(\n",
    "    root=\"data/fashion-mnist\",download=True,train=True,transform=transforms.ToTensor()\n",
    "    )\n",
    "\n",
    "test_data = datasets.FashionMNIST(\n",
    "    root=\"data/fashion-mnist\",\n",
    "    download=True,\n",
    "    train=False,\n",
    "    transform=transforms.ToTensor(),\n",
    ")"
   ]
  },
  {
   "cell_type": "code",
   "execution_count": 301,
   "metadata": {},
   "outputs": [
    {
     "data": {
      "text/plain": [
       "(60000, 10000)"
      ]
     },
     "execution_count": 301,
     "metadata": {},
     "output_type": "execute_result"
    }
   ],
   "source": [
    "len(train_data), len(test_data)"
   ]
  },
  {
   "cell_type": "code",
   "execution_count": 302,
   "metadata": {},
   "outputs": [
    {
     "data": {
      "text/plain": [
       "(9,\n",
       " tensor([[[0.0000, 0.0000, 0.0000, 0.0000, 0.0000, 0.0000, 0.0000, 0.0000,\n",
       "           0.0000, 0.0000, 0.0000, 0.0000, 0.0000, 0.0000, 0.0000, 0.0000,\n",
       "           0.0000, 0.0000, 0.0000, 0.0000, 0.0000, 0.0000, 0.0000, 0.0000,\n",
       "           0.0000, 0.0000, 0.0000, 0.0000],\n",
       "          [0.0000, 0.0000, 0.0000, 0.0000, 0.0000, 0.0000, 0.0000, 0.0000,\n",
       "           0.0000, 0.0000, 0.0000, 0.0000, 0.0000, 0.0000, 0.0000, 0.0000,\n",
       "           0.0000, 0.0000, 0.0000, 0.0000, 0.0000, 0.0000, 0.0000, 0.0000,\n",
       "           0.0000, 0.0000, 0.0000, 0.0000],\n",
       "          [0.0000, 0.0000, 0.0000, 0.0000, 0.0000, 0.0000, 0.0000, 0.0000,\n",
       "           0.0000, 0.0000, 0.0000, 0.0000, 0.0000, 0.0000, 0.0000, 0.0000,\n",
       "           0.0000, 0.0000, 0.0000, 0.0000, 0.0000, 0.0000, 0.0000, 0.0000,\n",
       "           0.0000, 0.0000, 0.0000, 0.0000],\n",
       "          [0.0000, 0.0000, 0.0000, 0.0000, 0.0000, 0.0000, 0.0000, 0.0000,\n",
       "           0.0000, 0.0000, 0.0000, 0.0000, 0.0039, 0.0000, 0.0000, 0.0510,\n",
       "           0.2863, 0.0000, 0.0000, 0.0039, 0.0157, 0.0000, 0.0000, 0.0000,\n",
       "           0.0000, 0.0039, 0.0039, 0.0000],\n",
       "          [0.0000, 0.0000, 0.0000, 0.0000, 0.0000, 0.0000, 0.0000, 0.0000,\n",
       "           0.0000, 0.0000, 0.0000, 0.0000, 0.0118, 0.0000, 0.1412, 0.5333,\n",
       "           0.4980, 0.2431, 0.2118, 0.0000, 0.0000, 0.0000, 0.0039, 0.0118,\n",
       "           0.0157, 0.0000, 0.0000, 0.0118],\n",
       "          [0.0000, 0.0000, 0.0000, 0.0000, 0.0000, 0.0000, 0.0000, 0.0000,\n",
       "           0.0000, 0.0000, 0.0000, 0.0000, 0.0235, 0.0000, 0.4000, 0.8000,\n",
       "           0.6902, 0.5255, 0.5647, 0.4824, 0.0902, 0.0000, 0.0000, 0.0000,\n",
       "           0.0000, 0.0471, 0.0392, 0.0000],\n",
       "          [0.0000, 0.0000, 0.0000, 0.0000, 0.0000, 0.0000, 0.0000, 0.0000,\n",
       "           0.0000, 0.0000, 0.0000, 0.0000, 0.0000, 0.0000, 0.6078, 0.9255,\n",
       "           0.8118, 0.6980, 0.4196, 0.6118, 0.6314, 0.4275, 0.2510, 0.0902,\n",
       "           0.3020, 0.5098, 0.2824, 0.0588],\n",
       "          [0.0000, 0.0000, 0.0000, 0.0000, 0.0000, 0.0000, 0.0000, 0.0000,\n",
       "           0.0000, 0.0000, 0.0000, 0.0039, 0.0000, 0.2706, 0.8118, 0.8745,\n",
       "           0.8549, 0.8471, 0.8471, 0.6392, 0.4980, 0.4745, 0.4784, 0.5725,\n",
       "           0.5529, 0.3451, 0.6745, 0.2588],\n",
       "          [0.0000, 0.0000, 0.0000, 0.0000, 0.0000, 0.0000, 0.0000, 0.0000,\n",
       "           0.0000, 0.0039, 0.0039, 0.0039, 0.0000, 0.7843, 0.9098, 0.9098,\n",
       "           0.9137, 0.8980, 0.8745, 0.8745, 0.8431, 0.8353, 0.6431, 0.4980,\n",
       "           0.4824, 0.7686, 0.8980, 0.0000],\n",
       "          [0.0000, 0.0000, 0.0000, 0.0000, 0.0000, 0.0000, 0.0000, 0.0000,\n",
       "           0.0000, 0.0000, 0.0000, 0.0000, 0.0000, 0.7176, 0.8824, 0.8471,\n",
       "           0.8745, 0.8941, 0.9216, 0.8902, 0.8784, 0.8706, 0.8784, 0.8667,\n",
       "           0.8745, 0.9608, 0.6784, 0.0000],\n",
       "          [0.0000, 0.0000, 0.0000, 0.0000, 0.0000, 0.0000, 0.0000, 0.0000,\n",
       "           0.0000, 0.0000, 0.0000, 0.0000, 0.0000, 0.7569, 0.8941, 0.8549,\n",
       "           0.8353, 0.7765, 0.7059, 0.8314, 0.8235, 0.8275, 0.8353, 0.8745,\n",
       "           0.8627, 0.9529, 0.7922, 0.0000],\n",
       "          [0.0000, 0.0000, 0.0000, 0.0000, 0.0000, 0.0000, 0.0000, 0.0000,\n",
       "           0.0000, 0.0039, 0.0118, 0.0000, 0.0471, 0.8588, 0.8627, 0.8314,\n",
       "           0.8549, 0.7529, 0.6627, 0.8902, 0.8157, 0.8549, 0.8784, 0.8314,\n",
       "           0.8863, 0.7725, 0.8196, 0.2039],\n",
       "          [0.0000, 0.0000, 0.0000, 0.0000, 0.0000, 0.0000, 0.0000, 0.0000,\n",
       "           0.0000, 0.0000, 0.0235, 0.0000, 0.3882, 0.9569, 0.8706, 0.8627,\n",
       "           0.8549, 0.7961, 0.7765, 0.8667, 0.8431, 0.8353, 0.8706, 0.8627,\n",
       "           0.9608, 0.4667, 0.6549, 0.2196],\n",
       "          [0.0000, 0.0000, 0.0000, 0.0000, 0.0000, 0.0000, 0.0000, 0.0000,\n",
       "           0.0000, 0.0157, 0.0000, 0.0000, 0.2157, 0.9255, 0.8941, 0.9020,\n",
       "           0.8941, 0.9412, 0.9098, 0.8353, 0.8549, 0.8745, 0.9176, 0.8510,\n",
       "           0.8510, 0.8196, 0.3608, 0.0000],\n",
       "          [0.0000, 0.0000, 0.0039, 0.0157, 0.0235, 0.0275, 0.0078, 0.0000,\n",
       "           0.0000, 0.0000, 0.0000, 0.0000, 0.9294, 0.8863, 0.8510, 0.8745,\n",
       "           0.8706, 0.8588, 0.8706, 0.8667, 0.8471, 0.8745, 0.8980, 0.8431,\n",
       "           0.8549, 1.0000, 0.3020, 0.0000],\n",
       "          [0.0000, 0.0118, 0.0000, 0.0000, 0.0000, 0.0000, 0.0000, 0.0000,\n",
       "           0.0000, 0.2431, 0.5686, 0.8000, 0.8941, 0.8118, 0.8353, 0.8667,\n",
       "           0.8549, 0.8157, 0.8275, 0.8549, 0.8784, 0.8745, 0.8588, 0.8431,\n",
       "           0.8784, 0.9569, 0.6235, 0.0000],\n",
       "          [0.0000, 0.0000, 0.0000, 0.0000, 0.0706, 0.1725, 0.3216, 0.4196,\n",
       "           0.7412, 0.8941, 0.8627, 0.8706, 0.8510, 0.8863, 0.7843, 0.8039,\n",
       "           0.8275, 0.9020, 0.8784, 0.9176, 0.6902, 0.7373, 0.9804, 0.9725,\n",
       "           0.9137, 0.9333, 0.8431, 0.0000],\n",
       "          [0.0000, 0.2235, 0.7333, 0.8157, 0.8784, 0.8667, 0.8784, 0.8157,\n",
       "           0.8000, 0.8392, 0.8157, 0.8196, 0.7843, 0.6235, 0.9608, 0.7569,\n",
       "           0.8078, 0.8745, 1.0000, 1.0000, 0.8667, 0.9176, 0.8667, 0.8275,\n",
       "           0.8627, 0.9098, 0.9647, 0.0000],\n",
       "          [0.0118, 0.7922, 0.8941, 0.8784, 0.8667, 0.8275, 0.8275, 0.8392,\n",
       "           0.8039, 0.8039, 0.8039, 0.8627, 0.9412, 0.3137, 0.5882, 1.0000,\n",
       "           0.8980, 0.8667, 0.7373, 0.6039, 0.7490, 0.8235, 0.8000, 0.8196,\n",
       "           0.8706, 0.8941, 0.8824, 0.0000],\n",
       "          [0.3843, 0.9137, 0.7765, 0.8235, 0.8706, 0.8980, 0.8980, 0.9176,\n",
       "           0.9765, 0.8627, 0.7608, 0.8431, 0.8510, 0.9451, 0.2549, 0.2863,\n",
       "           0.4157, 0.4588, 0.6588, 0.8588, 0.8667, 0.8431, 0.8510, 0.8745,\n",
       "           0.8745, 0.8784, 0.8980, 0.1137],\n",
       "          [0.2941, 0.8000, 0.8314, 0.8000, 0.7569, 0.8039, 0.8275, 0.8824,\n",
       "           0.8471, 0.7255, 0.7725, 0.8078, 0.7765, 0.8353, 0.9412, 0.7647,\n",
       "           0.8902, 0.9608, 0.9373, 0.8745, 0.8549, 0.8314, 0.8196, 0.8706,\n",
       "           0.8627, 0.8667, 0.9020, 0.2627],\n",
       "          [0.1882, 0.7961, 0.7176, 0.7608, 0.8353, 0.7725, 0.7255, 0.7451,\n",
       "           0.7608, 0.7529, 0.7922, 0.8392, 0.8588, 0.8667, 0.8627, 0.9255,\n",
       "           0.8824, 0.8471, 0.7804, 0.8078, 0.7294, 0.7098, 0.6941, 0.6745,\n",
       "           0.7098, 0.8039, 0.8078, 0.4510],\n",
       "          [0.0000, 0.4784, 0.8588, 0.7569, 0.7020, 0.6706, 0.7176, 0.7686,\n",
       "           0.8000, 0.8235, 0.8353, 0.8118, 0.8275, 0.8235, 0.7843, 0.7686,\n",
       "           0.7608, 0.7490, 0.7647, 0.7490, 0.7765, 0.7529, 0.6902, 0.6118,\n",
       "           0.6549, 0.6941, 0.8235, 0.3608],\n",
       "          [0.0000, 0.0000, 0.2902, 0.7412, 0.8314, 0.7490, 0.6863, 0.6745,\n",
       "           0.6863, 0.7098, 0.7255, 0.7373, 0.7412, 0.7373, 0.7569, 0.7765,\n",
       "           0.8000, 0.8196, 0.8235, 0.8235, 0.8275, 0.7373, 0.7373, 0.7608,\n",
       "           0.7529, 0.8471, 0.6667, 0.0000],\n",
       "          [0.0078, 0.0000, 0.0000, 0.0000, 0.2588, 0.7843, 0.8706, 0.9294,\n",
       "           0.9373, 0.9490, 0.9647, 0.9529, 0.9569, 0.8667, 0.8627, 0.7569,\n",
       "           0.7490, 0.7020, 0.7137, 0.7137, 0.7098, 0.6902, 0.6510, 0.6588,\n",
       "           0.3882, 0.2275, 0.0000, 0.0000],\n",
       "          [0.0000, 0.0000, 0.0000, 0.0000, 0.0000, 0.0000, 0.0000, 0.1569,\n",
       "           0.2392, 0.1725, 0.2824, 0.1608, 0.1373, 0.0000, 0.0000, 0.0000,\n",
       "           0.0000, 0.0000, 0.0000, 0.0000, 0.0000, 0.0000, 0.0000, 0.0000,\n",
       "           0.0000, 0.0000, 0.0000, 0.0000],\n",
       "          [0.0000, 0.0000, 0.0000, 0.0000, 0.0000, 0.0000, 0.0000, 0.0000,\n",
       "           0.0000, 0.0000, 0.0000, 0.0000, 0.0000, 0.0000, 0.0000, 0.0000,\n",
       "           0.0000, 0.0000, 0.0000, 0.0000, 0.0000, 0.0000, 0.0000, 0.0000,\n",
       "           0.0000, 0.0000, 0.0000, 0.0000],\n",
       "          [0.0000, 0.0000, 0.0000, 0.0000, 0.0000, 0.0000, 0.0000, 0.0000,\n",
       "           0.0000, 0.0000, 0.0000, 0.0000, 0.0000, 0.0000, 0.0000, 0.0000,\n",
       "           0.0000, 0.0000, 0.0000, 0.0000, 0.0000, 0.0000, 0.0000, 0.0000,\n",
       "           0.0000, 0.0000, 0.0000, 0.0000]]]))"
      ]
     },
     "execution_count": 302,
     "metadata": {},
     "output_type": "execute_result"
    }
   ],
   "source": [
    "img,label = train_data[0]\n",
    "label,img"
   ]
  },
  {
   "cell_type": "code",
   "execution_count": 303,
   "metadata": {},
   "outputs": [
    {
     "data": {
      "text/plain": [
       "(10,\n",
       " ['T-shirt/top',\n",
       "  'Trouser',\n",
       "  'Pullover',\n",
       "  'Dress',\n",
       "  'Coat',\n",
       "  'Sandal',\n",
       "  'Shirt',\n",
       "  'Sneaker',\n",
       "  'Bag',\n",
       "  'Ankle boot'])"
      ]
     },
     "execution_count": 303,
     "metadata": {},
     "output_type": "execute_result"
    }
   ],
   "source": [
    "classes_name = train_data.classes,\n",
    "classes_name = classes_name[0]\n",
    "len(train_data.classes), classes_name"
   ]
  },
  {
   "cell_type": "code",
   "execution_count": 304,
   "metadata": {},
   "outputs": [
    {
     "data": {
      "text/plain": [
       "{'T-shirt/top': 0,\n",
       " 'Trouser': 1,\n",
       " 'Pullover': 2,\n",
       " 'Dress': 3,\n",
       " 'Coat': 4,\n",
       " 'Sandal': 5,\n",
       " 'Shirt': 6,\n",
       " 'Sneaker': 7,\n",
       " 'Bag': 8,\n",
       " 'Ankle boot': 9}"
      ]
     },
     "execution_count": 304,
     "metadata": {},
     "output_type": "execute_result"
    }
   ],
   "source": [
    "train_data.class_to_idx"
   ]
  },
  {
   "cell_type": "code",
   "execution_count": 305,
   "metadata": {},
   "outputs": [
    {
     "data": {
      "text/plain": [
       "tensor([9, 0, 0,  ..., 3, 0, 5])"
      ]
     },
     "execution_count": 305,
     "metadata": {},
     "output_type": "execute_result"
    }
   ],
   "source": [
    "train_data.targets"
   ]
  },
  {
   "cell_type": "code",
   "execution_count": 306,
   "metadata": {},
   "outputs": [
    {
     "name": "stdout",
     "output_type": "stream",
     "text": [
      "image shape: torch.Size([1, 28, 28]),\n",
      "label: Ankle boot\n"
     ]
    }
   ],
   "source": [
    "img,label  = train_data[0]\n",
    "print(f\"image shape: {img.shape},\\nlabel: {classes_name[label]}\")"
   ]
  },
  {
   "cell_type": "code",
   "execution_count": 307,
   "metadata": {},
   "outputs": [
    {
     "name": "stdout",
     "output_type": "stream",
     "text": [
      "Image shape: torch.Size([1, 28, 28])\n"
     ]
    },
    {
     "data": {
      "text/plain": [
       "<matplotlib.image.AxesImage at 0x24557feab90>"
      ]
     },
     "execution_count": 307,
     "metadata": {},
     "output_type": "execute_result"
    },
    {
     "data": {
      "image/png": "[encoded data removed]",
      "text/plain": [
       "<Figure size 640x480 with 1 Axes>"
      ]
     },
     "metadata": {},
     "output_type": "display_data"
    }
   ],
   "source": [
    "img,label = train_data[1]\n",
    "plt.title(classes_name[label])\n",
    "print(f\"Image shape: {img.shape}\")\n",
    "plt.imshow(img.squeeze())"
   ]
  },
  {
   "cell_type": "code",
   "execution_count": 308,
   "metadata": {},
   "outputs": [
    {
     "data": {
      "text/plain": [
       "<matplotlib.image.AxesImage at 0x245580a5840>"
      ]
     },
     "execution_count": 308,
     "metadata": {},
     "output_type": "execute_result"
    },
    {
     "data": {
      "image/png": "[encoded data removed]",
      "text/plain": [
       "<Figure size 640x480 with 1 Axes>"
      ]
     },
     "metadata": {},
     "output_type": "display_data"
    }
   ],
   "source": [
    "plt.imshow(img.squeeze(),cmap=\"gray\")"
   ]
  },
  {
   "cell_type": "code",
   "execution_count": 309,
   "metadata": {},
   "outputs": [
    {
     "data": {
      "image/png": "[encoded data removed]",
      "text/plain": [
       "<Figure size 1000x1000 with 16 Axes>"
      ]
     },
     "metadata": {},
     "output_type": "display_data"
    }
   ],
   "source": [
    "# torch.manual_seed(42)\n",
    "\n",
    "fig = plt.figure(figsize=(10,10))\n",
    "\n",
    "n_rows = 4\n",
    "n_cols = 4\n",
    "\n",
    "for i in range(1,n_rows * n_cols + 1):\n",
    "    random_idx = torch.randint(low=0,high=len(train_data),size=(1,)).item()\n",
    "    img,label = train_data[random_idx]\n",
    "    fig.add_subplot(n_rows,n_cols,i)\n",
    "    plt.title(classes_name[label])\n",
    "    plt.imshow(img.squeeze(),cmap=\"gray\")\n",
    "    plt.axis(False)\n",
    "\n",
    "plt.tight_layout()"
   ]
  },
  {
   "cell_type": "code",
   "execution_count": 310,
   "metadata": {},
   "outputs": [
    {
     "data": {
      "text/plain": [
       "(Dataset FashionMNIST\n",
       "     Number of datapoints: 60000\n",
       "     Root location: data/fashion-mnist\n",
       "     Split: Train\n",
       "     StandardTransform\n",
       " Transform: ToTensor(),\n",
       " Dataset FashionMNIST\n",
       "     Number of datapoints: 10000\n",
       "     Root location: data/fashion-mnist\n",
       "     Split: Test\n",
       "     StandardTransform\n",
       " Transform: ToTensor())"
      ]
     },
     "execution_count": 310,
     "metadata": {},
     "output_type": "execute_result"
    }
   ],
   "source": [
    "train_data,test_data"
   ]
  },
  {
   "cell_type": "code",
   "execution_count": 311,
   "metadata": {},
   "outputs": [
    {
     "name": "stdout",
     "output_type": "stream",
     "text": [
      "Train data loader length: 1875, batch size 32\n",
      "Test data loader length: 313, batch size 32\n"
     ]
    },
    {
     "data": {
      "text/plain": [
       "(None,)"
      ]
     },
     "execution_count": 311,
     "metadata": {},
     "output_type": "execute_result"
    }
   ],
   "source": [
    "from torch.utils.data import DataLoader\n",
    "\n",
    "BATCH_SIZE = 32\n",
    "\n",
    "train_dataloader = DataLoader(dataset=train_data,batch_size=BATCH_SIZE,shuffle=True)\n",
    "test_dataloader = DataLoader(dataset=test_data,batch_size=BATCH_SIZE,shuffle=False)\n",
    "\n",
    "print(f\"Train data loader length: {len(train_dataloader)}, batch size {train_dataloader.batch_size}\"),\n",
    "print(\n",
    "    f\"Test data loader length: {len(test_dataloader)}, batch size {test_dataloader.batch_size}\"\n",
    "),"
   ]
  },
  {
   "cell_type": "code",
   "execution_count": 312,
   "metadata": {},
   "outputs": [
    {
     "data": {
      "text/plain": [
       "60000"
      ]
     },
     "execution_count": 312,
     "metadata": {},
     "output_type": "execute_result"
    }
   ],
   "source": [
    "len(train_dataloader.dataset)"
   ]
  },
  {
   "cell_type": "code",
   "execution_count": 313,
   "metadata": {},
   "outputs": [
    {
     "data": {
      "text/plain": [
       "(torch.Size([32, 1, 28, 28]), torch.Size([32]))"
      ]
     },
     "execution_count": 313,
     "metadata": {},
     "output_type": "execute_result"
    }
   ],
   "source": [
    "train_features_batch ,train_label_batch = next(iter(train_dataloader))\n",
    "train_features_batch.shape, train_label_batch.shape"
   ]
  },
  {
   "cell_type": "code",
   "execution_count": 314,
   "metadata": {},
   "outputs": [
    {
     "data": {
      "text/plain": [
       "(-0.5, 27.5, 27.5, -0.5)"
      ]
     },
     "execution_count": 314,
     "metadata": {},
     "output_type": "execute_result"
    },
    {
     "data": {
      "image/png": "[encoded data removed]",
      "text/plain": [
       "<Figure size 640x480 with 1 Axes>"
      ]
     },
     "metadata": {},
     "output_type": "display_data"
    }
   ],
   "source": [
    "random_idx = torch.randint(0,len(train_features_batch),size=(1,)).item()\n",
    "img,label = train_features_batch[random_idx],train_label_batch[random_idx]\n",
    "\n",
    "plt.title(classes_name[label])\n",
    "plt.imshow(img.squeeze(),cmap=\"gray\")\n",
    "plt.axis(False)"
   ]
  },
  {
   "cell_type": "code",
   "execution_count": 315,
   "metadata": {},
   "outputs": [
    {
     "name": "stdout",
     "output_type": "stream",
     "text": [
      "torch.Size([1, 28, 28])\n"
     ]
    },
    {
     "data": {
      "text/plain": [
       "torch.Size([1, 784])"
      ]
     },
     "execution_count": 315,
     "metadata": {},
     "output_type": "execute_result"
    }
   ],
   "source": [
    "from torch import nn\n",
    "flatten_model = nn.Flatten()\n",
    "\n",
    "x = train_features_batch[0]\n",
    "flatten_image = flatten_model(x)\n",
    "\n",
    "\n",
    "print(f\"{x.shape}\")\n",
    "flatten_image.shape"
   ]
  },
  {
   "cell_type": "code",
   "execution_count": 316,
   "metadata": {},
   "outputs": [
    {
     "data": {
      "text/plain": [
       "1875"
      ]
     },
     "execution_count": 316,
     "metadata": {},
     "output_type": "execute_result"
    }
   ],
   "source": [
    "len(train_dataloader)"
   ]
  },
  {
   "cell_type": "code",
   "execution_count": 317,
   "metadata": {},
   "outputs": [],
   "source": [
    "from typing import Union,List\n",
    "\n",
    "class FashionMNISTModelV0(nn.Module):\n",
    "    def __init__(self,input_shape:int,hidden_units:Union[int,List[int]],output_shape:int) -> None:\n",
    "        super().__init__()\n",
    "        self.layers_stack = nn.Sequential(\n",
    "            nn.Flatten(),\n",
    "            nn.Linear(in_features=input_shape, out_features=hidden_units),\n",
    "            nn.Linear(in_features=hidden_units, out_features=output_shape),\n",
    "        )\n",
    "\n",
    "    def forward(self,x:torch.Tensor):\n",
    "        return self.layers_stack(x)"
   ]
  },
  {
   "cell_type": "code",
   "execution_count": 318,
   "metadata": {},
   "outputs": [
    {
     "data": {
      "text/plain": [
       "FashionMNISTModelV0(\n",
       "  (layers_stack): Sequential(\n",
       "    (0): Flatten(start_dim=1, end_dim=-1)\n",
       "    (1): Linear(in_features=784, out_features=10, bias=True)\n",
       "    (2): Linear(in_features=10, out_features=10, bias=True)\n",
       "  )\n",
       ")"
      ]
     },
     "execution_count": 318,
     "metadata": {},
     "output_type": "execute_result"
    }
   ],
   "source": [
    "torch.manual_seed(42)\n",
    "model_v0 = FashionMNISTModelV0(input_shape=28*28,hidden_units=10,output_shape=len(classes_name))\n",
    "model_v0"
   ]
  },
  {
   "cell_type": "code",
   "execution_count": 319,
   "metadata": {},
   "outputs": [],
   "source": [
    "import sys\n",
    "from pathlib import Path\n",
    "\n",
    "sys.path.append(str(Path(\"helper_functions.py\").resolve().parent.parent))\n",
    "\n",
    "from helper_functions import plot_decision_boundary"
   ]
  },
  {
   "cell_type": "code",
   "execution_count": 320,
   "metadata": {},
   "outputs": [
    {
     "data": {
      "text/plain": [
       "torch.Size([1, 10])"
      ]
     },
     "execution_count": 320,
     "metadata": {},
     "output_type": "execute_result"
    }
   ],
   "source": [
    "dummy_x = torch.rand(size=(1,1,28,28))\n",
    "\n",
    "y_pred = model_v0(dummy_x)\n",
    "y_pred.shape"
   ]
  },
  {
   "cell_type": "code",
   "execution_count": 321,
   "metadata": {},
   "outputs": [
    {
     "data": {
      "text/plain": [
       "OrderedDict([('layers_stack.1.weight',\n",
       "              tensor([[ 0.0273,  0.0296, -0.0084,  ..., -0.0142,  0.0093,  0.0135],\n",
       "                      [-0.0188, -0.0354,  0.0187,  ..., -0.0106, -0.0001,  0.0115],\n",
       "                      [-0.0008,  0.0017,  0.0045,  ..., -0.0127, -0.0188,  0.0059],\n",
       "                      ...,\n",
       "                      [-0.0116,  0.0273, -0.0344,  ...,  0.0176,  0.0283, -0.0011],\n",
       "                      [-0.0230,  0.0257,  0.0291,  ..., -0.0187, -0.0087,  0.0001],\n",
       "                      [ 0.0176, -0.0147,  0.0053,  ..., -0.0336, -0.0221,  0.0205]])),\n",
       "             ('layers_stack.1.bias',\n",
       "              tensor([-0.0093,  0.0283, -0.0033,  0.0255,  0.0017,  0.0037, -0.0302, -0.0123,\n",
       "                       0.0018,  0.0163])),\n",
       "             ('layers_stack.2.weight',\n",
       "              tensor([[ 0.0614, -0.0687,  0.0021,  0.2718,  0.2109,  0.1079, -0.2279, -0.1063,\n",
       "                        0.2019,  0.2847],\n",
       "                      [-0.1495,  0.1344, -0.0740,  0.2006, -0.0475, -0.2514, -0.3130, -0.0118,\n",
       "                        0.0932, -0.1864],\n",
       "                      [ 0.2488,  0.1500,  0.1907,  0.1457, -0.3050, -0.0580,  0.1643,  0.1565,\n",
       "                       -0.2877, -0.1792],\n",
       "                      [ 0.2305, -0.2618,  0.2397, -0.0610,  0.0232,  0.1542,  0.0851, -0.2027,\n",
       "                        0.1030, -0.2715],\n",
       "                      [-0.1596, -0.0555, -0.0633,  0.2302, -0.1726,  0.2654,  0.1473,  0.1029,\n",
       "                        0.2252, -0.2160],\n",
       "                      [-0.2725,  0.0118,  0.1559,  0.1596,  0.0132,  0.3024,  0.1124,  0.1366,\n",
       "                       -0.1533,  0.0965],\n",
       "                      [-0.1184, -0.2555, -0.2057, -0.1909, -0.0477, -0.1324,  0.2905,  0.1307,\n",
       "                       -0.2629,  0.0133],\n",
       "                      [ 0.2727, -0.0127,  0.0513,  0.0863, -0.1043, -0.2047, -0.1185, -0.0825,\n",
       "                        0.2488, -0.2571],\n",
       "                      [ 0.0425, -0.1209, -0.0336, -0.0281, -0.1227,  0.0730,  0.0747, -0.1816,\n",
       "                        0.1943,  0.2853],\n",
       "                      [-0.1310,  0.0645, -0.1171,  0.2168, -0.0245, -0.2820,  0.0736,  0.2621,\n",
       "                        0.0012, -0.0810]])),\n",
       "             ('layers_stack.2.bias',\n",
       "              tensor([-0.0087,  0.1791,  0.2712, -0.0791,  0.1685,  0.1762,  0.2825,  0.2266,\n",
       "                      -0.2612, -0.2613]))])"
      ]
     },
     "execution_count": 321,
     "metadata": {},
     "output_type": "execute_result"
    }
   ],
   "source": [
    "model_v0.state_dict()"
   ]
  },
  {
   "cell_type": "code",
   "execution_count": 322,
   "metadata": {},
   "outputs": [],
   "source": [
    "import torchmetrics\n",
    "\n",
    "loss_fn = nn.CrossEntropyLoss()\n",
    "optimizer = torch.optim.SGD(params=model_v0.parameters(),lr=0.1)\n",
    "accuracy_fn= torchmetrics.Accuracy(task=\"multiclass\", num_classes=len(classes_name))"
   ]
  },
  {
   "cell_type": "code",
   "execution_count": 323,
   "metadata": {},
   "outputs": [],
   "source": [
    "def print_train_time(start:float,end:float,device:torch.device = None):\n",
    "    total_time = end - start\n",
    "    print(f\"Total time on {device} is: {total_time:.3f} in seconds\")\n",
    "    return total_time"
   ]
  },
  {
   "cell_type": "code",
   "execution_count": 324,
   "metadata": {},
   "outputs": [
    {
     "name": "stdout",
     "output_type": "stream",
     "text": [
      "Total time on cpu is: 0.000 in seconds\n"
     ]
    },
    {
     "data": {
      "text/plain": [
       "1.1300202459096909e-05"
      ]
     },
     "execution_count": 324,
     "metadata": {},
     "output_type": "execute_result"
    }
   ],
   "source": [
    "from timeit import default_timer as timer\n",
    "\n",
    "start = timer()\n",
    "\n",
    "end = timer()\n",
    "print_train_time(start,end,device=\"cpu\")"
   ]
  },
  {
   "cell_type": "code",
   "execution_count": 325,
   "metadata": {},
   "outputs": [],
   "source": [
    "# from tqdm.auto import tqdm\n",
    "\n",
    "# start = timer()\n",
    "\n",
    "# torch.manual_seed(42)\n",
    "\n",
    "# epochs = 3\n",
    "# model_v0.to(\"cpu\")\n",
    "\n",
    "# for epoch in tqdm(range(epochs)):\n",
    "#     print(f\"Epoch: {epoch}\\n----\")\n",
    "\n",
    "#     train_loss = 0\n",
    "#     for batch,(X,y) in enumerate(train_dataloader):\n",
    "#         model_v0.train()\n",
    "#         y_logits = model_v0(X)\n",
    "#         y_preds = torch.argmax(y_logits,dim=1)\n",
    "\n",
    "#         loss = loss_fn(y_logits, y)\n",
    "#         train_loss += loss\n",
    "\n",
    "#         optimizer.zero_grad()\n",
    "#         loss.backward()\n",
    "#         optimizer.step()\n",
    "\n",
    "#         if batch % 400 == 0:\n",
    "#             print(f\"Looked at batch {batch * len(X)} / { len(train_dataloader.dataset)} samples\")\n",
    "#             train_acc = accuracy_fn(y_preds.cpu(), y.cpu())\n",
    "#     train_loss /= len(train_dataloader)\n",
    "\n",
    "#     model_v0.eval()\n",
    "#     test_loss = 0\n",
    "#     with torch.inference_mode():\n",
    "#         for X_test,y_test in test_dataloader:\n",
    "#             y_logits = model_v0(X_test)\n",
    "#             y_preds = torch.argmax(y_logits,dim=1)\n",
    "\n",
    "#             loss = loss_fn(y_logits, y_test)\n",
    "#             test_loss += loss\n",
    "\n",
    "#             test_acc = accuracy_fn(y_preds, y_test)\n",
    "\n",
    "#         test_loss /= len(test_dataloader)\n",
    "\n",
    "#     print(f\"Train loss: {train_loss.item()} | Train Acc: {train_acc}\")\n",
    "#     print(f\"Test loss: {test_loss} | Test Acc: {test_acc}\")\n",
    "# end = timer()\n",
    "\n",
    "# print_train_time(start,end,device=\"cpu\")"
   ]
  },
  {
   "cell_type": "code",
   "execution_count": 326,
   "metadata": {},
   "outputs": [
    {
     "data": {
      "text/plain": [
       "FashionMNISTModelV0(\n",
       "  (layers_stack): Sequential(\n",
       "    (0): Flatten(start_dim=1, end_dim=-1)\n",
       "    (1): Linear(in_features=784, out_features=10, bias=True)\n",
       "    (2): Linear(in_features=10, out_features=10, bias=True)\n",
       "  )\n",
       ")"
      ]
     },
     "execution_count": 326,
     "metadata": {},
     "output_type": "execute_result"
    }
   ],
   "source": [
    "model_v0.to(\"cuda\")"
   ]
  },
  {
   "cell_type": "code",
   "execution_count": 327,
   "metadata": {},
   "outputs": [
    {
     "name": "stderr",
     "output_type": "stream",
     "text": [
      "  0%|          | 0/3 [00:00<?, ?it/s]"
     ]
    },
    {
     "name": "stdout",
     "output_type": "stream",
     "text": [
      "Epoch: 0\n",
      "----\n",
      "Looked at batch: 0 / 60000\n",
      "Looked at batch: 12800 / 60000\n",
      "Looked at batch: 25600 / 60000\n",
      "Looked at batch: 38400 / 60000\n",
      "Looked at batch: 51200 / 60000\n"
     ]
    },
    {
     "name": "stderr",
     "output_type": "stream",
     "text": [
      " 33%|███▎      | 1/3 [00:30<01:00, 30.20s/it]"
     ]
    },
    {
     "name": "stdout",
     "output_type": "stream",
     "text": [
      "Train loss: 0.5877593755722046 | Train Acc: 0.8125\n",
      "Test loss: 0.6322419047355652 | Test Acc: 0.8125\n",
      "Epoch: 1\n",
      "----\n",
      "Looked at batch: 0 / 60000\n",
      "Looked at batch: 12800 / 60000\n",
      "Looked at batch: 25600 / 60000\n",
      "Looked at batch: 38400 / 60000\n",
      "Looked at batch: 51200 / 60000\n"
     ]
    },
    {
     "name": "stderr",
     "output_type": "stream",
     "text": [
      " 67%|██████▋   | 2/3 [01:26<00:45, 45.45s/it]"
     ]
    },
    {
     "name": "stdout",
     "output_type": "stream",
     "text": [
      "Train loss: 0.47600895166397095 | Train Acc: 0.84375\n",
      "Test loss: 0.5046310424804688 | Test Acc: 0.8125\n",
      "Epoch: 2\n",
      "----\n",
      "Looked at batch: 0 / 60000\n",
      "Looked at batch: 12800 / 60000\n",
      "Looked at batch: 25600 / 60000\n",
      "Looked at batch: 38400 / 60000\n",
      "Looked at batch: 51200 / 60000\n"
     ]
    },
    {
     "name": "stderr",
     "output_type": "stream",
     "text": [
      "100%|██████████| 3/3 [01:44<00:00, 34.90s/it]"
     ]
    },
    {
     "name": "stdout",
     "output_type": "stream",
     "text": [
      "Train loss: 0.45246896147727966 | Train Acc: 0.9375\n",
      "Test loss: 0.5012819170951843 | Test Acc: 0.9375\n",
      "Total time on cuda is: 104.716 in seconds\n"
     ]
    },
    {
     "name": "stderr",
     "output_type": "stream",
     "text": [
      "\n"
     ]
    }
   ],
   "source": [
    "from tqdm.auto import tqdm\n",
    "\n",
    "start = timer()\n",
    "\n",
    "# torch.manual_seed(42)\n",
    "torch.cuda.manual_seed(42)\n",
    "epochs = 3\n",
    "\n",
    "\n",
    "for epoch in tqdm(range(epochs)):\n",
    "    print(f\"Epoch: {epoch}\\n----\")\n",
    "\n",
    "    train_loss = 0\n",
    "\n",
    "    for batch,(X,y) in enumerate(train_dataloader):\n",
    "        model_v0.train()\n",
    "        X = X.to(\"cuda\")\n",
    "        y = y.to(\"cuda\")\n",
    "\n",
    "        y_logits = model_v0(X)\n",
    "        y_preds = torch.argmax(y_logits, dim=1)\n",
    "        loss = loss_fn(y_logits, y)\n",
    "\n",
    "        train_loss += loss\n",
    "        train_acc = accuracy_fn(y_preds.to(\"cpu\"), y.to(\"cpu\"))\n",
    "        optimizer.zero_grad()\n",
    "\n",
    "        loss.backward()\n",
    "\n",
    "        optimizer.step()\n",
    "\n",
    "        if batch % 400 == 0:\n",
    "            print(f\"Looked at batch: {batch * len(X)} / {len(train_dataloader.dataset)}\")\n",
    "\n",
    "    test_loss = 0 \n",
    "    for X_test,y_test in test_dataloader:\n",
    "        X_test = X_test.to(\"cuda\")\n",
    "        y_test = y_test.to(\"cuda\")\n",
    "        y_logits = model_v0(X_test)\n",
    "        y_preds = torch.argmax(y_logits,dim=1)\n",
    "\n",
    "        test_loss += loss_fn(y_logits.cpu(), y_test.cpu())\n",
    "        test_acc = accuracy_fn(y_preds.cpu(), y_test.cpu())\n",
    "\n",
    "    train_loss /= len(train_dataloader)\n",
    "    test_loss /= len(test_dataloader)\n",
    "    print(f\"Train loss: {train_loss} | Train Acc: {train_acc}\")\n",
    "    print(f\"Test loss: {test_loss} | Test Acc: {test_acc}\")\n",
    "\n",
    "\n",
    "end = timer()\n",
    "\n",
    "total_time = print_train_time(start,end,\"cuda\")"
   ]
  },
  {
   "cell_type": "code",
   "execution_count": 328,
   "metadata": {},
   "outputs": [],
   "source": [
    "torch.manual_seed(42)\n",
    "def eval_model(model:torch.nn.Module,data_loader:torch.utils.data.DataLoader,loss_fn:torch.nn.Module,acc_fn,total_time:float,device:torch.device):\n",
    "    loss = 0\n",
    "    model.eval()\n",
    "    with torch.inference_mode():\n",
    "        for X,y in tqdm(data_loader):\n",
    "            X = X.to(device)\n",
    "            y = y.to(device)\n",
    "            y_logits = model(X)\n",
    "            y_preds = torch.argmax(y_logits,dim=1)\n",
    "\n",
    "            loss += loss_fn(y_logits,y)\n",
    "            acc = acc_fn(y_preds.cpu(),y.cpu())\n",
    "        loss /= len(data_loader)\n",
    "    return {\"model_name\": model.__class__.__name__,\n",
    "            \"model_loss\": round(loss.item(),4),\n",
    "            \"model_acc\":acc,\n",
    "            \"total_time\": total_time}"
   ]
  },
  {
   "cell_type": "code",
   "execution_count": 329,
   "metadata": {},
   "outputs": [
    {
     "name": "stderr",
     "output_type": "stream",
     "text": [
      "100%|██████████| 313/313 [00:00<00:00, 405.79it/s]\n"
     ]
    },
    {
     "data": {
      "text/plain": [
       "{'model_name': 'FashionMNISTModelV0',\n",
       " 'model_loss': 0.5013,\n",
       " 'model_acc': tensor(0.9375),\n",
       " 'total_time': 104.71584089985117}"
      ]
     },
     "execution_count": 329,
     "metadata": {},
     "output_type": "execute_result"
    }
   ],
   "source": [
    "model_v0_results = eval_model(model_v0.cpu(),test_dataloader,loss_fn,accuracy_fn,total_time,device=\"cpu\")\n",
    "model_v0_results"
   ]
  },
  {
   "cell_type": "code",
   "execution_count": 330,
   "metadata": {},
   "outputs": [],
   "source": [
    "class FashionMNISTModelV1(nn.Module):\n",
    "    def __init__(self,input_shape:int,hidden_units:int,output_shape:int):\n",
    "        super().__init__()\n",
    "        self.layers = nn.Sequential(\n",
    "            nn.Flatten(),\n",
    "            nn.Linear(input_shape, hidden_units),\n",
    "            nn.ReLU(),\n",
    "            nn.Linear(hidden_units, output_shape),\n",
    "            nn.ReLU(),\n",
    "        )\n",
    "\n",
    "    def forward(self,x):\n",
    "        return self.layers(x)"
   ]
  },
  {
   "cell_type": "code",
   "execution_count": 331,
   "metadata": {},
   "outputs": [],
   "source": [
    "torch.manual_seed(42)\n",
    "model_v1 = FashionMNISTModelV1(input_shape=28*28,hidden_units=10,output_shape=len(classes_name)).to(device)"
   ]
  },
  {
   "cell_type": "code",
   "execution_count": 332,
   "metadata": {},
   "outputs": [
    {
     "data": {
      "text/plain": [
       "device(type='cuda', index=0)"
      ]
     },
     "execution_count": 332,
     "metadata": {},
     "output_type": "execute_result"
    }
   ],
   "source": [
    "next(model_v1.parameters()).device"
   ]
  },
  {
   "cell_type": "code",
   "execution_count": 333,
   "metadata": {},
   "outputs": [],
   "source": [
    "loss_fn  = nn.CrossEntropyLoss()\n",
    "optimizer = torch.optim.SGD(params=model_v1.parameters(),lr=0.1)\n",
    "accuracy_fn = torchmetrics.Accuracy(task=\"multiclass\",num_classes=len(classes_name))"
   ]
  },
  {
   "cell_type": "code",
   "execution_count": 334,
   "metadata": {},
   "outputs": [],
   "source": [
    "def train_step(model:nn.Module,data_loader:torch.utils.data.DataLoader,device:torch.device,loss_fn:nn.Module,optimizer:torch.optim.Optimizer,acc_fn:torchmetrics.Metric):\n",
    "\n",
    "    model.train()\n",
    "    train_loss = 0\n",
    "    for batch, (X, y) in enumerate(data_loader):\n",
    "        X = X.to(device)\n",
    "        y = y.to(device)\n",
    "        y_logits = model(X)\n",
    "        y_preds = torch.argmax(y_logits,dim=1)\n",
    "\n",
    "        loss = loss_fn(y_logits, y)\n",
    "        train_loss += loss\n",
    "\n",
    "        optimizer.zero_grad()\n",
    "        loss.backward()\n",
    "        optimizer.step()\n",
    "\n",
    "        # if batch % 400 == 0:\n",
    "        #     print(f\"Lookead at {batch * len(X)} / {len(train_dataloader.dataset)}\")\n",
    "\n",
    "    train_loss /= len(train_dataloader)\n",
    "    train_acc = acc_fn(y_preds.cpu(),y.cpu())\n",
    "    print(f\"Train Loss: {train_loss:.4f} | Train Acc: {train_acc}\")"
   ]
  },
  {
   "cell_type": "code",
   "execution_count": 335,
   "metadata": {},
   "outputs": [],
   "source": [
    "def test_step(\n",
    "    model: torch.nn.Module,\n",
    "    data_loader: torch.utils.data.DataLoader,\n",
    "    loss_fn: torch.nn.Module,\n",
    "    acc_fn,\n",
    "    device: torch.device,\n",
    "):\n",
    "    loss = 0\n",
    "    model.eval()\n",
    "    with torch.inference_mode():\n",
    "        for X, y in tqdm(data_loader):\n",
    "            X = X.to(device)\n",
    "            y = y.to(device)\n",
    "            y_logits = model(X)\n",
    "            y_preds = torch.argmax(y_logits, dim=1)\n",
    "\n",
    "            loss += loss_fn(y_logits, y)\n",
    "            acc = acc_fn(y_preds.cpu(), y.cpu())\n",
    "        loss /= len(data_loader)\n",
    "        print(f\"Test loss: {loss:.4f} | Test acc: {acc:.4f}\")"
   ]
  },
  {
   "cell_type": "code",
   "execution_count": 336,
   "metadata": {},
   "outputs": [],
   "source": [
    "# start = timer()\n",
    "# model_v1.to(\"cpu\")\n",
    "# torch.manual_seed(42)\n",
    "\n",
    "# for epoch in tqdm(range(epochs)):\n",
    "#     print(f\"Epoch: {epoch}\\n----\")\n",
    "\n",
    "#     train_step(\n",
    "#         model=model_v1,\n",
    "#         data_loader=train_dataloader,\n",
    "#         device=\"cpu\",\n",
    "#         acc_fn=accuracy_fn,\n",
    "#         loss_fn=loss_fn,\n",
    "#         optimizer=optimizer,\n",
    "#     )\n",
    "#     test_step(model_v1, test_dataloader, loss_fn, accuracy_fn, device=\"cpu\")\n",
    "# end = timer()\n",
    "\n",
    "# print_train_time(start, end, device=\"cpu\")"
   ]
  },
  {
   "cell_type": "code",
   "execution_count": 337,
   "metadata": {},
   "outputs": [
    {
     "name": "stderr",
     "output_type": "stream",
     "text": [
      "  0%|          | 0/3 [00:00<?, ?it/s]"
     ]
    },
    {
     "name": "stdout",
     "output_type": "stream",
     "text": [
      "Epoch: 0\n",
      "----\n",
      "Train Loss: 1.0588 | Train Acc: 0.75\n"
     ]
    },
    {
     "name": "stderr",
     "output_type": "stream",
     "text": [
      "100%|██████████| 313/313 [00:00<00:00, 342.22it/s]\n",
      " 33%|███▎      | 1/3 [00:07<00:14,  7.02s/it]"
     ]
    },
    {
     "name": "stdout",
     "output_type": "stream",
     "text": [
      "Test loss: 0.9951 | Test acc: 0.7500\n",
      "Epoch: 1\n",
      "----\n",
      "Train Loss: 0.9118 | Train Acc: 0.75\n"
     ]
    },
    {
     "name": "stderr",
     "output_type": "stream",
     "text": [
      "100%|██████████| 313/313 [00:00<00:00, 393.23it/s]\n",
      " 67%|██████▋   | 2/3 [00:13<00:06,  6.98s/it]"
     ]
    },
    {
     "name": "stdout",
     "output_type": "stream",
     "text": [
      "Test loss: 0.9574 | Test acc: 0.6875\n",
      "Epoch: 2\n",
      "----\n",
      "Train Loss: 0.8817 | Train Acc: 0.6875\n"
     ]
    },
    {
     "name": "stderr",
     "output_type": "stream",
     "text": [
      "100%|██████████| 313/313 [00:00<00:00, 357.56it/s]\n",
      "100%|██████████| 3/3 [00:20<00:00,  7.00s/it]"
     ]
    },
    {
     "name": "stdout",
     "output_type": "stream",
     "text": [
      "Test loss: 0.8910 | Test acc: 0.6875\n",
      "Total time on cuda is: 21.001 in seconds\n"
     ]
    },
    {
     "name": "stderr",
     "output_type": "stream",
     "text": [
      "\n"
     ]
    }
   ],
   "source": [
    "start = timer()\n",
    "model_v1.to(\"cuda\")\n",
    "# torch.manual_seed(42)\n",
    "torch.cuda.manual_seed(42)\n",
    "epochs = 3\n",
    "\n",
    "for epoch in tqdm(range(epochs)):\n",
    "    print(f\"Epoch: {epoch}\\n----\")\n",
    "    train_step(\n",
    "        model=model_v1,\n",
    "        data_loader=train_dataloader,\n",
    "        device=\"cuda\",\n",
    "        acc_fn=accuracy_fn,\n",
    "        loss_fn=loss_fn,\n",
    "        optimizer=optimizer,\n",
    "    )\n",
    "    test_step(model_v1,test_dataloader,loss_fn,accuracy_fn,device)\n",
    "end = timer()\n",
    "\n",
    "total_time = print_train_time(start,end,device=\"cuda\")"
   ]
  },
  {
   "cell_type": "code",
   "execution_count": 338,
   "metadata": {},
   "outputs": [
    {
     "data": {
      "text/plain": [
       "{'model_name': 'FashionMNISTModelV0',\n",
       " 'model_loss': 0.5013,\n",
       " 'model_acc': tensor(0.9375),\n",
       " 'total_time': 104.71584089985117}"
      ]
     },
     "execution_count": 338,
     "metadata": {},
     "output_type": "execute_result"
    }
   ],
   "source": [
    "model_v0_results"
   ]
  },
  {
   "cell_type": "code",
   "execution_count": 339,
   "metadata": {},
   "outputs": [
    {
     "name": "stderr",
     "output_type": "stream",
     "text": [
      "100%|██████████| 313/313 [00:00<00:00, 392.36it/s]\n"
     ]
    },
    {
     "data": {
      "text/plain": [
       "{'model_name': 'FashionMNISTModelV1',\n",
       " 'model_loss': 0.891,\n",
       " 'model_acc': tensor(0.6875),\n",
       " 'total_time': 21.001381000038236}"
      ]
     },
     "execution_count": 339,
     "metadata": {},
     "output_type": "execute_result"
    }
   ],
   "source": [
    "model_v1_results = eval_model(\n",
    "    model_v1, test_dataloader, loss_fn, accuracy_fn,total_time,device \n",
    ")\n",
    "model_v1_results"
   ]
  },
  {
   "cell_type": "code",
   "execution_count": 340,
   "metadata": {},
   "outputs": [],
   "source": [
    "class FashionMNISTModelV2(nn.Module):\n",
    "    def __init__(self, input_shape:int,hidden_units:int,output_shape:int):\n",
    "        super().__init__()\n",
    "        self.conv_block_1 = nn.Sequential(\n",
    "            nn.Conv2d(in_channels=input_shape,\n",
    "                      out_channels=hidden_units,\n",
    "                      kernel_size=3,\n",
    "                      padding=1,\n",
    "                      stride=1),\n",
    "            nn.ReLU(),\n",
    "            nn.Conv2d(in_channels=hidden_units,\n",
    "                      out_channels=hidden_units,\n",
    "                      kernel_size=3,\n",
    "                      padding=1,\n",
    "                      stride=1),\n",
    "            nn.ReLU(),\n",
    "            nn.MaxPool2d(kernel_size=2)\n",
    "        )\n",
    "\n",
    "        self.conv_block_2 = nn.Sequential(\n",
    "            nn.Conv2d(in_channels=hidden_units,\n",
    "                      out_channels=hidden_units,\n",
    "                      kernel_size=3,\n",
    "                      stride=1,\n",
    "                      padding=1),\n",
    "            nn.ReLU(),\n",
    "            nn.Conv2d(in_channels=hidden_units,\n",
    "                      out_channels=hidden_units,\n",
    "                      kernel_size=3,\n",
    "                      stride=1,\n",
    "                      padding=1),\n",
    "            nn.ReLU(),\n",
    "            nn.MaxPool2d(kernel_size=2)\n",
    "        )\n",
    "\n",
    "        self.classifier = nn.Sequential(\n",
    "            nn.Flatten(),\n",
    "            nn.Linear(in_features=hidden_units * 7 * 7,out_features=output_shape),\n",
    "\n",
    "        )\n",
    "    def forward(self,x):\n",
    "        x  = self.conv_block_1(x)\n",
    "        x = self.conv_block_2(x)\n",
    "        x = self.classifier(x)\n",
    "        return x"
   ]
  },
  {
   "cell_type": "code",
   "execution_count": 341,
   "metadata": {},
   "outputs": [
    {
     "name": "stdout",
     "output_type": "stream",
     "text": [
      "Images shape torch.Size([32, 3, 64, 64])\n",
      "Image shape torch.Size([3, 64, 64])\n"
     ]
    }
   ],
   "source": [
    "torch.manual_seed(42)\n",
    "images = torch.randn(size=(32,3,64,64))\n",
    "test_image = images[0]\n",
    "\n",
    "print(f\"Images shape {images.shape}\")\n",
    "print(f\"Image shape {test_image.shape}\")"
   ]
  },
  {
   "cell_type": "code",
   "execution_count": 342,
   "metadata": {},
   "outputs": [
    {
     "data": {
      "text/plain": [
       "torch.Size([10, 62, 62])"
      ]
     },
     "execution_count": 342,
     "metadata": {},
     "output_type": "execute_result"
    }
   ],
   "source": [
    "torch.manual_seed(42)\n",
    "conv_layers = nn.Conv2d(in_channels=3,out_channels=10,kernel_size=3,padding=0,stride=1)\n",
    "conv_layers(test_image).shape"
   ]
  },
  {
   "cell_type": "code",
   "execution_count": 343,
   "metadata": {},
   "outputs": [
    {
     "name": "stdout",
     "output_type": "stream",
     "text": [
      "Test image shape: torch.Size([3, 64, 64])\n",
      "After go in conv layer : torch.Size([10, 62, 62])\n",
      "After go in conv layer and max pool layer: torch.Size([10, 31, 31])\n"
     ]
    }
   ],
   "source": [
    "print(f\"Test image shape: {test_image.shape}\")\n",
    "\n",
    "\n",
    "after_conv_layer = conv_layers(test_image)\n",
    "print(f\"After go in conv layer : {after_conv_layer.shape}\")\n",
    "\n",
    "max_pool_layer = nn.MaxPool2d(kernel_size=2)\n",
    "max_pool_tensor = max_pool_layer(after_conv_layer)\n",
    "print(f\"After go in conv layer and max pool layer: {max_pool_tensor.shape}\")"
   ]
  },
  {
   "cell_type": "code",
   "execution_count": 344,
   "metadata": {},
   "outputs": [],
   "source": [
    "random_tensor = torch.randn(size=(1,1,28,28)).to(device)\n"
   ]
  },
  {
   "cell_type": "code",
   "execution_count": 351,
   "metadata": {},
   "outputs": [],
   "source": [
    "torch.manual_seed(42)\n",
    "model_v2 = FashionMNISTModelV2(input_shape=1,hidden_units=10,output_shape=len(classes_name)).to(device)"
   ]
  },
  {
   "cell_type": "code",
   "execution_count": 352,
   "metadata": {},
   "outputs": [],
   "source": [
    "loss_fn = nn.CrossEntropyLoss()\n",
    "optimizer = torch.optim.SGD(params=model_v2.parameters(), lr=0.1)\n",
    "accuracy_fn = torchmetrics.Accuracy(task=\"multiclass\", num_classes=len(classes_name))"
   ]
  },
  {
   "cell_type": "code",
   "execution_count": 353,
   "metadata": {},
   "outputs": [
    {
     "name": "stderr",
     "output_type": "stream",
     "text": [
      "  0%|          | 0/3 [00:00<?, ?it/s]"
     ]
    },
    {
     "name": "stdout",
     "output_type": "stream",
     "text": [
      "Epoch: 0\n",
      "----\n",
      "Train Loss: 0.5788 | Train Acc: 0.875\n"
     ]
    },
    {
     "name": "stderr",
     "output_type": "stream",
     "text": [
      "100%|██████████| 313/313 [00:02<00:00, 155.48it/s]\n",
      " 33%|███▎      | 1/3 [00:10<00:20, 10.31s/it]"
     ]
    },
    {
     "name": "stdout",
     "output_type": "stream",
     "text": [
      "Test loss: 0.3969 | Test acc: 0.9375\n",
      "Epoch: 1\n",
      "----\n",
      "Train Loss: 0.3579 | Train Acc: 0.90625\n"
     ]
    },
    {
     "name": "stderr",
     "output_type": "stream",
     "text": [
      "100%|██████████| 313/313 [00:01<00:00, 285.80it/s]\n",
      " 67%|██████▋   | 2/3 [00:29<00:15, 15.79s/it]"
     ]
    },
    {
     "name": "stdout",
     "output_type": "stream",
     "text": [
      "Test loss: 0.3873 | Test acc: 1.0000\n",
      "Epoch: 2\n",
      "----\n",
      "Train Loss: 0.3190 | Train Acc: 0.8125\n"
     ]
    },
    {
     "name": "stderr",
     "output_type": "stream",
     "text": [
      "100%|██████████| 313/313 [00:00<00:00, 329.91it/s]\n",
      "100%|██████████| 3/3 [00:47<00:00, 15.86s/it]"
     ]
    },
    {
     "name": "stdout",
     "output_type": "stream",
     "text": [
      "Test loss: 0.3247 | Test acc: 0.9375\n",
      "Total time on cuda is: 47.586 in seconds\n"
     ]
    },
    {
     "name": "stderr",
     "output_type": "stream",
     "text": [
      "\n"
     ]
    }
   ],
   "source": [
    "start = timer()\n",
    "model_v2.to(\"cuda\")\n",
    "# torch.manual_seed(42)\n",
    "torch.cuda.manual_seed(42)\n",
    "epochs = 3\n",
    "\n",
    "for epoch in tqdm(range(epochs)):\n",
    "    print(f\"Epoch: {epoch}\\n----\")\n",
    "    train_step(\n",
    "        model=model_v2,\n",
    "        data_loader=train_dataloader,\n",
    "        device=\"cuda\",\n",
    "        acc_fn=accuracy_fn,\n",
    "        loss_fn=loss_fn,\n",
    "        optimizer=optimizer,\n",
    "    )\n",
    "    test_step(model_v2, test_dataloader, loss_fn, accuracy_fn, device)\n",
    "end = timer()\n",
    "\n",
    "total_time = print_train_time(start, end, device=\"cuda\")"
   ]
  },
  {
   "cell_type": "code",
   "execution_count": 354,
   "metadata": {},
   "outputs": [
    {
     "name": "stderr",
     "output_type": "stream",
     "text": [
      "100%|██████████| 313/313 [00:01<00:00, 303.36it/s]\n"
     ]
    },
    {
     "data": {
      "text/plain": [
       "{'model_name': 'FashionMNISTModelV2',\n",
       " 'model_loss': 0.3247,\n",
       " 'model_acc': tensor(0.9375),\n",
       " 'total_time': 47.5860472000204}"
      ]
     },
     "execution_count": 354,
     "metadata": {},
     "output_type": "execute_result"
    }
   ],
   "source": [
    "model_v2_results = eval_model(\n",
    "    model_v2,\n",
    "    test_dataloader,\n",
    "    loss_fn,\n",
    "    accuracy_fn,\n",
    "    device=device,\n",
    "    total_time=total_time,\n",
    ")\n",
    "model_v2_results"
   ]
  },
  {
   "cell_type": "code",
   "execution_count": 355,
   "metadata": {},
   "outputs": [
    {
     "data": {
      "text/html": [
       "<div>\n",
       "<style scoped>\n",
       "    .dataframe tbody tr th:only-of-type {\n",
       "        vertical-align: middle;\n",
       "    }\n",
       "\n",
       "    .dataframe tbody tr th {\n",
       "        vertical-align: top;\n",
       "    }\n",
       "\n",
       "    .dataframe thead th {\n",
       "        text-align: right;\n",
       "    }\n",
       "</style>\n",
       "<table border=\"1\" class=\"dataframe\">\n",
       "  <thead>\n",
       "    <tr style=\"text-align: right;\">\n",
       "      <th></th>\n",
       "      <th>model_name</th>\n",
       "      <th>model_loss</th>\n",
       "      <th>model_acc</th>\n",
       "      <th>total_time</th>\n",
       "    </tr>\n",
       "  </thead>\n",
       "  <tbody>\n",
       "    <tr>\n",
       "      <th>0</th>\n",
       "      <td>FashionMNISTModelV0</td>\n",
       "      <td>0.5013</td>\n",
       "      <td>tensor(0.9375)</td>\n",
       "      <td>104.715841</td>\n",
       "    </tr>\n",
       "    <tr>\n",
       "      <th>1</th>\n",
       "      <td>FashionMNISTModelV1</td>\n",
       "      <td>0.8910</td>\n",
       "      <td>tensor(0.6875)</td>\n",
       "      <td>21.001381</td>\n",
       "    </tr>\n",
       "    <tr>\n",
       "      <th>2</th>\n",
       "      <td>FashionMNISTModelV2</td>\n",
       "      <td>0.3247</td>\n",
       "      <td>tensor(0.9375)</td>\n",
       "      <td>47.586047</td>\n",
       "    </tr>\n",
       "  </tbody>\n",
       "</table>\n",
       "</div>"
      ],
      "text/plain": [
       "            model_name  model_loss       model_acc  total_time\n",
       "0  FashionMNISTModelV0      0.5013  tensor(0.9375)  104.715841\n",
       "1  FashionMNISTModelV1      0.8910  tensor(0.6875)   21.001381\n",
       "2  FashionMNISTModelV2      0.3247  tensor(0.9375)   47.586047"
      ]
     },
     "execution_count": 355,
     "metadata": {},
     "output_type": "execute_result"
    }
   ],
   "source": [
    "import pandas as pd \n",
    "\n",
    "df = pd.DataFrame([model_v0_results,model_v1_results,model_v2_results])\n",
    "df"
   ]
  },
  {
   "cell_type": "code",
   "execution_count": 356,
   "metadata": {},
   "outputs": [
    {
     "data": {
      "text/plain": [
       "<Axes: xlabel='model_name', ylabel='model_loss'>"
      ]
     },
     "execution_count": 356,
     "metadata": {},
     "output_type": "execute_result"
    },
    {
     "data": {
      "image/png": "[encoded data removed]",
      "text/plain": [
       "<Figure size 640x480 with 1 Axes>"
      ]
     },
     "metadata": {},
     "output_type": "display_data"
    }
   ],
   "source": [
    "import seaborn as sns\n",
    "sns.barplot(data=df,x=\"model_name\" ,y=\"model_loss\",hue=\"model_name\")"
   ]
  },
  {
   "cell_type": "code",
   "execution_count": 401,
   "metadata": {},
   "outputs": [],
   "source": [
    "def make_predictions(model:nn.Module,data:list,device:torch.device):\n",
    "    model.eval()\n",
    "    model.to(device)\n",
    "    pred_probs = []\n",
    "    with torch.inference_mode():\n",
    "        for sample in data:\n",
    "            sample = sample.unsqueeze(dim=0).to(device)\n",
    "            y_logit = model(sample).squeeze()\n",
    "            y_prob = torch.softmax(y_logit,dim=0)\n",
    "\n",
    "            pred_probs.append(y_prob)\n",
    "\n",
    "    return torch.stack(pred_probs)\n",
    "# torhc stack"
   ]
  },
  {
   "cell_type": "code",
   "execution_count": 402,
   "metadata": {},
   "outputs": [],
   "source": [
    "img,label = test_data[0][:10]\n",
    "# img"
   ]
  },
  {
   "cell_type": "code",
   "execution_count": 403,
   "metadata": {},
   "outputs": [
    {
     "data": {
      "text/plain": [
       "Text(0.5, 1.0, 'Sandal')"
      ]
     },
     "execution_count": 403,
     "metadata": {},
     "output_type": "execute_result"
    },
    {
     "data": {
      "image/png": "[encoded data removed]",
      "text/plain": [
       "<Figure size 640x480 with 1 Axes>"
      ]
     },
     "metadata": {},
     "output_type": "display_data"
    }
   ],
   "source": [
    "import random\n",
    "random.seed(42)\n",
    "test_samples = []\n",
    "test_label = []\n",
    "\n",
    "for sample,label in random.sample(list(test_data),k=9):\n",
    "    test_samples.append(sample)\n",
    "    test_label.append(label)\n",
    "    \n",
    "plt.imshow(test_samples[0].squeeze(),cmap=\"gray\")\n",
    "plt.title(classes_name[test_label[0]])"
   ]
  },
  {
   "cell_type": "code",
   "execution_count": 404,
   "metadata": {},
   "outputs": [
    {
     "data": {
      "text/plain": [
       "torch.Size([1, 28, 28])"
      ]
     },
     "execution_count": 404,
     "metadata": {},
     "output_type": "execute_result"
    }
   ],
   "source": [
    "test_samples[0].shape"
   ]
  },
  {
   "cell_type": "code",
   "execution_count": 406,
   "metadata": {},
   "outputs": [
    {
     "data": {
      "text/plain": [
       "[tensor([1.6699e-08, 2.6865e-10, 1.5480e-09, 1.6503e-09, 1.2016e-08, 9.9998e-01,\n",
       "         2.1281e-07, 4.9245e-07, 7.8568e-07, 1.9636e-05], device='cuda:0'),\n",
       " tensor([3.7347e-02, 8.0291e-01, 1.2436e-03, 5.6285e-02, 5.9536e-02, 1.8507e-04,\n",
       "         4.2359e-02, 8.3394e-05, 3.4205e-05, 1.1828e-05], device='cuda:0'),\n",
       " tensor([1.6255e-05, 1.7687e-07, 2.1493e-06, 2.7722e-07, 5.9175e-06, 7.0451e-04,\n",
       "         1.2378e-05, 9.5075e-01, 4.4348e-04, 4.8065e-02], device='cuda:0'),\n",
       " tensor([1.2296e-03, 1.8491e-04, 2.4876e-01, 1.1717e-04, 7.4860e-01, 3.4134e-06,\n",
       "         1.0707e-03, 8.7292e-07, 2.1272e-05, 1.7290e-05], device='cuda:0'),\n",
       " tensor([2.4537e-02, 2.8738e-05, 1.4956e-04, 9.6269e-01, 1.1507e-04, 7.1422e-06,\n",
       "         1.2431e-02, 1.9971e-05, 1.2432e-05, 6.6524e-06], device='cuda:0'),\n",
       " tensor([6.0020e-01, 1.5325e-05, 4.4460e-04, 9.8991e-04, 4.3489e-03, 1.1484e-06,\n",
       "         3.9327e-01, 3.6064e-07, 7.3078e-04, 3.5589e-07], device='cuda:0'),\n",
       " tensor([4.3326e-05, 5.0338e-06, 1.4256e-02, 1.0608e-06, 9.7962e-01, 2.9291e-07,\n",
       "         5.8826e-03, 1.2779e-08, 1.9329e-04, 1.7179e-06], device='cuda:0'),\n",
       " tensor([1.6861e-06, 1.8889e-07, 1.5056e-06, 7.2695e-07, 2.2111e-07, 6.4456e-04,\n",
       "         4.6971e-07, 9.9930e-01, 2.7406e-05, 2.4619e-05], device='cuda:0'),\n",
       " tensor([8.9354e-08, 9.9998e-01, 8.1117e-10, 1.5727e-05, 8.6655e-06, 6.0560e-08,\n",
       "         1.7413e-07, 1.0280e-07, 8.2157e-10, 4.4022e-09], device='cuda:0')]"
      ]
     },
     "execution_count": 406,
     "metadata": {},
     "output_type": "execute_result"
    }
   ],
   "source": [
    "pred_probs = make_predictions(model_v2, test_samples, device=device)\n"
   ]
  },
  {
   "cell_type": "code",
   "execution_count": 409,
   "metadata": {},
   "outputs": [
    {
     "ename": "AttributeError",
     "evalue": "'list' object has no attribute 'argmax'",
     "output_type": "error",
     "traceback": [
      "\u001b[1;31m---------------------------------------------------------------------------\u001b[0m",
      "\u001b[1;31mAttributeError\u001b[0m                            Traceback (most recent call last)",
      "Cell \u001b[1;32mIn[409], line 1\u001b[0m\n\u001b[1;32m----> 1\u001b[0m pred_classes \u001b[38;5;241m=\u001b[39m \u001b[43mpred_probs\u001b[49m\u001b[38;5;241;43m.\u001b[39;49m\u001b[43margmax\u001b[49m(dim\u001b[38;5;241m=\u001b[39m\u001b[38;5;241m1\u001b[39m)\n\u001b[0;32m      2\u001b[0m pred_classes\n",
      "\u001b[1;31mAttributeError\u001b[0m: 'list' object has no attribute 'argmax'"
     ]
    }
   ],
   "source": [
    "pred_classes = pred_probs.argmax(dim=1)\n",
    "pred_classes"
   ]
  },
  {
   "cell_type": "code",
   "execution_count": null,
   "metadata": {},
   "outputs": [],
   "source": []
  }
 ],
 "metadata": {
  "kernelspec": {
   "display_name": ".venv",
   "language": "python",
   "name": "python3"
  },
  "language_info": {
   "codemirror_mode": {
    "name": "ipython",
    "version": 3
   },
   "file_extension": ".py",
   "mimetype": "text/x-python",
   "name": "python",
   "nbconvert_exporter": "python",
   "pygments_lexer": "ipython3",
   "version": "3.10.11"
  }
 },
 "nbformat": 4,
 "nbformat_minor": 2
}
