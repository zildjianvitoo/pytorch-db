{
 "cells": [
  {
   "cell_type": "code",
   "execution_count": 132,
   "metadata": {},
   "outputs": [],
   "source": [
    "import torch\n",
    "import torchvision\n",
    "import matplotlib.pyplot as plt\n",
    "from tqdm.auto import tqdm"
   ]
  },
  {
   "cell_type": "code",
   "execution_count": 133,
   "metadata": {},
   "outputs": [],
   "source": [
    "train_data = torchvision.datasets.MNIST(\n",
    "    root=\"data\",\n",
    "    download=True,\n",
    "    train=True,\n",
    "    transform=torchvision.transforms.ToTensor(),\n",
    ")\n",
    "\n"
   ]
  },
  {
   "cell_type": "code",
   "execution_count": 134,
   "metadata": {},
   "outputs": [],
   "source": [
    "test_data = torchvision.datasets.MNIST(\n",
    "    root=\"data\",\n",
    "    download=True,\n",
    "    train=False,\n",
    "    transform=torchvision.transforms.ToTensor(),\n",
    ")"
   ]
  },
  {
   "cell_type": "code",
   "execution_count": 135,
   "metadata": {},
   "outputs": [
    {
     "data": {
      "text/plain": [
       "(60000, 10000)"
      ]
     },
     "execution_count": 135,
     "metadata": {},
     "output_type": "execute_result"
    }
   ],
   "source": [
    "len(train_data.data),len(test_data.data)"
   ]
  },
  {
   "cell_type": "code",
   "execution_count": 136,
   "metadata": {},
   "outputs": [
    {
     "data": {
      "text/plain": [
       "['0 - zero',\n",
       " '1 - one',\n",
       " '2 - two',\n",
       " '3 - three',\n",
       " '4 - four',\n",
       " '5 - five',\n",
       " '6 - six',\n",
       " '7 - seven',\n",
       " '8 - eight',\n",
       " '9 - nine']"
      ]
     },
     "execution_count": 136,
     "metadata": {},
     "output_type": "execute_result"
    }
   ],
   "source": [
    "class_names = train_data.classes\n",
    "class_names"
   ]
  },
  {
   "cell_type": "code",
   "execution_count": 137,
   "metadata": {},
   "outputs": [
    {
     "data": {
      "image/png": "[encoded data removed]",
      "text/plain": [
       "<Figure size 900x900 with 9 Axes>"
      ]
     },
     "metadata": {},
     "output_type": "display_data"
    }
   ],
   "source": [
    "plt.figure(figsize=(9,9))\n",
    "nrows = 3\n",
    "ncols = 3\n",
    "\n",
    "for i in range(1,nrows * nrows+1):\n",
    "    plt.subplot(nrows,ncols,i)\n",
    "    plt.title(train_data.targets[i].item())\n",
    "    plt.imshow(train_data.data[i],cmap=\"gray\")\n",
    "    plt.axis(False)"
   ]
  },
  {
   "cell_type": "code",
   "execution_count": 138,
   "metadata": {},
   "outputs": [],
   "source": [
    "import torch.utils\n",
    "torch.manual_seed(42)\n",
    "\n",
    "train_dataloader = torch.utils.data.DataLoader(train_data,batch_size=32,shuffle=True)\n",
    "test_dataloader = torch.utils.data.DataLoader(test_data, batch_size=32, shuffle=False)"
   ]
  },
  {
   "cell_type": "code",
   "execution_count": 139,
   "metadata": {},
   "outputs": [
    {
     "data": {
      "text/plain": [
       "(1875, 313)"
      ]
     },
     "execution_count": 139,
     "metadata": {},
     "output_type": "execute_result"
    }
   ],
   "source": [
    "len(train_dataloader),len(test_dataloader)"
   ]
  },
  {
   "cell_type": "code",
   "execution_count": 140,
   "metadata": {},
   "outputs": [],
   "source": [
    "from torch import nn\n",
    "class Conv2DModel(nn.Module):\n",
    "    def __init__(self,input_shape:int,hidden_units:int,output_shape:int):\n",
    "        super().__init__()\n",
    "        self.conv_block_1 = nn.Sequential(\n",
    "            nn.Conv2d(\n",
    "                in_channels=input_shape,\n",
    "                out_channels=hidden_units,\n",
    "                kernel_size=3,\n",
    "                padding=1,\n",
    "                stride=1,\n",
    "            ),\n",
    "            nn.ReLU(),\n",
    "            nn.Conv2d(\n",
    "                in_channels=hidden_units,\n",
    "                out_channels=hidden_units,\n",
    "                kernel_size=3,\n",
    "                padding=1,\n",
    "                stride=1,\n",
    "            ),\n",
    "            nn.ReLU(),\n",
    "            nn.MaxPool2d(kernel_size=2)\n",
    "        )\n",
    "        self.conv_block_2 = nn.Sequential(\n",
    "            nn.Conv2d(\n",
    "                in_channels=hidden_units,\n",
    "                out_channels=hidden_units,\n",
    "                kernel_size=3,\n",
    "                padding=1,\n",
    "                stride=1,\n",
    "            ),\n",
    "            nn.ReLU(),\n",
    "            nn.Conv2d(\n",
    "                in_channels=hidden_units,\n",
    "                out_channels=hidden_units,\n",
    "                kernel_size=3,\n",
    "                padding=1,\n",
    "                stride=1,\n",
    "            ),\n",
    "            nn.ReLU(),\n",
    "            nn.MaxPool2d(\n",
    "               kernel_size=2\n",
    "            ),\n",
    "        )\n",
    "        self.classifier = nn.Sequential(\n",
    "            nn.Flatten(),\n",
    "            nn.Linear(in_features=hidden_units * 7 * 7,out_features=output_shape)\n",
    "        )\n",
    "\n",
    "    def forward(self,x):\n",
    "        x = self.conv_block_1(x)\n",
    "        x = self.conv_block_2(x)\n",
    "        x = self.classifier(x)\n",
    "        return x"
   ]
  },
  {
   "cell_type": "code",
   "execution_count": 141,
   "metadata": {},
   "outputs": [
    {
     "data": {
      "text/plain": [
       "Conv2DModel(\n",
       "  (conv_block_1): Sequential(\n",
       "    (0): Conv2d(1, 16, kernel_size=(3, 3), stride=(1, 1), padding=(1, 1))\n",
       "    (1): ReLU()\n",
       "    (2): Conv2d(16, 16, kernel_size=(3, 3), stride=(1, 1), padding=(1, 1))\n",
       "    (3): ReLU()\n",
       "    (4): MaxPool2d(kernel_size=2, stride=2, padding=0, dilation=1, ceil_mode=False)\n",
       "  )\n",
       "  (conv_block_2): Sequential(\n",
       "    (0): Conv2d(16, 16, kernel_size=(3, 3), stride=(1, 1), padding=(1, 1))\n",
       "    (1): ReLU()\n",
       "    (2): Conv2d(16, 16, kernel_size=(3, 3), stride=(1, 1), padding=(1, 1))\n",
       "    (3): ReLU()\n",
       "    (4): MaxPool2d(kernel_size=2, stride=2, padding=0, dilation=1, ceil_mode=False)\n",
       "  )\n",
       "  (classifier): Sequential(\n",
       "    (0): Flatten(start_dim=1, end_dim=-1)\n",
       "    (1): Linear(in_features=784, out_features=10, bias=True)\n",
       "  )\n",
       ")"
      ]
     },
     "execution_count": 141,
     "metadata": {},
     "output_type": "execute_result"
    }
   ],
   "source": [
    "model = Conv2DModel(input_shape=1,hidden_units=16,output_shape=len(class_names))\n",
    "model"
   ]
  },
  {
   "cell_type": "code",
   "execution_count": 142,
   "metadata": {},
   "outputs": [],
   "source": [
    "from torchmetrics import Accuracy\n",
    "\n",
    "loss_fn = nn.CrossEntropyLoss()\n",
    "optimizer = torch.optim.SGD(params=model.parameters(),lr=0.1)\n",
    "accuracy_fn = Accuracy(task=\"multiclass\",num_classes=len(class_names))"
   ]
  },
  {
   "cell_type": "code",
   "execution_count": 143,
   "metadata": {},
   "outputs": [],
   "source": [
    "def train_step(model:nn.Module,loss_fn,accuracy_fn,device):\n",
    "    model.train(),\n",
    "    train_loss = 0\n",
    "    for batch,( X,y )in enumerate(train_dataloader):\n",
    "        X ,y = X.to(device),y.to(device)\n",
    "        y_logits = model(X)\n",
    "        y_preds = torch.softmax(y_logits,dim=1).argmax(dim=1)\n",
    "        \n",
    "        loss = loss_fn(y_logits,y)\n",
    "        train_loss += loss\n",
    "        acc = accuracy_fn(y_preds.cpu(),y.cpu())\n",
    "        \n",
    "        optimizer.zero_grad()\n",
    "        \n",
    "        loss.backward()\n",
    "        \n",
    "        optimizer.step()\n",
    "        \n",
    "    \n",
    "    train_loss /= len(train_dataloader)\n",
    "    print(f\"Train loss: {train_loss:.4f} | Train acc: {acc:.4f}\")"
   ]
  },
  {
   "cell_type": "code",
   "execution_count": 144,
   "metadata": {},
   "outputs": [],
   "source": [
    "def test_step(model:nn.Module,loss_fn,accuracy_fn,device):\n",
    "    model.eval()\n",
    "    test_loss = 0\n",
    "    with torch.inference_mode():\n",
    "        for X,y in test_dataloader:\n",
    "            X ,y = X.to(device),y.to(device)\n",
    "            y_logits = model(X)\n",
    "            y_preds = torch.softmax(y_logits,dim=1).argmax(dim=1)\n",
    "\n",
    "            loss = loss_fn(y_logits,y)\n",
    "            test_loss += loss\n",
    "            acc = accuracy_fn(y_preds.cpu(),y.cpu())\n",
    "        test_loss /= len(test_dataloader)\n",
    "        print(f\"Test loss: {test_loss:.4f} | Test acc: {acc:.4f}\")"
   ]
  },
  {
   "cell_type": "code",
   "execution_count": 145,
   "metadata": {},
   "outputs": [],
   "source": [
    "def print_train_time(start:float,end:float,device=torch.device):\n",
    "    \n",
    "    total_time = end - start\n",
    "    print(f\"Waktu yang dibutuhkan untuk train {total_time} di device {device}\")\n",
    "    \n",
    "    return total_time"
   ]
  },
  {
   "cell_type": "code",
   "execution_count": 146,
   "metadata": {},
   "outputs": [],
   "source": [
    "def eval_model(model:nn.Module,loss_fn,accuracy_fn,device):\n",
    "    model.eval()\n",
    "    test_loss = 0\n",
    "    epochs = 3\n",
    "    for epochs in tqdm(range(epochs)):\n",
    "        with torch.inference_mode():\n",
    "            for X, y in test_dataloader:\n",
    "                X, y = X.to(device), y.to(device)\n",
    "                y_logits = model(X)\n",
    "                y_preds = torch.softmax(y_logits, dim=1).argmax(dim=1)\n",
    "\n",
    "                loss = loss_fn(y_logits, y)\n",
    "                test_loss += loss\n",
    "                acc = accuracy_fn(y_preds.cpu(), y.cpu())\n",
    "            test_loss /= len(test_dataloader)\n",
    "    return {\"model_name\": model.__class__.__name__, \"model_loss\": test_loss , \"mode_acc\": acc}"
   ]
  },
  {
   "cell_type": "code",
   "execution_count": 147,
   "metadata": {},
   "outputs": [],
   "source": [
    "# epochs = 3\n",
    "\n",
    "# for epoch in range(epochs):\n",
    "#     print(f\"Epoch: {epoch}\")\n",
    "#     train_step(model,loss_fn=loss_fn,accuracy_fn=accuracy_fn,device=\"cpu\")\n",
    "#     test_step(model,loss_fn,accuracy_fn,device=\"cpu\")"
   ]
  },
  {
   "cell_type": "code",
   "execution_count": 148,
   "metadata": {},
   "outputs": [],
   "source": [
    "# model_results = eval_model(model=model,accuracy_fn=accuracy_fn,device=\"cpu\",loss_fn=loss_fn)\n",
    "# model_results"
   ]
  },
  {
   "cell_type": "code",
   "execution_count": 149,
   "metadata": {},
   "outputs": [
    {
     "name": "stdout",
     "output_type": "stream",
     "text": [
      "Epoch: 0\n",
      "Train loss: 0.2506 | Train acc: 0.9375\n",
      "Test loss: 0.0879 | Test acc: 1.0000\n",
      "Epoch: 1\n",
      "Train loss: 0.0613 | Train acc: 0.9375\n",
      "Test loss: 0.0680 | Test acc: 1.0000\n",
      "Epoch: 2\n",
      "Train loss: 0.0466 | Train acc: 0.9688\n",
      "Test loss: 0.0443 | Test acc: 1.0000\n"
     ]
    }
   ],
   "source": [
    "epochs = 3\n",
    "model.to(\"cuda\")\n",
    "for epoch in range(epochs):\n",
    "    print(f\"Epoch: {epoch}\")\n",
    "    train_step(model, loss_fn=loss_fn, accuracy_fn=accuracy_fn, device=\"cuda\")\n",
    "    test_step(model, loss_fn, accuracy_fn, device=\"cuda\")"
   ]
  },
  {
   "cell_type": "code",
   "execution_count": 165,
   "metadata": {},
   "outputs": [
    {
     "data": {
      "text/plain": [
       "tensor([7, 2, 1, 0, 4, 1, 4, 9, 5, 9], device='cuda:0')"
      ]
     },
     "execution_count": 165,
     "metadata": {},
     "output_type": "execute_result"
    }
   ],
   "source": [
    "model.to(\"cuda\")\n",
    "\n",
    "y_preds = []\n",
    "model.eval()\n",
    "with torch.inference_mode():\n",
    "    for X,y in test_dataloader:\n",
    "        X,y = X.to(\"cuda\"),y.to(\"cuda\")\n",
    "        y_logits = model(X)\n",
    "        y_pred = torch.softmax(y_logits,dim=1).argmax(dim=1)\n",
    "        y_preds.append(y_pred)\n",
    "        \n",
    "\n",
    "y_preds_tensor = torch.cat(y_preds)\n",
    "y_preds_tensor[:10]"
   ]
  },
  {
   "cell_type": "code",
   "execution_count": 176,
   "metadata": {},
   "outputs": [
    {
     "data": {
      "text/plain": [
       "(<Figure size 640x480 with 1 Axes>,\n",
       " <Axes: xlabel='predicted label', ylabel='true label'>)"
      ]
     },
     "execution_count": 176,
     "metadata": {},
     "output_type": "execute_result"
    },
    {
     "data": {
      "image/png": "[encoded data removed]",
      "text/plain": [
       "<Figure size 640x480 with 1 Axes>"
      ]
     },
     "metadata": {},
     "output_type": "display_data"
    }
   ],
   "source": [
    "from mlxtend import plotting\n",
    "import torchmetrics\n",
    "\n",
    "conf_matrix = torchmetrics.ConfusionMatrix(task=\"multiclass\",num_classes=len(class_names))\n",
    "conf_matrix_tensor = conf_matrix(preds= y_preds_tensor.cpu(),target=test_data.targets)\n",
    "\n",
    "plotting.plot_confusion_matrix(conf_mat=conf_matrix_tensor.numpy(),class_names=class_names)"
   ]
  },
  {
   "cell_type": "code",
   "execution_count": null,
   "metadata": {},
   "outputs": [],
   "source": []
  }
 ],
 "metadata": {
  "kernelspec": {
   "display_name": ".venv",
   "language": "python",
   "name": "python3"
  },
  "language_info": {
   "codemirror_mode": {
    "name": "ipython",
    "version": 3
   },
   "file_extension": ".py",
   "mimetype": "text/x-python",
   "name": "python",
   "nbconvert_exporter": "python",
   "pygments_lexer": "ipython3",
   "version": "3.10.11"
  }
 },
 "nbformat": 4,
 "nbformat_minor": 2
}
