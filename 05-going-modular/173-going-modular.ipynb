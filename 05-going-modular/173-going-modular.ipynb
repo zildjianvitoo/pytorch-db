{
 "cells": [
  {
   "cell_type": "code",
   "execution_count": 1,
   "metadata": {},
   "outputs": [],
   "source": [
    "import torch"
   ]
  },
  {
   "cell_type": "code",
   "execution_count": 5,
   "metadata": {},
   "outputs": [
    {
     "name": "stdout",
     "output_type": "stream",
     "text": [
      "Folder sudah ada\n"
     ]
    }
   ],
   "source": [
    "import requests\n",
    "from pathlib import Path\n",
    "from zipfile import ZipFile\n",
    "\n",
    "data_path = Path(\"data/pizza_steak_sushi\")\n",
    "\n",
    "train_dir = data_path / \"train\"\n",
    "test_dir = data_path / \"test\"\n",
    "\n",
    "if data_path.is_dir():\n",
    "    print(\"Folder sudah ada\")\n",
    "else: \n",
    "    with open(\"data/pizza_steak_sushi.zip\", \"wb\") as f:\n",
    "        res = requests.get(\n",
    "            \"https://github.com/mrdbourke/pytorch-deep-learning/raw/main/data/pizza_steak_sushi_20_percent.zip\"\n",
    "        )\n",
    "        f.write(res.content)\n",
    "\n",
    "    with ZipFile(\"data/pizza_steak_sushi.zip\",\"r\") as zf:\n",
    "        zf.extractall(data_path)"
   ]
  },
  {
   "cell_type": "code",
   "execution_count": 16,
   "metadata": {},
   "outputs": [],
   "source": [
    "from torchvision.transforms import v2\n",
    "\n",
    "train_transforms = v2.Compose([\n",
    "        v2.ToImage(),\n",
    "        v2.Resize(size=(64,64)),\n",
    "        v2.TrivialAugmentWide(num_magnitude_bins=31),\n",
    "        v2.ToDtype(torch.float32,scale=True)\n",
    "    ])\n",
    "\n",
    "test_transforms = v2.Compose([\n",
    "        v2.ToImage(),\n",
    "        v2.Resize(size=(64,64)),\n",
    "        v2.ToDtype(torch.float32,scale=True)\n",
    "    ])"
   ]
  },
  {
   "cell_type": "code",
   "execution_count": 13,
   "metadata": {},
   "outputs": [
    {
     "name": "stdout",
     "output_type": "stream",
     "text": [
      "Writing going_modular/data_setup.py\n"
     ]
    }
   ],
   "source": [
    "%%writefile going_modular/data_setup.py\n",
    "\n",
    "from torchvision.datasets import ImageFolder\n",
    "from torchvision.transforms import v2\n",
    "from torch.utils.data import DataLoader\n",
    "import os\n",
    "\n",
    "NUM_WORKERS = os.cpu_count()\n",
    "BATCH_SIZE = 32\n",
    "\n",
    "def create_dataloaders(\n",
    "    train_dir: str,\n",
    "    test_dir: str,\n",
    "    train_transforms: v2.Compose,\n",
    "    test_transforms: v2.Compose,\n",
    "    batch_size: int = BATCH_SIZE,\n",
    "    num_workers: int = NUM_WORKERS,\n",
    "):\n",
    "    train_data = ImageFolder(root=train_dir,transform=train_transforms)\n",
    "    test_data = ImageFolder(root=test_dir, transform=test_transforms)\n",
    "    class_names = train_data.classes\n",
    "\n",
    "    train_dataloader = DataLoader(\n",
    "        dataset=train_data, batch_size=batch_size, num_workers=num_workers,shuffle=True,pin_memory=True\n",
    "    )\n",
    "    test_dataloader = DataLoader(\n",
    "        dataset=test_data, batch_size=batch_size, num_workers=num_workers,pin_memory=True\n",
    "    )\n",
    "\n",
    "    return train_dataloader,test_dataloader,class_names"
   ]
  },
  {
   "cell_type": "code",
   "execution_count": 22,
   "metadata": {},
   "outputs": [
    {
     "data": {
      "text/plain": [
       "(<torch.utils.data.dataloader.DataLoader at 0x22c318f0760>,\n",
       " <torch.utils.data.dataloader.DataLoader at 0x22c318f12a0>,\n",
       " ['pizza', 'steak', 'sushi'])"
      ]
     },
     "execution_count": 22,
     "metadata": {},
     "output_type": "execute_result"
    }
   ],
   "source": [
    "import os\n",
    "from going_modular import data_setup\n",
    "\n",
    "NUM_WORKERS = os.cpu_count()\n",
    "BATCH_SIZE = 32\n",
    "\n",
    "train_dir = data_path / \"train\"\n",
    "test_dir = data_path / \"test\"\n",
    "\n",
    "train_dataloader,test_dataloader,class_names = data_setup.create_dataloaders(train_dir=train_dir,test_dir=test_dir,train_transforms=train_transforms,test_transforms=test_transforms,batch_size=BATCH_SIZE,num_workers=NUM_WORKERS)\n",
    "\n",
    "train_dataloader,test_dataloader,class_names"
   ]
  },
  {
   "cell_type": "code",
   "execution_count": 21,
   "metadata": {},
   "outputs": [
    {
     "data": {
      "text/plain": [
       "32"
      ]
     },
     "execution_count": 21,
     "metadata": {},
     "output_type": "execute_result"
    }
   ],
   "source": [
    "train_dataloader.batch_size"
   ]
  },
  {
   "cell_type": "code",
   "execution_count": 23,
   "metadata": {},
   "outputs": [
    {
     "name": "stdout",
     "output_type": "stream",
     "text": [
      "Writing going_modular/model_builder.py\n"
     ]
    }
   ],
   "source": [
    "%%writefile going_modular/model_builder.py\n",
    "\n",
    "from torch import nn\n",
    "class TinyVGG(nn.Module):\n",
    "    def __init__(self,input_shape:int,hidden_units:int,output_shape:int):\n",
    "        super().__init__()\n",
    "        self.conv_block_1 = nn.Sequential(\n",
    "            nn.Conv2d(input_shape, hidden_units, 3, 1, 1),\n",
    "            nn.Conv2d(hidden_units, hidden_units, 3, 1, 1),\n",
    "            nn.MaxPool2d(2),\n",
    "        )\n",
    "\n",
    "        self.conv_block_2 = nn.Sequential(\n",
    "            nn.Conv2d(hidden_units, hidden_units * 2, 3, 1, 1),\n",
    "            nn.Conv2d(hidden_units * 2, hidden_units * 2, 3, 1, 1),\n",
    "            nn.MaxPool2d(2),\n",
    "        )\n",
    "\n",
    "        self.conv_block_3 = nn.Sequential(\n",
    "            nn.Conv2d(hidden_units * 2, hidden_units, 3, 1, 1),\n",
    "            nn.Conv2d(hidden_units, hidden_units, 3, 1, 1),\n",
    "            nn.MaxPool2d(2),\n",
    "        )\n",
    "\n",
    "        self.classifer = nn.Sequential(\n",
    "            nn.Flatten(),\n",
    "            nn.Linear(hidden_units * 8 * 8, 64),\n",
    "            nn.ReLU(),\n",
    "            nn.Linear(64, 16),\n",
    "            nn.ReLU(),\n",
    "            nn.Linear(16,output_shape)\n",
    "        )\n",
    "\n",
    "    def forward(self,x):\n",
    "        return self.classifer(self.conv_block_3(self.conv_block_2(self.conv_block_1(x))))"
   ]
  },
  {
   "cell_type": "code",
   "execution_count": 26,
   "metadata": {},
   "outputs": [
    {
     "data": {
      "text/plain": [
       "'cuda'"
      ]
     },
     "execution_count": 26,
     "metadata": {},
     "output_type": "execute_result"
    }
   ],
   "source": [
    "device = \"cuda\" if torch.cuda.is_available() else \"cpu\"\n",
    "device"
   ]
  },
  {
   "cell_type": "code",
   "execution_count": 27,
   "metadata": {},
   "outputs": [
    {
     "data": {
      "text/plain": [
       "TinyVGG(\n",
       "  (conv_block_1): Sequential(\n",
       "    (0): Conv2d(3, 32, kernel_size=(3, 3), stride=(1, 1), padding=(1, 1))\n",
       "    (1): Conv2d(32, 32, kernel_size=(3, 3), stride=(1, 1), padding=(1, 1))\n",
       "    (2): MaxPool2d(kernel_size=2, stride=2, padding=0, dilation=1, ceil_mode=False)\n",
       "  )\n",
       "  (conv_block_2): Sequential(\n",
       "    (0): Conv2d(32, 64, kernel_size=(3, 3), stride=(1, 1), padding=(1, 1))\n",
       "    (1): Conv2d(64, 64, kernel_size=(3, 3), stride=(1, 1), padding=(1, 1))\n",
       "    (2): MaxPool2d(kernel_size=2, stride=2, padding=0, dilation=1, ceil_mode=False)\n",
       "  )\n",
       "  (conv_block_3): Sequential(\n",
       "    (0): Conv2d(64, 32, kernel_size=(3, 3), stride=(1, 1), padding=(1, 1))\n",
       "    (1): Conv2d(32, 32, kernel_size=(3, 3), stride=(1, 1), padding=(1, 1))\n",
       "    (2): MaxPool2d(kernel_size=2, stride=2, padding=0, dilation=1, ceil_mode=False)\n",
       "  )\n",
       "  (classifer): Sequential(\n",
       "    (0): Flatten(start_dim=1, end_dim=-1)\n",
       "    (1): Linear(in_features=2048, out_features=64, bias=True)\n",
       "    (2): ReLU()\n",
       "    (3): Linear(in_features=64, out_features=16, bias=True)\n",
       "    (4): ReLU()\n",
       "    (5): Linear(in_features=16, out_features=3, bias=True)\n",
       "  )\n",
       ")"
      ]
     },
     "execution_count": 27,
     "metadata": {},
     "output_type": "execute_result"
    }
   ],
   "source": [
    "from going_modular.model_builder import TinyVGG\n",
    "\n",
    "model = TinyVGG(input_shape=3,hidden_units=32,output_shape=len(class_names)).to(device)\n",
    "model"
   ]
  },
  {
   "cell_type": "code",
   "execution_count": 25,
   "metadata": {},
   "outputs": [
    {
     "data": {
      "text/plain": [
       "==========================================================================================\n",
       "Layer (type:depth-idx)                   Output Shape              Param #\n",
       "==========================================================================================\n",
       "TinyVGG                                  [32, 3]                   --\n",
       "├─Sequential: 1-1                        [32, 32, 32, 32]          --\n",
       "│    └─Conv2d: 2-1                       [32, 32, 64, 64]          896\n",
       "│    └─Conv2d: 2-2                       [32, 32, 64, 64]          9,248\n",
       "│    └─MaxPool2d: 2-3                    [32, 32, 32, 32]          --\n",
       "├─Sequential: 1-2                        [32, 64, 16, 16]          --\n",
       "│    └─Conv2d: 2-4                       [32, 64, 32, 32]          18,496\n",
       "│    └─Conv2d: 2-5                       [32, 64, 32, 32]          36,928\n",
       "│    └─MaxPool2d: 2-6                    [32, 64, 16, 16]          --\n",
       "├─Sequential: 1-3                        [32, 32, 8, 8]            --\n",
       "│    └─Conv2d: 2-7                       [32, 32, 16, 16]          18,464\n",
       "│    └─Conv2d: 2-8                       [32, 32, 16, 16]          9,248\n",
       "│    └─MaxPool2d: 2-9                    [32, 32, 8, 8]            --\n",
       "├─Sequential: 1-4                        [32, 3]                   --\n",
       "│    └─Flatten: 2-10                     [32, 2048]                --\n",
       "│    └─Linear: 2-11                      [32, 64]                  131,136\n",
       "│    └─ReLU: 2-12                        [32, 64]                  --\n",
       "│    └─Linear: 2-13                      [32, 16]                  1,040\n",
       "│    └─ReLU: 2-14                        [32, 16]                  --\n",
       "│    └─Linear: 2-15                      [32, 3]                   51\n",
       "==========================================================================================\n",
       "Total params: 225,507\n",
       "Trainable params: 225,507\n",
       "Non-trainable params: 0\n",
       "Total mult-adds (G): 3.38\n",
       "==========================================================================================\n",
       "Input size (MB): 1.57\n",
       "Forward/backward pass size (MB): 104.88\n",
       "Params size (MB): 0.90\n",
       "Estimated Total Size (MB): 107.35\n",
       "=========================================================================================="
      ]
     },
     "execution_count": 25,
     "metadata": {},
     "output_type": "execute_result"
    }
   ],
   "source": [
    "from torchinfo import summary\n",
    "\n",
    "summary(model,input_size=(32,3,64,64))"
   ]
  },
  {
   "cell_type": "code",
   "execution_count": 28,
   "metadata": {},
   "outputs": [
    {
     "data": {
      "text/plain": [
       "(tensor([[[0.2000, 0.7569, 0.7843,  ..., 0.3216, 0.3176, 0.3059],\n",
       "          [0.7961, 0.7686, 0.7882,  ..., 0.3098, 0.3059, 0.2980],\n",
       "          [0.7882, 0.7804, 0.7882,  ..., 0.2980, 0.3020, 0.2824],\n",
       "          ...,\n",
       "          [0.6667, 0.6706, 0.6863,  ..., 0.4510, 0.4471, 0.5529],\n",
       "          [0.6784, 0.6824, 0.6902,  ..., 0.4980, 0.5765, 0.6588],\n",
       "          [0.7137, 0.7098, 0.7176,  ..., 0.5333, 0.5412, 0.6196]],\n",
       " \n",
       "         [[0.1608, 0.1647, 0.1451,  ..., 0.4745, 0.5216, 0.5686],\n",
       "          [0.1647, 0.1686, 0.1529,  ..., 0.5294, 0.5569, 0.5608],\n",
       "          [0.1686, 0.1686, 0.1569,  ..., 0.5490, 0.5451, 0.4902],\n",
       "          ...,\n",
       "          [0.7333, 0.7373, 0.7490,  ..., 0.4863, 0.4824, 0.5961],\n",
       "          [0.7412, 0.7412, 0.7451,  ..., 0.5412, 0.6196, 0.7020],\n",
       "          [0.7647, 0.7608, 0.7647,  ..., 0.5647, 0.5765, 0.6745]],\n",
       " \n",
       "         [[0.1843, 0.1725, 0.1608,  ..., 0.5020, 0.5804, 0.6667],\n",
       "          [0.1843, 0.1804, 0.1686,  ..., 0.5922, 0.6431, 0.6588],\n",
       "          [0.1882, 0.1804, 0.1765,  ..., 0.6235, 0.6235, 0.5490],\n",
       "          ...,\n",
       "          [0.7294, 0.7294, 0.7451,  ..., 0.4863, 0.4784, 0.6078],\n",
       "          [0.7373, 0.7412, 0.7451,  ..., 0.5569, 0.6353, 0.7137],\n",
       "          [0.7647, 0.7608, 0.7647,  ..., 0.5804, 0.5843, 0.6941]]]),\n",
       " tensor(2))"
      ]
     },
     "execution_count": 28,
     "metadata": {},
     "output_type": "execute_result"
    }
   ],
   "source": [
    "img,label = next(iter(train_dataloader))\n",
    "\n",
    "img[0],label[0]"
   ]
  },
  {
   "cell_type": "code",
   "execution_count": 31,
   "metadata": {},
   "outputs": [
    {
     "name": "stdout",
     "output_type": "stream",
     "text": [
      "tensor([[ 0.1004, -0.0061, -0.1821]], device='cuda:0')\n"
     ]
    }
   ],
   "source": [
    "model.eval(),\n",
    "\n",
    "with torch.inference_mode():\n",
    "    y_logits = model(img[0].unsqueeze(0).to(device))\n",
    "    print(y_logits)"
   ]
  }
 ],
 "metadata": {
  "kernelspec": {
   "display_name": ".venv",
   "language": "python",
   "name": "python3"
  },
  "language_info": {
   "codemirror_mode": {
    "name": "ipython",
    "version": 3
   },
   "file_extension": ".py",
   "mimetype": "text/x-python",
   "name": "python",
   "nbconvert_exporter": "python",
   "pygments_lexer": "ipython3",
   "version": "3.10.11"
  }
 },
 "nbformat": 4,
 "nbformat_minor": 2
}
