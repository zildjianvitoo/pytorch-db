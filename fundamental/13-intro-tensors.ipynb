{
 "cells": [
  {
   "cell_type": "code",
   "execution_count": 10,
   "metadata": {},
   "outputs": [],
   "source": [
    "import pandas as pd\n",
    "import matplotlib.pyplot as plt\n",
    "import numpy as np\n",
    "import torch"
   ]
  },
  {
   "cell_type": "markdown",
   "metadata": {},
   "source": [
    "### Intro to tensors"
   ]
  },
  {
   "cell_type": "code",
   "execution_count": 5,
   "metadata": {},
   "outputs": [
    {
     "data": {
      "text/plain": [
       "tensor(15)"
      ]
     },
     "execution_count": 5,
     "metadata": {},
     "output_type": "execute_result"
    }
   ],
   "source": [
    "scalar = torch.tensor(7)\n",
    "scalar"
   ]
  },
  {
   "cell_type": "code",
   "execution_count": 12,
   "metadata": {},
   "outputs": [],
   "source": [
    "vector = torch.tensor([1,2,3,4])"
   ]
  },
  {
   "cell_type": "code",
   "execution_count": 14,
   "metadata": {},
   "outputs": [
    {
     "data": {
      "text/plain": [
       "1"
      ]
     },
     "execution_count": 14,
     "metadata": {},
     "output_type": "execute_result"
    }
   ],
   "source": [
    "vector.ndim"
   ]
  },
  {
   "cell_type": "code",
   "execution_count": 16,
   "metadata": {},
   "outputs": [
    {
     "data": {
      "text/plain": [
       "torch.Size([4])"
      ]
     },
     "execution_count": 16,
     "metadata": {},
     "output_type": "execute_result"
    }
   ],
   "source": [
    "vector.shape"
   ]
  },
  {
   "cell_type": "code",
   "execution_count": 28,
   "metadata": {},
   "outputs": [
    {
     "data": {
      "text/plain": [
       "tensor([[1, 2, 3],\n",
       "        [4, 5, 6]])"
      ]
     },
     "execution_count": 28,
     "metadata": {},
     "output_type": "execute_result"
    }
   ],
   "source": [
    "MATRIX = torch.tensor([[1,2,3],\n",
    "                       [4,5,6],])\n",
    "MATRIX"
   ]
  },
  {
   "cell_type": "code",
   "execution_count": 19,
   "metadata": {},
   "outputs": [
    {
     "data": {
      "text/plain": [
       "2"
      ]
     },
     "execution_count": 19,
     "metadata": {},
     "output_type": "execute_result"
    }
   ],
   "source": [
    "MATRIX.ndim"
   ]
  },
  {
   "cell_type": "code",
   "execution_count": 20,
   "metadata": {},
   "outputs": [
    {
     "data": {
      "text/plain": [
       "torch.Size([2, 3])"
      ]
     },
     "execution_count": 20,
     "metadata": {},
     "output_type": "execute_result"
    }
   ],
   "source": [
    "MATRIX.shape"
   ]
  },
  {
   "cell_type": "code",
   "execution_count": 22,
   "metadata": {},
   "outputs": [
    {
     "data": {
      "text/plain": [
       "tensor([[[1, 2, 3],\n",
       "         [4, 5, 6],\n",
       "         [7, 8, 9]]])"
      ]
     },
     "execution_count": 22,
     "metadata": {},
     "output_type": "execute_result"
    }
   ],
   "source": [
    "TENSOR = torch.tensor([[[1,2,3],[4,5,6],[7,8,9]]])\n",
    "TENSOR"
   ]
  },
  {
   "cell_type": "code",
   "execution_count": 24,
   "metadata": {},
   "outputs": [
    {
     "data": {
      "text/plain": [
       "3"
      ]
     },
     "execution_count": 24,
     "metadata": {},
     "output_type": "execute_result"
    }
   ],
   "source": [
    "TENSOR.ndim"
   ]
  },
  {
   "cell_type": "code",
   "execution_count": 25,
   "metadata": {},
   "outputs": [
    {
     "data": {
      "text/plain": [
       "torch.Size([1, 3, 3])"
      ]
     },
     "execution_count": 25,
     "metadata": {},
     "output_type": "execute_result"
    }
   ],
   "source": [
    "TENSOR.shape"
   ]
  },
  {
   "cell_type": "code",
   "execution_count": 26,
   "metadata": {},
   "outputs": [
    {
     "data": {
      "text/plain": [
       "tensor([[1, 2, 3],\n",
       "        [4, 5, 6],\n",
       "        [7, 8, 9]])"
      ]
     },
     "execution_count": 26,
     "metadata": {},
     "output_type": "execute_result"
    }
   ],
   "source": [
    "TENSOR[0]"
   ]
  },
  {
   "cell_type": "markdown",
   "metadata": {},
   "source": [
    "### Random Tensors"
   ]
  },
  {
   "cell_type": "code",
   "execution_count": 30,
   "metadata": {},
   "outputs": [
    {
     "data": {
      "text/plain": [
       "tensor([[0.3780, 0.7557, 0.5456, 0.5907],\n",
       "        [0.3773, 0.4754, 0.1180, 0.5692],\n",
       "        [0.5121, 0.7520, 0.8138, 0.9224]])"
      ]
     },
     "execution_count": 30,
     "metadata": {},
     "output_type": "execute_result"
    }
   ],
   "source": [
    "torch.rand(3,4)"
   ]
  },
  {
   "cell_type": "code",
   "execution_count": 31,
   "metadata": {},
   "outputs": [
    {
     "data": {
      "text/plain": [
       "tensor([[0.8676, 0.8503, 0.0460, 0.6964, 0.6360, 0.9954, 0.8289, 0.6899, 0.2332,\n",
       "         0.1851],\n",
       "        [0.9016, 0.3272, 0.5812, 0.9826, 0.6090, 0.3194, 0.5472, 0.1793, 0.3231,\n",
       "         0.2149],\n",
       "        [0.5698, 0.2963, 0.3490, 0.2088, 0.8632, 0.5403, 0.3140, 0.7786, 0.2761,\n",
       "         0.1054],\n",
       "        [0.4991, 0.7377, 0.3008, 0.0420, 0.0289, 0.0244, 0.5829, 0.8434, 0.5984,\n",
       "         0.1991],\n",
       "        [0.2363, 0.2548, 0.8196, 0.3247, 0.9924, 0.4338, 0.9047, 0.7673, 0.1870,\n",
       "         0.6125],\n",
       "        [0.3988, 0.4942, 0.3008, 0.4035, 0.6472, 0.6378, 0.5784, 0.8428, 0.8817,\n",
       "         0.0416],\n",
       "        [0.6805, 0.6855, 0.5299, 0.2785, 0.6398, 0.8900, 0.8213, 0.5022, 0.8754,\n",
       "         0.5188],\n",
       "        [0.1358, 0.5500, 0.0183, 0.5860, 0.6700, 0.4211, 0.0691, 0.6989, 0.2257,\n",
       "         0.3245],\n",
       "        [0.4111, 0.3127, 0.9383, 0.8683, 0.8218, 0.0863, 0.8437, 0.8217, 0.4759,\n",
       "         0.7127],\n",
       "        [0.2923, 0.1143, 0.2489, 0.4074, 0.7517, 0.2802, 0.6523, 0.1875, 0.5075,\n",
       "         0.2164]])"
      ]
     },
     "execution_count": 31,
     "metadata": {},
     "output_type": "execute_result"
    }
   ],
   "source": [
    "torch.rand(10,10)"
   ]
  },
  {
   "cell_type": "code",
   "execution_count": 32,
   "metadata": {},
   "outputs": [
    {
     "data": {
      "text/plain": [
       "tensor([[[0.4390, 0.6478, 0.6786],\n",
       "         [0.2533, 0.9400, 0.9723],\n",
       "         [0.5961, 0.7271, 0.4067],\n",
       "         ...,\n",
       "         [0.7683, 0.4448, 0.1706],\n",
       "         [0.6531, 0.4791, 0.5795],\n",
       "         [0.1033, 0.4032, 0.6065]],\n",
       "\n",
       "        [[0.4428, 0.7940, 0.8306],\n",
       "         [0.8835, 0.5910, 0.0931],\n",
       "         [0.8929, 0.8038, 0.0720],\n",
       "         ...,\n",
       "         [0.9143, 0.5291, 0.4374],\n",
       "         [0.7677, 0.5128, 0.8116],\n",
       "         [0.1360, 0.3823, 0.0625]],\n",
       "\n",
       "        [[0.2156, 0.4764, 0.4530],\n",
       "         [0.6441, 0.8799, 0.8511],\n",
       "         [0.7156, 0.1760, 0.6059],\n",
       "         ...,\n",
       "         [0.1054, 0.8091, 0.5867],\n",
       "         [0.2452, 0.3303, 0.5345],\n",
       "         [0.0288, 0.0390, 0.9754]],\n",
       "\n",
       "        ...,\n",
       "\n",
       "        [[0.4640, 0.4620, 0.2975],\n",
       "         [0.6823, 0.4246, 0.6237],\n",
       "         [0.5298, 0.3422, 0.7147],\n",
       "         ...,\n",
       "         [0.4658, 0.9202, 0.3903],\n",
       "         [0.6957, 0.7546, 0.7635],\n",
       "         [0.8294, 0.9470, 0.1084]],\n",
       "\n",
       "        [[0.4244, 0.5493, 0.8855],\n",
       "         [0.7232, 0.6098, 0.8831],\n",
       "         [0.5222, 0.8278, 0.6701],\n",
       "         ...,\n",
       "         [0.0017, 0.4026, 0.4362],\n",
       "         [0.9182, 0.2371, 0.0459],\n",
       "         [0.5689, 0.5088, 0.4082]],\n",
       "\n",
       "        [[0.2984, 0.2902, 0.3945],\n",
       "         [0.6869, 0.5536, 0.6490],\n",
       "         [0.2192, 0.6358, 0.0816],\n",
       "         ...,\n",
       "         [0.8573, 0.9465, 0.3899],\n",
       "         [0.6322, 0.1699, 0.3659],\n",
       "         [0.3598, 0.3427, 0.3770]]])"
      ]
     },
     "execution_count": 32,
     "metadata": {},
     "output_type": "execute_result"
    }
   ],
   "source": [
    "random_image_size_tensor = torch.rand(size=(224,224,3))\n",
    "random_image_size_tensor"
   ]
  },
  {
   "cell_type": "code",
   "execution_count": 35,
   "metadata": {},
   "outputs": [
    {
     "data": {
      "text/plain": [
       "tensor([[0., 0., 0.],\n",
       "        [0., 0., 0.],\n",
       "        [0., 0., 0.],\n",
       "        [0., 0., 0.]])"
      ]
     },
     "execution_count": 35,
     "metadata": {},
     "output_type": "execute_result"
    }
   ],
   "source": [
    "torch.zeros(size=(4,3))"
   ]
  },
  {
   "cell_type": "code",
   "execution_count": 37,
   "metadata": {},
   "outputs": [
    {
     "data": {
      "text/plain": [
       "tensor([[1., 1., 1., 1., 1.],\n",
       "        [1., 1., 1., 1., 1.],\n",
       "        [1., 1., 1., 1., 1.],\n",
       "        [1., 1., 1., 1., 1.],\n",
       "        [1., 1., 1., 1., 1.]])"
      ]
     },
     "execution_count": 37,
     "metadata": {},
     "output_type": "execute_result"
    }
   ],
   "source": [
    "torch.ones(size=(5,5))"
   ]
  },
  {
   "cell_type": "code",
   "execution_count": 40,
   "metadata": {},
   "outputs": [
    {
     "data": {
      "text/plain": [
       "tensor([1, 3, 5, 7, 9])"
      ]
     },
     "execution_count": 40,
     "metadata": {},
     "output_type": "execute_result"
    }
   ],
   "source": [
    "torch.arange(1,10,2)"
   ]
  },
  {
   "cell_type": "code",
   "execution_count": 53,
   "metadata": {},
   "outputs": [],
   "source": [
    "one_to_twenty = torch.arange(1,21,1)"
   ]
  },
  {
   "cell_type": "code",
   "execution_count": 57,
   "metadata": {},
   "outputs": [
    {
     "data": {
      "text/plain": [
       "tensor([0.4523, 0.4682, 0.6402, 0.6285, 0.2633, 0.8255, 0.5081, 0.6619, 0.7425,\n",
       "        0.4254, 0.5185, 0.6577, 0.2935, 0.3122, 0.5453, 0.0024, 0.8257, 0.8312,\n",
       "        0.1194, 0.8793])"
      ]
     },
     "execution_count": 57,
     "metadata": {},
     "output_type": "execute_result"
    }
   ],
   "source": [
    "torch.rand_like(one_to_twenty,dtype=torch.float)"
   ]
  }
 ],
 "metadata": {
  "kernelspec": {
   "display_name": ".venv",
   "language": "python",
   "name": "python3"
  },
  "language_info": {
   "codemirror_mode": {
    "name": "ipython",
    "version": 3
   },
   "file_extension": ".py",
   "mimetype": "text/x-python",
   "name": "python",
   "nbconvert_exporter": "python",
   "pygments_lexer": "ipython3",
   "version": "3.10.11"
  }
 },
 "nbformat": 4,
 "nbformat_minor": 2
}
