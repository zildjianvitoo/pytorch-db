{
 "cells": [
  {
   "cell_type": "code",
   "execution_count": 2,
   "metadata": {},
   "outputs": [],
   "source": [
    "import pandas as pd\n",
    "import matplotlib.pyplot as plt\n",
    "import numpy as np\n",
    "import torch"
   ]
  },
  {
   "cell_type": "markdown",
   "metadata": {},
   "source": [
    "### Intro to tensors"
   ]
  },
  {
   "cell_type": "code",
   "execution_count": 3,
   "metadata": {},
   "outputs": [
    {
     "data": {
      "text/plain": [
       "tensor(7)"
      ]
     },
     "execution_count": 3,
     "metadata": {},
     "output_type": "execute_result"
    }
   ],
   "source": [
    "scalar = torch.tensor(7)\n",
    "scalar"
   ]
  },
  {
   "cell_type": "code",
   "execution_count": 4,
   "metadata": {},
   "outputs": [],
   "source": [
    "vector = torch.tensor([1,2,3,4])"
   ]
  },
  {
   "cell_type": "code",
   "execution_count": 5,
   "metadata": {},
   "outputs": [
    {
     "data": {
      "text/plain": [
       "1"
      ]
     },
     "execution_count": 5,
     "metadata": {},
     "output_type": "execute_result"
    }
   ],
   "source": [
    "vector.ndim"
   ]
  },
  {
   "cell_type": "code",
   "execution_count": 6,
   "metadata": {},
   "outputs": [
    {
     "data": {
      "text/plain": [
       "torch.Size([4])"
      ]
     },
     "execution_count": 6,
     "metadata": {},
     "output_type": "execute_result"
    }
   ],
   "source": [
    "vector.shape"
   ]
  },
  {
   "cell_type": "code",
   "execution_count": 7,
   "metadata": {},
   "outputs": [
    {
     "data": {
      "text/plain": [
       "tensor([[1, 2, 3],\n",
       "        [4, 5, 6]])"
      ]
     },
     "execution_count": 7,
     "metadata": {},
     "output_type": "execute_result"
    }
   ],
   "source": [
    "MATRIX = torch.tensor([[1,2,3],\n",
    "                       [4,5,6],])\n",
    "MATRIX"
   ]
  },
  {
   "cell_type": "code",
   "execution_count": 8,
   "metadata": {},
   "outputs": [
    {
     "data": {
      "text/plain": [
       "2"
      ]
     },
     "execution_count": 8,
     "metadata": {},
     "output_type": "execute_result"
    }
   ],
   "source": [
    "MATRIX.ndim"
   ]
  },
  {
   "cell_type": "code",
   "execution_count": 9,
   "metadata": {},
   "outputs": [
    {
     "data": {
      "text/plain": [
       "torch.Size([2, 3])"
      ]
     },
     "execution_count": 9,
     "metadata": {},
     "output_type": "execute_result"
    }
   ],
   "source": [
    "MATRIX.shape"
   ]
  },
  {
   "cell_type": "code",
   "execution_count": 10,
   "metadata": {},
   "outputs": [
    {
     "data": {
      "text/plain": [
       "tensor([[[1, 2, 3],\n",
       "         [4, 5, 6],\n",
       "         [7, 8, 9]]])"
      ]
     },
     "execution_count": 10,
     "metadata": {},
     "output_type": "execute_result"
    }
   ],
   "source": [
    "TENSOR = torch.tensor([[[1,2,3],[4,5,6],[7,8,9]]])\n",
    "TENSOR"
   ]
  },
  {
   "cell_type": "code",
   "execution_count": 11,
   "metadata": {},
   "outputs": [
    {
     "data": {
      "text/plain": [
       "3"
      ]
     },
     "execution_count": 11,
     "metadata": {},
     "output_type": "execute_result"
    }
   ],
   "source": [
    "TENSOR.ndim"
   ]
  },
  {
   "cell_type": "code",
   "execution_count": 12,
   "metadata": {},
   "outputs": [
    {
     "data": {
      "text/plain": [
       "torch.Size([1, 3, 3])"
      ]
     },
     "execution_count": 12,
     "metadata": {},
     "output_type": "execute_result"
    }
   ],
   "source": [
    "TENSOR.shape"
   ]
  },
  {
   "cell_type": "code",
   "execution_count": 13,
   "metadata": {},
   "outputs": [
    {
     "data": {
      "text/plain": [
       "tensor([[1, 2, 3],\n",
       "        [4, 5, 6],\n",
       "        [7, 8, 9]])"
      ]
     },
     "execution_count": 13,
     "metadata": {},
     "output_type": "execute_result"
    }
   ],
   "source": [
    "TENSOR[0]"
   ]
  },
  {
   "cell_type": "markdown",
   "metadata": {},
   "source": [
    "### Random Tensors"
   ]
  },
  {
   "cell_type": "code",
   "execution_count": 14,
   "metadata": {},
   "outputs": [
    {
     "data": {
      "text/plain": [
       "tensor([[0.5094, 0.9839, 0.9683, 0.4783],\n",
       "        [0.9351, 0.6071, 0.6405, 0.6456],\n",
       "        [0.8107, 0.7072, 0.1392, 0.6720]])"
      ]
     },
     "execution_count": 14,
     "metadata": {},
     "output_type": "execute_result"
    }
   ],
   "source": [
    "torch.rand(3,4)"
   ]
  },
  {
   "cell_type": "code",
   "execution_count": 15,
   "metadata": {},
   "outputs": [
    {
     "data": {
      "text/plain": [
       "tensor([[0.4837, 0.1616, 0.4678, 0.2261, 0.6404, 0.7535, 0.0552, 0.9175, 0.3741,\n",
       "         0.1886],\n",
       "        [0.3206, 0.7783, 0.1013, 0.1268, 0.2796, 0.5126, 0.2172, 0.0913, 0.1365,\n",
       "         0.1790],\n",
       "        [0.3111, 0.0573, 0.6271, 0.8695, 0.9929, 0.6200, 0.6814, 0.2218, 0.3727,\n",
       "         0.0708],\n",
       "        [0.2901, 0.5373, 0.5883, 0.1578, 0.2441, 0.0594, 0.4020, 0.2041, 0.6780,\n",
       "         0.8761],\n",
       "        [0.3594, 0.0521, 0.8448, 0.6782, 0.5807, 0.5157, 0.5551, 0.1884, 0.3109,\n",
       "         0.3768],\n",
       "        [0.5794, 0.2473, 0.3044, 0.0678, 0.4928, 0.7795, 0.7079, 0.5280, 0.4440,\n",
       "         0.2785],\n",
       "        [0.7356, 0.2706, 0.0907, 0.2175, 0.4317, 0.2949, 0.4118, 0.8979, 0.8570,\n",
       "         0.5848],\n",
       "        [0.5082, 0.5364, 0.7796, 0.3003, 0.2698, 0.4554, 0.1648, 0.3174, 0.4603,\n",
       "         0.5509],\n",
       "        [0.1515, 0.2824, 0.0876, 0.7646, 0.9189, 0.4913, 0.1556, 0.0945, 0.0109,\n",
       "         0.3583],\n",
       "        [0.6345, 0.2189, 0.4379, 0.1369, 0.1526, 0.4845, 0.4046, 0.9426, 0.1132,\n",
       "         0.3974]])"
      ]
     },
     "execution_count": 15,
     "metadata": {},
     "output_type": "execute_result"
    }
   ],
   "source": [
    "torch.rand(10,10)"
   ]
  },
  {
   "cell_type": "code",
   "execution_count": 16,
   "metadata": {},
   "outputs": [
    {
     "data": {
      "text/plain": [
       "tensor([[[0.9402, 0.9081, 0.0298],\n",
       "         [0.1883, 0.2816, 0.6137],\n",
       "         [0.1712, 0.5998, 0.2551],\n",
       "         ...,\n",
       "         [0.7476, 0.8078, 0.5400],\n",
       "         [0.7015, 0.9258, 0.5110],\n",
       "         [0.8584, 0.5207, 0.4557]],\n",
       "\n",
       "        [[0.9520, 0.5322, 0.2519],\n",
       "         [0.6212, 0.5408, 0.0998],\n",
       "         [0.2574, 0.3712, 0.2162],\n",
       "         ...,\n",
       "         [0.9268, 0.1670, 0.8533],\n",
       "         [0.2669, 0.2321, 0.4055],\n",
       "         [0.4400, 0.3047, 0.0142]],\n",
       "\n",
       "        [[0.7395, 0.9433, 0.4935],\n",
       "         [0.4932, 0.2155, 0.4317],\n",
       "         [0.3119, 0.4350, 0.8774],\n",
       "         ...,\n",
       "         [0.4260, 0.7355, 0.0838],\n",
       "         [0.4125, 0.8143, 0.7588],\n",
       "         [0.7341, 0.7379, 0.8566]],\n",
       "\n",
       "        ...,\n",
       "\n",
       "        [[0.9887, 0.2800, 0.4768],\n",
       "         [0.0138, 0.8736, 0.5620],\n",
       "         [0.2191, 0.7250, 0.6035],\n",
       "         ...,\n",
       "         [0.5184, 0.7848, 0.7468],\n",
       "         [0.6289, 0.4357, 0.1716],\n",
       "         [0.4878, 0.9098, 0.8949]],\n",
       "\n",
       "        [[0.5639, 0.6903, 0.1301],\n",
       "         [0.4857, 0.3917, 0.9698],\n",
       "         [0.7934, 0.2372, 0.9977],\n",
       "         ...,\n",
       "         [0.5903, 0.6376, 0.3760],\n",
       "         [0.7171, 0.6001, 0.4720],\n",
       "         [0.3549, 0.3467, 0.3607]],\n",
       "\n",
       "        [[0.8446, 0.5246, 0.2556],\n",
       "         [0.8718, 0.6174, 0.2973],\n",
       "         [0.1323, 0.6278, 0.7493],\n",
       "         ...,\n",
       "         [0.7856, 0.2154, 0.3556],\n",
       "         [0.6094, 0.3330, 0.7784],\n",
       "         [0.2642, 0.5443, 0.2060]]])"
      ]
     },
     "execution_count": 16,
     "metadata": {},
     "output_type": "execute_result"
    }
   ],
   "source": [
    "random_image_size_tensor = torch.rand(size=(224,224,3))\n",
    "random_image_size_tensor"
   ]
  },
  {
   "cell_type": "code",
   "execution_count": 17,
   "metadata": {},
   "outputs": [
    {
     "data": {
      "text/plain": [
       "tensor([[0., 0., 0.],\n",
       "        [0., 0., 0.],\n",
       "        [0., 0., 0.],\n",
       "        [0., 0., 0.]])"
      ]
     },
     "execution_count": 17,
     "metadata": {},
     "output_type": "execute_result"
    }
   ],
   "source": [
    "torch.zeros(size=(4,3))"
   ]
  },
  {
   "cell_type": "code",
   "execution_count": 18,
   "metadata": {},
   "outputs": [
    {
     "data": {
      "text/plain": [
       "tensor([[1., 1., 1., 1., 1.],\n",
       "        [1., 1., 1., 1., 1.],\n",
       "        [1., 1., 1., 1., 1.],\n",
       "        [1., 1., 1., 1., 1.],\n",
       "        [1., 1., 1., 1., 1.]])"
      ]
     },
     "execution_count": 18,
     "metadata": {},
     "output_type": "execute_result"
    }
   ],
   "source": [
    "torch.ones(size=(5,5))"
   ]
  },
  {
   "cell_type": "code",
   "execution_count": 19,
   "metadata": {},
   "outputs": [
    {
     "data": {
      "text/plain": [
       "tensor([1, 3, 5, 7, 9])"
      ]
     },
     "execution_count": 19,
     "metadata": {},
     "output_type": "execute_result"
    }
   ],
   "source": [
    "torch.arange(1,10,2)"
   ]
  },
  {
   "cell_type": "code",
   "execution_count": 20,
   "metadata": {},
   "outputs": [],
   "source": [
    "one_to_twenty = torch.arange(1,21,1)"
   ]
  },
  {
   "cell_type": "code",
   "execution_count": 21,
   "metadata": {},
   "outputs": [
    {
     "data": {
      "text/plain": [
       "tensor([0.6203, 0.9952, 0.7744, 0.8060, 0.0892, 0.8010, 0.0053, 0.8652, 0.0542,\n",
       "        0.0254, 0.6314, 0.4162, 0.0636, 0.6772, 0.9206, 0.3745, 0.9601, 0.2570,\n",
       "        0.8487, 0.4144])"
      ]
     },
     "execution_count": 21,
     "metadata": {},
     "output_type": "execute_result"
    }
   ],
   "source": [
    "torch.rand_like(one_to_twenty,dtype=torch.float)"
   ]
  },
  {
   "cell_type": "code",
   "execution_count": 22,
   "metadata": {},
   "outputs": [
    {
     "data": {
      "text/plain": [
       "torch.float32"
      ]
     },
     "execution_count": 22,
     "metadata": {},
     "output_type": "execute_result"
    }
   ],
   "source": [
    "float_32_tensor = torch.tensor(data=[1.0,2.0,3.0],dtype=torch.float32,device=\"cuda\")\n",
    "float_32_tensor.dtype"
   ]
  },
  {
   "cell_type": "code",
   "execution_count": 23,
   "metadata": {},
   "outputs": [
    {
     "data": {
      "text/plain": [
       "tensor([1., 2., 3.], device='cuda:0', dtype=torch.float16)"
      ]
     },
     "execution_count": 23,
     "metadata": {},
     "output_type": "execute_result"
    }
   ],
   "source": [
    "float_16_tensor = float_32_tensor.type(dtype=torch.float16)\n",
    "float_16_tensor"
   ]
  },
  {
   "cell_type": "code",
   "execution_count": 24,
   "metadata": {},
   "outputs": [
    {
     "data": {
      "text/plain": [
       "tensor([2., 4., 6.], device='cuda:0')"
      ]
     },
     "execution_count": 24,
     "metadata": {},
     "output_type": "execute_result"
    }
   ],
   "source": [
    "float_16_tensor + float_32_tensor"
   ]
  },
  {
   "cell_type": "code",
   "execution_count": 25,
   "metadata": {},
   "outputs": [
    {
     "data": {
      "text/plain": [
       "tensor(14, device='cuda:0', dtype=torch.uint32)"
      ]
     },
     "execution_count": 25,
     "metadata": {},
     "output_type": "execute_result"
    }
   ],
   "source": [
    "result = float_32_tensor @ float_32_tensor\n",
    "\n",
    "result = result.type(dtype=torch.uint32)\n",
    "result"
   ]
  },
  {
   "cell_type": "code",
   "execution_count": 26,
   "metadata": {},
   "outputs": [
    {
     "data": {
      "text/plain": [
       "tensor([[5, 1, 2],\n",
       "        [3, 5, 5],\n",
       "        [4, 2, 2]], device='cuda:0')"
      ]
     },
     "execution_count": 26,
     "metadata": {},
     "output_type": "execute_result"
    }
   ],
   "source": [
    "torch.seed()\n",
    "tensor = torch.randint(1,10,size=(3,3),device=\"cuda\")\n",
    "tensor"
   ]
  },
  {
   "cell_type": "code",
   "execution_count": 27,
   "metadata": {},
   "outputs": [
    {
     "name": "stdout",
     "output_type": "stream",
     "text": [
      "Tensor datatype: torch.int64\n",
      "Tensor shape: torch.Size([3, 3])\n",
      "Tensor device: cuda:0\n"
     ]
    }
   ],
   "source": [
    "print(f\"Tensor datatype: {tensor.dtype}\")\n",
    "print(f\"Tensor shape: {tensor.shape}\")\n",
    "print(f\"Tensor device: {tensor.device}\")"
   ]
  },
  {
   "cell_type": "markdown",
   "metadata": {},
   "source": [
    "### Tensor Operation"
   ]
  },
  {
   "cell_type": "code",
   "execution_count": 28,
   "metadata": {},
   "outputs": [
    {
     "data": {
      "text/plain": [
       "tensor([11, 12, 13])"
      ]
     },
     "execution_count": 28,
     "metadata": {},
     "output_type": "execute_result"
    }
   ],
   "source": [
    "tensor = torch.tensor([1,2,3])\n",
    "tensor + 10"
   ]
  },
  {
   "cell_type": "code",
   "execution_count": 29,
   "metadata": {},
   "outputs": [
    {
     "data": {
      "text/plain": [
       "tensor([10, 20, 30])"
      ]
     },
     "execution_count": 29,
     "metadata": {},
     "output_type": "execute_result"
    }
   ],
   "source": [
    "tensor * 10"
   ]
  },
  {
   "cell_type": "code",
   "execution_count": 30,
   "metadata": {},
   "outputs": [
    {
     "data": {
      "text/plain": [
       "tensor([-9, -8, -7])"
      ]
     },
     "execution_count": 30,
     "metadata": {},
     "output_type": "execute_result"
    }
   ],
   "source": [
    "tensor - 10"
   ]
  },
  {
   "cell_type": "code",
   "execution_count": 31,
   "metadata": {},
   "outputs": [
    {
     "data": {
      "text/plain": [
       "tensor(14)"
      ]
     },
     "execution_count": 31,
     "metadata": {},
     "output_type": "execute_result"
    }
   ],
   "source": [
    "tensor @ tensor"
   ]
  },
  {
   "cell_type": "code",
   "execution_count": 32,
   "metadata": {},
   "outputs": [],
   "source": [
    "tensor_3x2 = torch.tensor([[1,2],\n",
    "                           [3,4],\n",
    "                           [5,6]])\n",
    "\n",
    "tensor_3x2_2 = torch.tensor([[1, 2], [3, 4], [5, 6]],s)"
   ]
  },
  {
   "cell_type": "code",
   "execution_count": 33,
   "metadata": {},
   "outputs": [
    {
     "data": {
      "text/plain": [
       "tensor([[ 5, 11, 17],\n",
       "        [11, 25, 39],\n",
       "        [17, 39, 61]])"
      ]
     },
     "execution_count": 33,
     "metadata": {},
     "output_type": "execute_result"
    }
   ],
   "source": [
    "tensor_3x2 @ tensor_3x2_2.T"
   ]
  },
  {
   "cell_type": "code",
   "execution_count": 34,
   "metadata": {},
   "outputs": [
    {
     "data": {
      "text/plain": [
       "tensor([[ 5, 11, 17],\n",
       "        [11, 25, 39],\n",
       "        [17, 39, 61]])"
      ]
     },
     "execution_count": 34,
     "metadata": {},
     "output_type": "execute_result"
    }
   ],
   "source": [
    "torch.matmul(tensor_3x2,tensor_3x2_2.T)"
   ]
  },
  {
   "cell_type": "code",
   "execution_count": 44,
   "metadata": {},
   "outputs": [
    {
     "data": {
      "text/plain": [
       "tensor([[0.1980, 0.4503, 0.0909],\n",
       "        [0.8872, 0.2894, 0.0186],\n",
       "        [0.9095, 0.3406, 0.4309],\n",
       "        [0.7324, 0.4776, 0.0716]])"
      ]
     },
     "execution_count": 44,
     "metadata": {},
     "output_type": "execute_result"
    }
   ],
   "source": [
    "torch.manual_seed(101)\n",
    "\n",
    "torch.rand(4,3)"
   ]
  },
  {
   "cell_type": "code",
   "execution_count": 45,
   "metadata": {},
   "outputs": [
    {
     "data": {
      "text/plain": [
       "tensor([[0.7521, 1.1363, 0.8183, 0.9253],\n",
       "        [0.3534, 0.7554, 0.5626, 0.7244],\n",
       "        [0.7583, 0.9013, 0.6975, 0.6621],\n",
       "        [0.3791, 0.4298, 0.2997, 0.2809]])"
      ]
     },
     "execution_count": 45,
     "metadata": {},
     "output_type": "execute_result"
    }
   ],
   "source": [
    "torch.matmul(torch.rand(4,3), torch.rand(3,4))"
   ]
  },
  {
   "cell_type": "code",
   "execution_count": 59,
   "metadata": {},
   "outputs": [
    {
     "name": "stdout",
     "output_type": "stream",
     "text": [
      "input shape: torch.Size([3, 2])\n",
      "Output:\n",
      "tensor([[0.9332, 0.8805, 3.0149, 1.5545, 1.8186, 2.0634],\n",
      "        [1.7186, 1.4009, 3.5818, 1.7408, 2.6017, 2.5123]],\n",
      "       grad_fn=<AddmmBackward0>) \n",
      " output shape: torch.Size([2, 6]) \n"
     ]
    }
   ],
   "source": [
    "torch.manual_seed(42)\n",
    "tensorA = torch.tensor(data=[[1, 2], [3, 4], [5, 6]],dtype=torch.float32)\n",
    "\n",
    "linear = torch.nn.Linear(in_features=3,out_features=6,dtype=torch.float32)\n",
    "\n",
    "x= tensorA\n",
    "output= linear(x.T)\n",
    "print(f\"input shape: {x.shape}\")\n",
    "print(f\"Output:\\n{output} \\n output shape: {output.shape} \")"
   ]
  },
  {
   "cell_type": "code",
   "execution_count": 73,
   "metadata": {},
   "outputs": [
    {
     "data": {
      "text/plain": [
       "tensor([ 0, 10, 20, 30, 40, 50, 60, 70, 80, 90])"
      ]
     },
     "execution_count": 73,
     "metadata": {},
     "output_type": "execute_result"
    }
   ],
   "source": [
    "x = torch.arange(0,100,10)\n",
    "x"
   ]
  },
  {
   "cell_type": "code",
   "execution_count": 74,
   "metadata": {},
   "outputs": [
    {
     "name": "stdout",
     "output_type": "stream",
     "text": [
      "min x adalah: 0\n",
      "max x adalah : 90\n",
      "mean x adalah: 45.0\n",
      "sum x adalah: 450\n"
     ]
    }
   ],
   "source": [
    "print(f\"min x adalah: {x.min()}\")\n",
    "print(f\"max x adalah : {x.max()}\")\n",
    "print(f\"mean x adalah: {x.mean(dtype=torch.float32)}\")\n",
    "print(f\"sum x adalah: {x.sum()}\")"
   ]
  },
  {
   "cell_type": "code",
   "execution_count": 76,
   "metadata": {},
   "outputs": [
    {
     "name": "stdout",
     "output_type": "stream",
     "text": [
      "index min x adalah: 0\n",
      "index max x adalah: 9\n"
     ]
    }
   ],
   "source": [
    "print(f\"index min x adalah: {x.argmin()}\")\n",
    "print(f\"index max x adalah: {x.argmax()}\")"
   ]
  }
 ],
 "metadata": {
  "kernelspec": {
   "display_name": ".venv",
   "language": "python",
   "name": "python3"
  },
  "language_info": {
   "codemirror_mode": {
    "name": "ipython",
    "version": 3
   },
   "file_extension": ".py",
   "mimetype": "text/x-python",
   "name": "python",
   "nbconvert_exporter": "python",
   "pygments_lexer": "ipython3",
   "version": "3.10.11"
  }
 },
 "nbformat": 4,
 "nbformat_minor": 2
}
